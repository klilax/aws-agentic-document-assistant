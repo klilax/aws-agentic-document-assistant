{
 "cells": [
  {
   "cell_type": "markdown",
   "id": "b48efd6e-52ed-4499-aedf-2ed70b7b69b8",
   "metadata": {},
   "source": [
    "# 03 - Document processing: PDF to Plaintext and tables\n",
    "This notebook will help you to convert your PDF documents into plaintext.\n",
    "\n",
    "Requirements:\n",
    "- The PDF documents need to be stored in an S3 bucket\n",
    "- Access to AWS Textract\n",
    "\n",
    "Features:\n",
    "- Supports electronic and scanned PDF documents\n",
    "- Also extracts tables included in your PDF documents\n",
    "\n",
    "Limitations:\n",
    "- Pages are processed seperately and hence context from one page to another can be lost, multi-page tables are not extracted correctly for the same reason"
   ]
  },
  {
   "cell_type": "markdown",
   "id": "181bdbc9-eeb9-4498-a174-e48abe2afe5f",
   "metadata": {},
   "source": [
    "To demonstrate the use case we have made some documents available that you can use. <br>\n",
    "These documents are the annual reports of several large marine logistics companies and they can be found in the `financial_reports` folder.\n",
    "If the `financial_reports` folder is empty or absent, run the `02-download-raw-pdf-documents` notebook to download the sample documents."
   ]
  },
  {
   "cell_type": "code",
   "execution_count": 1,
   "id": "8a4b358e-8cf0-43f1-abd8-3b64c971a25b",
   "metadata": {
    "tags": []
   },
   "outputs": [],
   "source": [
    "import os\n",
    "import boto3\n",
    "\n",
    "\n",
    "# Method that will upload the financial reports to S3\n",
    "def upload_files_with_metadata(bucket_name, s3_key_base, prepared_pdfs_metadata):\n",
    "    s3_client = boto3.client(\"s3\")\n",
    "\n",
    "    for pdf_metadata in prepared_pdfs_metadata:\n",
    "        local_file_path = pdf_metadata[\"local_pdf_path\"]\n",
    "        del pdf_metadata[\"local_pdf_path\"]\n",
    "        # Prepare S3 object key with the same folder structure\n",
    "        company = pdf_metadata[\"company\"]\n",
    "        filename = local_file_path.split(\"/\")[-1]\n",
    "        s3_object_key = os.path.join(s3_key_base, company, filename)\n",
    "        print(pdf_metadata)\n",
    "\n",
    "        pdf_metadata[\"pages_kept\"] = str(pdf_metadata[\"pages_kept\"])\n",
    "        # Upload the file to S3 with metadata\n",
    "        with open(local_file_path, \"rb\") as f:\n",
    "            s3_client.upload_fileobj(\n",
    "                f, bucket_name, s3_object_key, ExtraArgs={\"Metadata\": pdf_metadata}\n",
    "            )"
   ]
  },
  {
   "cell_type": "markdown",
   "id": "ad300892-ebef-4d9d-82a5-91cf30c7324b",
   "metadata": {},
   "source": [
    "Make sure to attach the IAM Policy ARN in the output of the CDK stack to the SageMaker Execution Role used in this SageMaker Studio environment. This policy contains all the permissions required to read the parameters from AWS System Manager (SSM) among others.\n",
    "\n",
    "The IAM Policy will follow the template below:\n",
    "\n",
    "```\n",
    "arn:aws:iam::{aws_account_id}:policy/AssistantBackendStack-sageMakerPostgresDBAccessIAMPolicyXXXXX-XXXXXX\"\n",
    "```\n",
    "\n",
    "You can identify the current SageMaker Execution role programmatically by running the following cell"
   ]
  },
  {
   "cell_type": "code",
   "execution_count": 2,
   "id": "fab5e55a-2f68-47bf-9b11-f8e14e7bd49b",
   "metadata": {
    "tags": []
   },
   "outputs": [
    {
     "name": "stdout",
     "output_type": "stream",
     "text": [
      "sagemaker.config INFO - Not applying SDK defaults from location: /etc/xdg/sagemaker/config.yaml\n",
      "sagemaker.config INFO - Not applying SDK defaults from location: /home/sagemaker-user/.config/sagemaker/config.yaml\n",
      "sagemaker.config INFO - Not applying SDK defaults from location: /etc/xdg/sagemaker/config.yaml\n",
      "sagemaker.config INFO - Not applying SDK defaults from location: /home/sagemaker-user/.config/sagemaker/config.yaml\n"
     ]
    },
    {
     "data": {
      "text/plain": [
       "'arn:aws:iam::774802577438:role/aws-SageMaker-fullAccessRole'"
      ]
     },
     "execution_count": 2,
     "metadata": {},
     "output_type": "execute_result"
    }
   ],
   "source": [
    "import sagemaker\n",
    "\n",
    "sagemaker.get_execution_role()"
   ]
  },
  {
   "cell_type": "code",
   "execution_count": 4,
   "id": "ea8ba8c7-5d9a-4dff-995d-6ad37acc4555",
   "metadata": {
    "tags": []
   },
   "outputs": [],
   "source": [
    "import boto3\n",
    "\n",
    "ssm_client = boto3.client(\"ssm\")\n",
    "\n",
    "s3_bucket_name_parameter = \"/AgenticLLMAssistant/AgentDataBucketParameter\"\n",
    "\n",
    "S3_BUCKET_NAME = ssm_client.get_parameter(Name=s3_bucket_name_parameter)\n",
    "S3_BUCKET_NAME = S3_BUCKET_NAME[\"Parameter\"][\"Value\"]"
   ]
  },
  {
   "cell_type": "code",
   "execution_count": 5,
   "id": "f196001f-763f-4154-83a0-5b987bd67113",
   "metadata": {
    "tags": []
   },
   "outputs": [
    {
     "data": {
      "text/plain": [
       "'raw_documents/prepared/'"
      ]
     },
     "execution_count": 5,
     "metadata": {},
     "output_type": "execute_result"
    }
   ],
   "source": [
    "# Upload the financial reports to your bucket in S3 and add relevant metadata\n",
    "s3_key_base = \"prepared_pdf_documents\"\n",
    "# prepared_base_directory = \"financial_reports/prepared/\"\n",
    "raw_base_directory = \"raw_documents\"\n",
    "prepared_base_directory = os.path.join(raw_base_directory, \"prepared/\")\n",
    "prepared_base_directory"
   ]
  },
  {
   "cell_type": "code",
   "execution_count": 6,
   "id": "06c1b1ec-ef4b-407a-9d99-93f0ee4880cf",
   "metadata": {
    "tags": []
   },
   "outputs": [
    {
     "ename": "FileNotFoundError",
     "evalue": "[Errno 2] No such file or directory: 'raw_documents/prepared/metadata.json'",
     "output_type": "error",
     "traceback": [
      "\u001b[0;31m---------------------------------------------------------------------------\u001b[0m",
      "\u001b[0;31mFileNotFoundError\u001b[0m                         Traceback (most recent call last)",
      "Cell \u001b[0;32mIn[6], line 3\u001b[0m\n\u001b[1;32m      1\u001b[0m \u001b[38;5;28;01mimport\u001b[39;00m \u001b[38;5;21;01mjson\u001b[39;00m\n\u001b[0;32m----> 3\u001b[0m \u001b[38;5;28;01mwith\u001b[39;00m \u001b[38;5;28;43mopen\u001b[39;49m\u001b[43m(\u001b[49m\n\u001b[1;32m      4\u001b[0m \u001b[43m    \u001b[49m\u001b[43mos\u001b[49m\u001b[38;5;241;43m.\u001b[39;49m\u001b[43mpath\u001b[49m\u001b[38;5;241;43m.\u001b[39;49m\u001b[43mjoin\u001b[49m\u001b[43m(\u001b[49m\u001b[43mprepared_base_directory\u001b[49m\u001b[43m,\u001b[49m\u001b[43m \u001b[49m\u001b[38;5;124;43m\"\u001b[39;49m\u001b[38;5;124;43mmetadata.json\u001b[39;49m\u001b[38;5;124;43m\"\u001b[39;49m\u001b[43m)\u001b[49m\u001b[43m,\u001b[49m\u001b[43m \u001b[49m\u001b[38;5;124;43m\"\u001b[39;49m\u001b[38;5;124;43mr\u001b[39;49m\u001b[38;5;124;43m\"\u001b[39;49m\n\u001b[1;32m      5\u001b[0m \u001b[43m)\u001b[49m \u001b[38;5;28;01mas\u001b[39;00m prepared_pdfs_metadata_obj:\n\u001b[1;32m      6\u001b[0m     prepared_pdfs_metadata \u001b[38;5;241m=\u001b[39m json\u001b[38;5;241m.\u001b[39mload(prepared_pdfs_metadata_obj)\n\u001b[1;32m      8\u001b[0m prepared_pdfs_metadata\n",
      "File \u001b[0;32m/opt/conda/lib/python3.10/site-packages/IPython/core/interactiveshell.py:310\u001b[0m, in \u001b[0;36m_modified_open\u001b[0;34m(file, *args, **kwargs)\u001b[0m\n\u001b[1;32m    303\u001b[0m \u001b[38;5;28;01mif\u001b[39;00m file \u001b[38;5;129;01min\u001b[39;00m {\u001b[38;5;241m0\u001b[39m, \u001b[38;5;241m1\u001b[39m, \u001b[38;5;241m2\u001b[39m}:\n\u001b[1;32m    304\u001b[0m     \u001b[38;5;28;01mraise\u001b[39;00m \u001b[38;5;167;01mValueError\u001b[39;00m(\n\u001b[1;32m    305\u001b[0m         \u001b[38;5;124mf\u001b[39m\u001b[38;5;124m\"\u001b[39m\u001b[38;5;124mIPython won\u001b[39m\u001b[38;5;124m'\u001b[39m\u001b[38;5;124mt let you open fd=\u001b[39m\u001b[38;5;132;01m{\u001b[39;00mfile\u001b[38;5;132;01m}\u001b[39;00m\u001b[38;5;124m by default \u001b[39m\u001b[38;5;124m\"\u001b[39m\n\u001b[1;32m    306\u001b[0m         \u001b[38;5;124m\"\u001b[39m\u001b[38;5;124mas it is likely to crash IPython. If you know what you are doing, \u001b[39m\u001b[38;5;124m\"\u001b[39m\n\u001b[1;32m    307\u001b[0m         \u001b[38;5;124m\"\u001b[39m\u001b[38;5;124myou can use builtins\u001b[39m\u001b[38;5;124m'\u001b[39m\u001b[38;5;124m open.\u001b[39m\u001b[38;5;124m\"\u001b[39m\n\u001b[1;32m    308\u001b[0m     )\n\u001b[0;32m--> 310\u001b[0m \u001b[38;5;28;01mreturn\u001b[39;00m \u001b[43mio_open\u001b[49m\u001b[43m(\u001b[49m\u001b[43mfile\u001b[49m\u001b[43m,\u001b[49m\u001b[43m \u001b[49m\u001b[38;5;241;43m*\u001b[39;49m\u001b[43margs\u001b[49m\u001b[43m,\u001b[49m\u001b[43m \u001b[49m\u001b[38;5;241;43m*\u001b[39;49m\u001b[38;5;241;43m*\u001b[39;49m\u001b[43mkwargs\u001b[49m\u001b[43m)\u001b[49m\n",
      "\u001b[0;31mFileNotFoundError\u001b[0m: [Errno 2] No such file or directory: 'raw_documents/prepared/metadata.json'"
     ]
    }
   ],
   "source": [
    "import json\n",
    "\n",
    "with open(\n",
    "    os.path.join(prepared_base_directory, \"metadata.json\"), \"r\"\n",
    ") as prepared_pdfs_metadata_obj:\n",
    "    prepared_pdfs_metadata = json.load(prepared_pdfs_metadata_obj)\n",
    "\n",
    "prepared_pdfs_metadata"
   ]
  },
  {
   "cell_type": "code",
   "execution_count": null,
   "id": "265f0bce-c018-45e8-aa53-652e301567e4",
   "metadata": {
    "tags": []
   },
   "outputs": [],
   "source": [
    "ls {prepared_base_directory}"
   ]
  },
  {
   "cell_type": "code",
   "execution_count": null,
   "id": "e81c76a4-4285-4d5c-98b6-e1119d1baae9",
   "metadata": {
    "tags": []
   },
   "outputs": [],
   "source": [
    "upload_files_with_metadata(S3_BUCKET_NAME, s3_key_base, prepared_pdfs_metadata)"
   ]
  },
  {
   "cell_type": "code",
   "execution_count": null,
   "id": "3e5a7cf8-0682-4699-8bac-ce0fba0d0dea",
   "metadata": {
    "tags": []
   },
   "outputs": [],
   "source": [
    "!aws s3 ls {S3_BUCKET_NAME}/prepared_pdf_documents/Amazon/"
   ]
  },
  {
   "cell_type": "markdown",
   "id": "7926e7e6-856c-4e0a-81e2-07c8f49e082e",
   "metadata": {
    "tags": []
   },
   "source": [
    "## Define methods to extract data from PDF documents in S3\n",
    "\n",
    "A high level overview of the logic is that:\n",
    "\n",
    "1. We start a Textract analysis job for each of the documents in the S3 bucket using `start_analysis_jobs` and monitor their progress using `check_jobs_status` method.\n",
    "2. When they are done, we get the results using `get_job_results` which consolidates the results of the jobs and ensures that for each document we have all the extracted text for each page, seperately.\n",
    "3. The `extract_text` and `extract_tables` methods extract the text and tables present on a page.\n",
    "4. The `detect_groups` method uses clustering to determine clusters of text on the page.\n",
    "5. the found clusters are then ordered left to right and top to bottom to determine the reading order on the page.\n",
    "\n",
    "This process is depicted below:\n",
    "\n",
    "![pdf to plain text](assets/pdf-to-plain-text.png)|\n",
    "-"
   ]
  },
  {
   "cell_type": "code",
   "execution_count": 7,
   "id": "5ce80e4e-1719-4a0a-b9c2-29f79b9a3b93",
   "metadata": {
    "tags": []
   },
   "outputs": [],
   "source": [
    "import boto3\n",
    "\n",
    "client = boto3.client(\"textract\")"
   ]
  },
  {
   "cell_type": "markdown",
   "id": "fa47c5b5-db21-46de-a5d0-df22fbc10d8a",
   "metadata": {},
   "source": [
    "#### Method to start the Textract job"
   ]
  },
  {
   "cell_type": "code",
   "execution_count": 8,
   "id": "2c4bf094-8085-4392-ac57-639b9023a108",
   "metadata": {
    "tags": []
   },
   "outputs": [],
   "source": [
    "import time\n",
    "\n",
    "\n",
    "def get_s3_file_metadata(bucket_name, file_key):\n",
    "    s3 = boto3.client(\"s3\")\n",
    "\n",
    "    response = s3.head_object(Bucket=bucket_name, Key=file_key)\n",
    "\n",
    "    # Extract the metadata from the response\n",
    "    metadata = response[\"Metadata\"]\n",
    "\n",
    "    return metadata\n",
    "\n",
    "\n",
    "def start_analysis_jobs(s3_bucket, s3_object_keys):\n",
    "    client = boto3.client(\"textract\")\n",
    "    job_id_dict = {}\n",
    "\n",
    "    for key in s3_object_keys:\n",
    "        print(s3_bucket, key)\n",
    "        response = client.start_document_analysis(\n",
    "            DocumentLocation={\"S3Object\": {\"Bucket\": s3_bucket, \"Name\": key}},\n",
    "            FeatureTypes=[\"TABLES\"],\n",
    "        )\n",
    "\n",
    "        # Define the document source\n",
    "        document_source_location = f\"s3://{s3_bucket}/{key}\"\n",
    "\n",
    "        # Store the JobId for each s3 object key\n",
    "        job_id_dict[document_source_location] = {\n",
    "            \"s3_bucket\": s3_bucket,\n",
    "            \"s3_key\": key,\n",
    "            \"document_source\": document_source_location,\n",
    "            \"metadata\": get_s3_file_metadata(s3_bucket, key),\n",
    "            \"job_id\": response[\"JobId\"],\n",
    "        }\n",
    "\n",
    "    return job_id_dict\n",
    "\n",
    "\n",
    "def check_jobs_status(job_id_dict):\n",
    "    client = boto3.client(\"textract\")\n",
    "    unfinished_jobs = set([job[\"job_id\"] for job in job_id_dict.values()])\n",
    "\n",
    "    while unfinished_jobs:\n",
    "        print(f\"Documents being processed: {len(unfinished_jobs)}\\n\")\n",
    "        for job_id in list(\n",
    "            unfinished_jobs\n",
    "        ):  # We use list to avoid modifying the set during iteration\n",
    "            response = client.get_document_analysis(JobId=job_id)\n",
    "\n",
    "            status = response[\"JobStatus\"]\n",
    "            if status in [\"SUCCEEDED\", \"FAILED\"]:\n",
    "                unfinished_jobs.remove(job_id)\n",
    "\n",
    "        # To prevent rapidly hitting the API, we sleep for a short duration\n",
    "        time.sleep(5)\n",
    "\n",
    "    print(\"Finished all jobs!\")"
   ]
  },
  {
   "cell_type": "markdown",
   "id": "5755d372-3013-4451-b5fa-6aa5b49e2c7e",
   "metadata": {},
   "source": [
    "#### Method to track progress of Textract job and to extract results from response\n",
    "The results for all pages are extracted and then those belonging to the same page are combined and put into chronological order."
   ]
  },
  {
   "cell_type": "code",
   "execution_count": 9,
   "id": "32cbf927-74be-4212-a2ac-7cc1b82413e7",
   "metadata": {
    "tags": []
   },
   "outputs": [],
   "source": [
    "def get_job_results(job_id):\n",
    "    pages = {}\n",
    "    response = client.get_document_analysis(JobId=job_id)\n",
    "\n",
    "    for block in response[\"Blocks\"]:\n",
    "        if \"Page\" in block:\n",
    "            if block[\"Page\"] not in pages:\n",
    "                # If the page number has not been encountered yet, create a new list\n",
    "                pages[block[\"Page\"]] = []\n",
    "            pages[block[\"Page\"]].append(block)\n",
    "\n",
    "    next_token = None\n",
    "    if \"NextToken\" in response:\n",
    "        next_token = response[\"NextToken\"]\n",
    "\n",
    "    while next_token:\n",
    "        response = client.get_document_analysis(JobId=job_id, NextToken=next_token)\n",
    "\n",
    "        for block in response[\"Blocks\"]:\n",
    "            if \"Page\" in block:\n",
    "                if block[\"Page\"] not in pages:\n",
    "                    # If the page number has not been encountered yet, create a new list\n",
    "                    pages[block[\"Page\"]] = []\n",
    "                pages[block[\"Page\"]].append(block)\n",
    "\n",
    "        next_token = None\n",
    "        if \"NextToken\" in response:\n",
    "            next_token = response[\"NextToken\"]\n",
    "\n",
    "    # Convert dictionary to list for the return\n",
    "    # Here we are sorting the keys (page numbers) to ensure the list is in the correct order\n",
    "    pages_list = [pages[key] for key in sorted(pages.keys())]\n",
    "\n",
    "    return pages_list"
   ]
  },
  {
   "cell_type": "markdown",
   "id": "dc5399b1-a2d9-4228-96ad-4e9fb322811d",
   "metadata": {},
   "source": [
    "#### Helper method to determine how to group text to preserve reading order"
   ]
  },
  {
   "cell_type": "code",
   "execution_count": 10,
   "id": "78b85685-82b6-4ca9-92e5-afc9c1c5f8bd",
   "metadata": {
    "tags": []
   },
   "outputs": [],
   "source": [
    "from sklearn.cluster import DBSCAN\n",
    "import numpy as np\n",
    "\n",
    "\n",
    "def detect_groups(lines):\n",
    "    # Convert the left positions of the lines to a 2D numpy array.\n",
    "    X = np.array([[line[1]] for line in lines])\n",
    "\n",
    "    # Check whether X is 2D\n",
    "    if len(X.shape) != 2:\n",
    "        return []\n",
    "\n",
    "    # Use the DBSCAN algorithm to cluster the lines into groups.\n",
    "    clustering = DBSCAN(eps=0.05, min_samples=1).fit(X)\n",
    "\n",
    "    # Initialize an empty list for each group.\n",
    "    groups = [[] for _ in range(max(clustering.labels_) + 1)]\n",
    "\n",
    "    # Assign each line to the appropriate group.\n",
    "    for i, line in enumerate(lines):\n",
    "        groups[clustering.labels_[i]].append(line)\n",
    "\n",
    "    # Sort groups by their leftmost position.\n",
    "    groups.sort(key=lambda group: min(line[1] for line in group))\n",
    "\n",
    "    return groups"
   ]
  },
  {
   "cell_type": "markdown",
   "id": "87902361-a131-4401-bc43-1177364fe9db",
   "metadata": {},
   "source": [
    "#### Method to extract the text from the result"
   ]
  },
  {
   "cell_type": "code",
   "execution_count": 11,
   "id": "c58fc911-2f8c-461c-bebd-6ed3ea316568",
   "metadata": {
    "tags": []
   },
   "outputs": [],
   "source": [
    "def extract_text(blocks):\n",
    "    lines = []\n",
    "\n",
    "    for item in blocks:\n",
    "        if item[\"BlockType\"] == \"LINE\":\n",
    "            # Get the line text and its position.\n",
    "            text = item[\"Text\"]\n",
    "            left = item[\"Geometry\"][\"BoundingBox\"][\"Left\"]\n",
    "            top = item[\"Geometry\"][\"BoundingBox\"][\"Top\"]\n",
    "            lines.append((top, left, text))\n",
    "\n",
    "    # Detect groups.\n",
    "    groups = detect_groups(lines)\n",
    "\n",
    "    # Sort the lines in each group by their top position.\n",
    "    for group in groups:\n",
    "        group.sort(key=lambda x: x[0])  # sort by 'top' position\n",
    "\n",
    "    # Extract the sorted text.\n",
    "    text = \"\"\n",
    "    for group in groups:\n",
    "        for line in group:\n",
    "            text += line[2] + \"\\n\"\n",
    "\n",
    "    return text"
   ]
  },
  {
   "cell_type": "markdown",
   "id": "79f2421b-ad68-4cee-80f3-db2c5fed2640",
   "metadata": {},
   "source": [
    "#### Method to extract the tables from the result"
   ]
  },
  {
   "cell_type": "code",
   "execution_count": 12,
   "id": "02df0b31-f13b-43c0-b14b-b83bca3eb171",
   "metadata": {
    "tags": []
   },
   "outputs": [],
   "source": [
    "import pandas as pd\n",
    "\n",
    "\n",
    "# Helper method to extract text from cells\n",
    "def get_text(result, blocks_map):\n",
    "    text = \"\"\n",
    "    if \"Relationships\" in result:\n",
    "        for relationship in result[\"Relationships\"]:\n",
    "            if relationship[\"Type\"] == \"CHILD\":\n",
    "                for child_id in relationship[\"Ids\"]:\n",
    "                    word = blocks_map[child_id]\n",
    "                    if word[\"BlockType\"] == \"WORD\":\n",
    "                        text += word[\"Text\"] + \" \"\n",
    "                    if word[\"BlockType\"] == \"SELECTION_ELEMENT\":\n",
    "                        if word[\"SelectionStatus\"] == \"SELECTED\":\n",
    "                            text += \"X \"\n",
    "    return text\n",
    "\n",
    "\n",
    "# Helper method to determine table structure\n",
    "def get_rows_columns_map(table_result, blocks_map):\n",
    "    rows = {}\n",
    "    for relationship in table_result[\"Relationships\"]:\n",
    "        if relationship[\"Type\"] == \"CHILD\":\n",
    "            for child_id in relationship[\"Ids\"]:\n",
    "                cell = blocks_map[child_id]\n",
    "                if cell[\"BlockType\"] == \"CELL\":\n",
    "                    row_index = cell[\"RowIndex\"]\n",
    "                    col_index = cell[\"ColumnIndex\"]\n",
    "                    if row_index not in rows:\n",
    "                        # create new row\n",
    "                        rows[row_index] = {}\n",
    "\n",
    "                    # get the text value\n",
    "                    rows[row_index][col_index] = get_text(cell, blocks_map)\n",
    "    return rows\n",
    "\n",
    "\n",
    "# Helper method to create df from table\n",
    "def create_df(table_result, blocks_map):\n",
    "    rows = get_rows_columns_map(table_result, blocks_map)\n",
    "    data = []\n",
    "\n",
    "    # Iterate over rows\n",
    "    for row_index, cols in rows.items():\n",
    "        row = []\n",
    "        # Iterate over columns\n",
    "        for col_index, text in cols.items():\n",
    "            row.append(text)\n",
    "        data.append(row)\n",
    "\n",
    "    # Convert list of lists to DataFrame\n",
    "    df = pd.DataFrame(data)\n",
    "\n",
    "    return df\n",
    "\n",
    "\n",
    "def extract_tables(blocks):\n",
    "    blocks_map = {}\n",
    "    table_blocks = []\n",
    "    for block in blocks:\n",
    "        blocks_map[block[\"Id\"]] = block\n",
    "        if block[\"BlockType\"] == \"TABLE\":\n",
    "            table_blocks.append(block)\n",
    "\n",
    "    # Get the table extraction\n",
    "    dfs = []\n",
    "    if len(table_blocks) > 0:\n",
    "        for index, table in enumerate(table_blocks):\n",
    "            # Create the df\n",
    "            df = create_df(table, blocks_map)\n",
    "\n",
    "            # Process the extracted table\n",
    "            df = df.replace(\"\", np.nan)\n",
    "            df = df.dropna(axis=0, how=\"all\")\n",
    "            df = df.dropna(axis=1, how=\"all\")\n",
    "            df = df.replace(np.nan, \"\")\n",
    "            dfs.append(df.to_markdown())\n",
    "\n",
    "    return dfs"
   ]
  },
  {
   "cell_type": "markdown",
   "id": "de4f799d-a154-4782-97b2-78e0fd84ee7f",
   "metadata": {},
   "source": [
    "#### Method to find all documents"
   ]
  },
  {
   "cell_type": "code",
   "execution_count": 13,
   "id": "b06475df-0aff-4262-b34d-d3580f44b6f8",
   "metadata": {
    "tags": []
   },
   "outputs": [],
   "source": [
    "def list_files_in_s3_folder(bucket_name, folder_name=\"\"):\n",
    "    s3_client = boto3.client(\"s3\")\n",
    "\n",
    "    response = s3_client.list_objects_v2(Bucket=bucket_name, Prefix=folder_name)\n",
    "\n",
    "    return [obj[\"Key\"] for obj in response[\"Contents\"]]"
   ]
  },
  {
   "cell_type": "markdown",
   "id": "f6bbf9d4-8159-4ee7-8491-8c4423dabd6a",
   "metadata": {},
   "source": [
    "#### Methods to process the documents in parallel"
   ]
  },
  {
   "cell_type": "code",
   "execution_count": 14,
   "id": "9b7ff3e9-959d-43eb-a9fa-e11c9200db10",
   "metadata": {
    "tags": []
   },
   "outputs": [],
   "source": [
    "def get_document_results(job_description):\n",
    "    job_id = job_description[\"job_id\"]\n",
    "    document_name = job_description[\"s3_key\"].split(\"/\")[-1]\n",
    "    document_source_location = job_description[\"document_source\"]\n",
    "    document_metadata = job_description[\"metadata\"]\n",
    "\n",
    "    textract_response = get_job_results(job_id)\n",
    "\n",
    "    page_texts = [extract_text(blocks) for blocks in textract_response]\n",
    "    page_tables = [extract_tables(blocks) for blocks in textract_response]\n",
    "\n",
    "    if not len(page_texts) == len(page_tables):\n",
    "        raise Exception(\n",
    "            \"Something went wrong during processing, text and table lengths don't match\"\n",
    "        )\n",
    "\n",
    "    document_pages = []\n",
    "    for page_nr, (page_text, page_table_list) in enumerate(\n",
    "        zip(page_texts, page_tables)\n",
    "    ):\n",
    "        print(page_table_list)\n",
    "        document_pages.append(\n",
    "            {\"page\": page_nr, \"page_text\": page_text, \"page_tables\": page_table_list}\n",
    "        )\n",
    "\n",
    "    document = {\n",
    "        \"name\": document_name,\n",
    "        \"source_location\": document_source_location,\n",
    "        \"metadata\": document_metadata,\n",
    "        \"pages\": document_pages,\n",
    "    }\n",
    "\n",
    "    return document"
   ]
  },
  {
   "cell_type": "code",
   "execution_count": 15,
   "id": "fbcae585-0a7f-402d-b101-ca0e60642184",
   "metadata": {
    "tags": []
   },
   "outputs": [],
   "source": [
    "import concurrent.futures\n",
    "\n",
    "\n",
    "def process_jobs_in_parallel(job_id_dict):\n",
    "    # Create a ThreadPoolExecutor. Adjust the max_workers parameter as needed.\n",
    "    with concurrent.futures.ThreadPoolExecutor(max_workers=2) as executor:\n",
    "        # Use the executor to start a job for each job id.\n",
    "        # The executor will manage the threads and the jobs will run in parallel.\n",
    "        future_to_job_id = {\n",
    "            executor.submit(get_document_results, job_id_dict[key]): job_id_dict[key]\n",
    "            for key in job_id_dict.keys()\n",
    "        }\n",
    "\n",
    "        results = []\n",
    "        for future in concurrent.futures.as_completed(future_to_job_id):\n",
    "            job_id = future_to_job_id[future][\"job_id\"]\n",
    "            document_source_location = future_to_job_id[future][\"document_source\"]\n",
    "            try:\n",
    "                # If a job completed without raising an exception, its result is returned.\n",
    "                # If a job raised an exception, that exception is re-raised here.\n",
    "                result = future.result()\n",
    "            except Exception as exc:\n",
    "                print(\n",
    "                    f\"Job {job_id} generated an exception while trying to process document {document_source_location}:\\n {exc}\\n\"\n",
    "                )\n",
    "            else:\n",
    "                # Add the result to our results list.\n",
    "                print(f\"Finished processing document {document_source_location}.\\n\")\n",
    "                results.append(result)\n",
    "    return results"
   ]
  },
  {
   "cell_type": "markdown",
   "id": "2b23cc66-a2a5-4db0-adc0-6f0dcea0b136",
   "metadata": {},
   "source": [
    "## Run the extraction\n",
    "Make sure to have all of your PDF documents in a folder in an S3 bucket."
   ]
  },
  {
   "cell_type": "code",
   "execution_count": 20,
   "id": "b6d90d75-da75-4bf1-ba8e-bddace2735d1",
   "metadata": {
    "tags": []
   },
   "outputs": [
    {
     "name": "stdout",
     "output_type": "stream",
     "text": [
      "{'ResponseMetadata': {'RequestId': '0Q0911CV2T8JAJ1A', 'HostId': 'X1Y+hp1L4SrflnQhZ6k2GpInsZuJk1SztVoltwZY0JLwNYv66Rk5JgZbMjnNfpahDEPW/xeLa4E=', 'HTTPStatusCode': 200, 'HTTPHeaders': {'x-amz-id-2': 'X1Y+hp1L4SrflnQhZ6k2GpInsZuJk1SztVoltwZY0JLwNYv66Rk5JgZbMjnNfpahDEPW/xeLa4E=', 'x-amz-request-id': '0Q0911CV2T8JAJ1A', 'date': 'Thu, 22 Feb 2024 12:28:09 GMT', 'x-amz-bucket-region': 'us-west-2', 'content-type': 'application/xml', 'transfer-encoding': 'chunked', 'server': 'AmazonS3'}, 'RetryAttempts': 0}, 'IsTruncated': False, 'Contents': [{'Key': 'prepared_pdf_documents/Ontario-Airport/', 'LastModified': datetime.datetime(2024, 2, 22, 11, 51, 7, tzinfo=tzlocal()), 'ETag': '\"d41d8cd98f00b204e9800998ecf8427e\"', 'Size': 0, 'StorageClass': 'STANDARD'}, {'Key': 'prepared_pdf_documents/Ontario-Airport/fiscal_year_23-24_adopted_capital_budget.pdf', 'LastModified': datetime.datetime(2024, 2, 22, 11, 56, 5, tzinfo=tzlocal()), 'ETag': '\"0472154e3f769005f027902db3d57e6c\"', 'Size': 1105597, 'StorageClass': 'STANDARD'}, {'Key': 'prepared_pdf_documents/Ontario-Airport/fiscal_year_23-24_adopted_operating_budget.pdf', 'LastModified': datetime.datetime(2024, 2, 22, 11, 56, 4, tzinfo=tzlocal()), 'ETag': '\"1b5b6332e9e621179967fb58aca265c7\"', 'Size': 1662032, 'StorageClass': 'STANDARD'}], 'Name': 'demoexperimentdata2', 'Prefix': 'prepared_pdf_documents/Ontario-Airport/', 'MaxKeys': 1000, 'EncodingType': 'url', 'KeyCount': 3}\n",
      "['prepared_pdf_documents/Ontario-Airport/', 'prepared_pdf_documents/Ontario-Airport/fiscal_year_23-24_adopted_capital_budget.pdf', 'prepared_pdf_documents/Ontario-Airport/fiscal_year_23-24_adopted_operating_budget.pdf']\n"
     ]
    }
   ],
   "source": [
    "# folder_name = 'financial_reports'\n",
    "s3_key = \"prepared_pdf_documents\"\n",
    "# document_keys = list_files_in_s3_folder(S3_BUCKET_NAME, s3_key)\n",
    "s3_client = boto3.client(\"s3\")\n",
    "response = s3_client.list_objects_v2(Bucket='demoexperimentdata2', Prefix=\"prepared_pdf_documents/Ontario-Airport/\")\n",
    "print(response)\n",
    "document_keys = [obj[\"Key\"] for obj in response[\"Contents\"]]\n",
    "print(document_keys)"
   ]
  },
  {
   "cell_type": "code",
   "execution_count": 23,
   "id": "05d1a64e-6a64-46e4-b152-2a02dfa521eb",
   "metadata": {
    "tags": []
   },
   "outputs": [
    {
     "data": {
      "text/plain": [
       "'prepared_pdf_documents/Ontario-Airport/'"
      ]
     },
     "execution_count": 23,
     "metadata": {},
     "output_type": "execute_result"
    }
   ],
   "source": [
    "document_keys.pop(0)"
   ]
  },
  {
   "cell_type": "markdown",
   "id": "b1211594-0ab6-4e64-86da-8a494c7acecf",
   "metadata": {},
   "source": [
    "## Start the Textract analysis jobs and wait for them to finish"
   ]
  },
  {
   "cell_type": "code",
   "execution_count": 24,
   "id": "9e9db5c5-12b1-4b27-ad13-ef1feb3f55ca",
   "metadata": {
    "tags": []
   },
   "outputs": [
    {
     "name": "stdout",
     "output_type": "stream",
     "text": [
      "demoexperimentdata2 prepared_pdf_documents/Ontario-Airport/fiscal_year_23-24_adopted_capital_budget.pdf\n",
      "demoexperimentdata2 prepared_pdf_documents/Ontario-Airport/fiscal_year_23-24_adopted_operating_budget.pdf\n",
      "Documents being processed: 2\n",
      "\n",
      "Documents being processed: 2\n",
      "\n",
      "Documents being processed: 2\n",
      "\n",
      "Documents being processed: 2\n",
      "\n",
      "Documents being processed: 1\n",
      "\n",
      "Finished all jobs!\n"
     ]
    }
   ],
   "source": [
    "job_id_dict = start_analysis_jobs('demoexperimentdata2', document_keys)\n",
    "check_jobs_status(job_id_dict)"
   ]
  },
  {
   "cell_type": "markdown",
   "id": "c9b805cd-7f45-4355-8ad6-28f27673d84f",
   "metadata": {},
   "source": [
    "## Receive and process the results from Textract\n",
    "\n",
    "If any of the jobs generate an exception you can run `get_document_results(job_id_dict['s3://<your_document_url>'])` to get the Traceback."
   ]
  },
  {
   "cell_type": "code",
   "execution_count": 25,
   "id": "ac49d22f-581d-41ac-a1f8-6bbda2537e77",
   "metadata": {
    "tags": []
   },
   "outputs": [
    {
     "name": "stdout",
     "output_type": "stream",
     "text": [
      "[]\n",
      "['|    | 0   | 1        | 2                                                                 | 3    |\\n|---:|:----|:---------|:------------------------------------------------------------------|:-----|\\n|  0 | 1.  | Projects | Overview                                                          | 1-1  |\\n|  1 | 2.  | Project  | Descriptions                                                      | 2-1  |\\n|  2 |     | 2.1      | Airside/ACIP Projects                                             | 2-1  |\\n|  3 |     |          | 2.1.1 New Airport Beacon                                          | 2-1  |\\n|  4 |     | 2.2      | Landside Projects                                                 | 2-2  |\\n|  5 |     |          | 2.2.1 Terminal 2 and 4 Curb Improvements                          | 2-2  |\\n|  6 |     |          | 2.2.2 Terminal 2 and 4 Curbside Signage                           | 2-2  |\\n|  7 |     | 2.3      | Terminal Projects                                                 | 2-4  |\\n|  8 |     |          | 2.3.1 Existing FIS Improvements                                   | 2-4  |\\n|  9 |     |          | 2.3.2 Advertising Display Replacment                              | 2-4  |\\n| 10 |     |          | 2.3.3 Global Entry Enrollment Center                              | 2-4  |\\n| 11 |     | 2.4      | Facilities Projects                                               | 2-6  |\\n| 12 |     |          | 2.4.1 Tenant Metering within Terminal Building                    | 2-6  |\\n| 13 |     |          | 2.4.2 Permanent Bus Charging Station and Parking Operator Offices | 2-6  |\\n| 14 |     |          | 2.4.3 Police Terminal Offices                                     | 2-6  |\\n| 15 |     |          | 2.4.4 Terminals 2 and 4 Fire Alarm System Replacement             | 2-7  |\\n| 16 |     | 2.5      | Security Projects                                                 | 2-8  |\\n| 17 |     |          | 2.5.1 South Security Airport Access Point (SSAAP)                 | 2-8  |\\n| 18 |     | 2.6      | Equipment Purchases                                               | 2-9  |\\n| 19 |     |          | 2.6.1 OIAA Fleet Vehicles                                         | 2-9  |\\n| 20 |     | 2.7      | Information Technology Projects                                   | 2-10 |\\n| 21 |     |          | 2.7.1 Server Room Relocation                                      | 2-10 |\\n| 22 |     | 2.8      | Environmental Projects                                            | 2-11 |\\n| 23 |     |          | 2.8.1 Water Consumption Reduction                                 | 2-11 |\\n| 24 | 3.  |          | Additional Funding Requests                                       | 3-1  |\\n| 25 |     |          | 3.1.1 Administration Office Reconfiguration                       | 3-1  |\\n| 26 |     |          | 3.1.2 Security Screening Checkpoint Expansion Project             | 3-1  |']\n",
      "['|    | 0                                                     | 1         |\\n|---:|:------------------------------------------------------|:----------|\\n|  0 | ONTARIO INTERNATIONAL AIRPORT                         | JUNE 2023 |\\n|  1 | LIST OF TABLES                                        |           |\\n|  2 | Table 1: FY 2024 Capital Improvement Program Projects | 1-1       |']\n",
      "['|    | 0       | 1                                                           | 2                   | 3                                         |\\n|---:|:--------|:------------------------------------------------------------|:--------------------|:------------------------------------------|\\n|  0 | Section | Project                                                     | Duration            | Cost Magnitude (Rounded to Nearest 1,000) |\\n|  1 | 2.1     | Airside/ACIP Projects                                       |                     |                                           |\\n|  2 | 2.1.1   | New Airport Beacon                                          | 3 months            | $250,000                                  |\\n|  3 |         | Sub-total                                                   |                     | $250,000                                  |\\n|  4 | 2.2     | Landside Projects                                           |                     |                                           |\\n|  5 | 2.2.1   | Terminal 2 and 4 Curb Improvements                          | 1 year              | $2,000,000                                |\\n|  6 | 2.2.2   | Terminal 2 and 4 Curbside Signage                           | 1 year              | $2,500,000                                |\\n|  7 |         | Sub-total                                                   |                     | $4,500,000                                |\\n|  8 | 2.3     | Terminal Projects                                           |                     |                                           |\\n|  9 | 2.3.1   | Existing FIS Improvements                                   | 2 years             | $10,000,000                               |\\n| 10 | 2.3.2   | Advertising Display Replacement                             | 3 months            | $500,000                                  |\\n| 11 | 2.3.3   | Global Entry Enrollment Center                              | 3 months            | $200,000                                  |\\n| 12 |         | Sub-total                                                   |                     | $10,700,000                               |\\n| 13 | 2.4     | Facilities Projects                                         |                     |                                           |\\n| 14 | 2.4.1   | Tenant Metering within Terminal Building                    | 6 months            | $300,000                                  |\\n| 15 | 2.4.2   | Permanent Bus Charging Station and Parking Operator Offices | 2 years             | $4,500,000                                |\\n| 16 | 2.4.3   | Police Terminal Offices                                     | 1 year              | $250,000                                  |\\n| 17 | 2.4.4   | Terminals 2 and 4 Fire Alarm System Replacement             | 1 year, 6 months    | $2,700,000                                |\\n| 18 |         | Sub-total                                                   |                     | $7,750,000                                |\\n| 19 | 2.5     | Security Projects                                           |                     |                                           |\\n| 20 | 2.5.1   | South Security Airport Access Point (SSAAP)                 | 2 years             | $3,500,000                                |\\n| 21 |         | Sub-total                                                   |                     | $3,500,000                                |\\n| 22 | 2.6     | Equipment Purchases                                         |                     |                                           |\\n| 23 | 2.6.1   | OIAA Fleet Vehicles                                         | 1 month             | $300,000                                  |\\n| 24 |         | Sub-total                                                   |                     | $300,000                                  |\\n| 25 | 2.7     | Information Technology Projects                             |                     |                                           |\\n| 26 | 2.7.1   | Server Room Relocation                                      | 3 months            | $500,000                                  |\\n| 27 |         | Sub-total                                                   |                     | $500,000                                  |\\n| 28 | 2.8     | Environmental Projects                                      |                     |                                           |\\n| 29 | 2.8.1   | Water Consumption Reduction                                 | 2 years, 6 months   | $3,250,000                                |\\n| 30 |         | Sub-total                                                   |                     | $3,250,000                                |\\n| 31 | 3       | Additional Funding Requests                                 |                     |                                           |\\n| 32 | 3.1.1   | Administration Office Reconfiguration                       | 1 year              | $815,000                                  |\\n| 33 | 3.1.2   | Security Screening Checkpoint Expansion Project             | 1 year              | $8,255,000                                |\\n| 34 |         | Sub-total                                                   |                     | $9,070,000                                |\\n| 35 |         | Total FY 2024 Recommended Capital                           | Improvement Program | $35,480,000*                              |']\n",
      "[]\n",
      "['|    | 0          | 1                                   |\\n|---:|:-----------|:------------------------------------|\\n|  0 |            | Lot 2                               |\\n|  7 | Terminal 2 | New Curb and Roadway Expansion Area |']\n",
      "['|    | 8       | 9                                | 10   |\\n|---:|:--------|:---------------------------------|:-----|\\n|  1 | Ontario | Terminal 2 International Airport | ONT  |']\n",
      "[]\n",
      "[]\n",
      "[]\n",
      "[]\n",
      "[]\n",
      "[]\n",
      "[]\n",
      "[]\n",
      "[]\n",
      "['|    | 0                                                           | 1                 | 2        | 6                                                                                                                                                                                                                                                                                                            |\\n|---:|:------------------------------------------------------------|:------------------|:---------|:-------------------------------------------------------------------------------------------------------------------------------------------------------------------------------------------------------------------------------------------------------------------------------------------------------------|\\n|  0 | NEWACS DOOR BOH CORRIDOR (E) NEW DUNKIN DONUTS CONCESSION ) | New Exit Corridor | as all I | X CAT TDCs TO REPLACE EXISTING EXOMBER WALL BETWEEN CHECKPOINT AND EXIT CORRIDOR (DEMO LISHED 4E SCREENING LANES EURPENENT RELOCATED WITH NEW LANES AND ADDITIONAL AIT & MAGNE TOMETERS NIRESCREEN DIVIDER BETWEEN CHECKPOINT AND CORRIDOR (DEMOLISHED) NEW TSA MONITORING STATION RELOCATED INSPECTION ROOM |']\n",
      "Finished processing document s3://demoexperimentdata2/prepared_pdf_documents/Ontario-Airport/fiscal_year_23-24_adopted_capital_budget.pdf.\n",
      "\n",
      "['|    | 0        | 2   |\\n|---:|:---------|:----|\\n|  1 |          | us  |\\n|  5 | GATE 407 |     |']\n",
      "[]\n",
      "['|    | 0                                 | 1              | 2              | 3                                 | 4                    |\\n|---:|:----------------------------------|:---------------|:---------------|:----------------------------------|:---------------------|\\n|  0 |                                   | Adopted Budget | Adopted Budget | Increase (Decrease) FY vs FY 2023 | 2024 Adopted Adopted |\\n|  1 |                                   | FY 2023        | FY 2024        | $                                 | %                    |\\n|  2 | Aeronautical                      |                |                |                                   |                      |\\n|  3 | Landing fees                      | $ 14,239,780   | $ 16,006,964   | $ 1,767,185                       | 12.41%               |\\n|  4 | Facility rentals                  | 16,261,999     | 15,688,558     | (573,441)                         | -3.53%               |\\n|  5 | Land rentals                      | 12,857,518     | 12,455,895     | (401,623)                         | -3.12%               |\\n|  6 | Gate use and jet bridge fees      | 1,526,080      | 806,912        | (719,168)                         | -47.13%              |\\n|  7 | Plane parking                     | 539,255        | 643,257        | 104,002                           | 19.29%               |\\n|  8 | Airline handling service fees     | 1,676,571      | 4,032,833      | 2,356,262                         | 140.54%              |\\n|  9 | Operating grants                  | 297,600        | 321,000        | 23,400                            | 7.86%                |\\n| 10 | Other aeronautical revenues       | 401,143        | 527,237        | 126,094                           | 31.43%               |\\n| 11 | Total aeronautical                | 47,799,946     | 50,482,656     | 2,682,710                         | 5.61%                |\\n| 12 | Nonaeronautical                   |                |                |                                   |                      |\\n| 13 | Auto parking                      | 28,156,137     | 35,150,798     | 6,994,661                         | 24.84%               |\\n| 14 | Rental cars                       | 10,477,107     | 9,996,171      | (480,936)                         | -4.59%               |\\n| 15 | Food and beverage                 | 1,473,447      | 3,029,527      | 1,556,080                         | 105.61%              |\\n| 16 | News and gifts                    | 2,041,517      | 2,124,170      | 82,652                            | 4.05%                |\\n| 17 | Ground transportation             | 1,740,302      | 2,144,696      | 404,394                           | 23.24%               |\\n| 18 | Advertising and Other Concessions | 1,122,000      | 1,024,316      | (97,684)                          | -8.71%               |\\n| 19 | Facility & Land rentals -         |                |                |                                   |                      |\\n| 20 | nonaeronautical                   | 2,593,109      | 2,728,792      | 135,683                           | 5.23%                |\\n| 21 | Other                             | 550,114        | 199,971        | (350,143)                         | -63.65%              |\\n| 22 | Operating grants - ARPA           | 6,575,000      | 6,575,000      | -                                 | 0.00%                |\\n| 23 | Total nonaeronautical             | 54,728,735     | 62,973,441     | 8,244,707                         | 15.06%               |\\n| 24 | Total operating revenues          | 102,528,680    | 113,456,097    | 10,927,417                        | 10.66%               |\\n| 25 | Personnel                         |                |                |                                   |                      |\\n| 26 | Salaries, wages and overtime      | 10,394,503     | 13,690,071     | 3,295,569                         | 31.70%               |\\n| 27 | Employee benefits and taxes       | 2,664,896      | 3,911,943      | 1,247,048                         | 46.80%               |\\n| 28 | Total personnel                   | 13,059,398     | 17,602,014     | 4,542,616                         | 34.78%               |\\n| 29 | Nonpersonnel                      |                |                |                                   |                      |\\n| 30 | Public safety                     | 21,175,717     | 23,293,289     | 2,117,572                         | 10.00%               |\\n| 31 | Contractual services              | 35,552,476     | 39,694,741     | 4,142,265                         | 11.65%               |\\n| 32 | Insurance and administration      | 2,147,461      | 1,957,391      | (190,070)                         | -8.85%               |\\n| 33 | Materials and Supplies            | 1,919,787      | 2,699,817      | 780,030                           | 40.63%               |\\n| 34 | Telecommunications and utilities  | 7,293,100      | 7,331,304      | 38,204                            | 0.52%                |\\n| 35 | Other Operating Expenses          | 7,814,140      | 9,320,324      | 1,506,184                         | 19.28%               |\\n| 36 | Total nonpersonnel                | 75,902,681     | 84,296,866     | 8,394,185                         | 11.06%               |\\n| 37 | Total operating expenses          | 88,962,079     | 101,898,880    | 12,936,801                        | 14.54%               |\\n| 38 | Net Income from operations        | 13,566,601     | 11,557,217     | (2,009,385)                       | -14.81%              |']\n",
      "['|    | 0                                  | 1              | 2              | 3                                         | 4            |\\n|---:|:-----------------------------------|:---------------|:---------------|:------------------------------------------|:-------------|\\n|  0 |                                    | Adopted Budget | Adopted Budget | Increase (Decrease) FY vs FY 2023 Adopted | 2024 Adopted |\\n|  1 |                                    | FY 2023        | FY 2024        | $                                         | %            |\\n|  2 | Nonoperating Revenues              |                |                |                                           |              |\\n|  3 | Interest income                    | $ 77,143       | $ 505,546      | $ 428,403                                 | 555.34%      |\\n|  4 | Passenger facility charges         | 11,582,266     | 12,589,028     | 1,006,762                                 | 8.69%        |\\n|  5 | Customer facility charges          | 3,462,334      | 3,454,045      | (8,289)                                   | -0.24%       |\\n|  6 | Other                              | -              | -              | -                                         | 0.00%        |\\n|  7 | Total nonoperating revenues        | 15,121,742     | 16,548,620     | 1,426,877                                 | 12.37%       |\\n|  8 | Net income                         | 28,688,344     | 28,105,837     | (582,507)                                 | -2.03%       |\\n|  9 | Other Sources and (Uses)           |                |                |                                           |              |\\n| 10 | Debt Service                       | 12,010,020     | 11,228,344     | (781,676)                                 | -6.51%       |\\n| 11 | Reserve Balance (Increase)         |                |                |                                           |              |\\n| 12 | Decrease                           | 3,129,698      | 3,539,663      | 409,965                                   | 13.10%       |\\n| 13 | Depreciation                       | 6,055,996      | 7,954,879      | 1,898,883                                 | 31.36%       |\\n| 14 | Unrestricted Fund Transfer         | -              | (750,000)      | (750,000)                                 | 0.00%        |\\n| 15 | Total other sources and (uses)     | 21,195,714     | 21,972,887     | 777,173                                   | 3.67%        |\\n| 16 | Net increase (decrease)            | $ 7,492,630    | $ 6,132,950    | $ (1,359,680)                             | -18.15%      |\\n| 18 | Landing Fee (1,000 lb. units)      | $ 1.64         | $ 1.83         | $ 0.23                                    | 14.4%        |\\n| 19 | Terminal Rental Rate (square foot) | $ 91.65        | $ 87.07        | $ 7.07                                    | 8.8%         |']\n",
      "['|    | 0                                  | 1            | 2             | 3                                      | 4               |\\n|---:|:-----------------------------------|:-------------|:--------------|:---------------------------------------|:----------------|\\n|  0 |                                    | Adopted      | Adopted       | Increase (Decrease) FY FY 2023 Adopted | 2024 Adopted vs |\\n|  1 |                                    | FY 2023      | FY 2024       | $                                      | %               |\\n|  2 | Operations:                        |              |               |                                        |                 |\\n|  3 | Operations                         | $ 782,874    | $ 706,476     | $ (76,398)                             | -9.76%          |\\n|  4 | Public Safety                      | 21,607,162   | 23,806,869    | 2,199,706                              | 10.18%          |\\n|  5 | Airfield Operations                | 5,667,507    | 6,646,674     | 979,167                                | 17.28%          |\\n|  6 | Security                           | 6,099,893    | 6,397,407     | 297,514                                | 4.88%           |\\n|  7 | Emergency Management               | 629,253      | 623,675       | (5,578)                                | -0.89%          |\\n|  8 | Vehicle and Equipment Maintenance  | 2,073,717    | 2,384,157     | 310,440                                | 14.97%          |\\n|  9 | Landside Operations                | 7,740,121    | 8,380,733     | 640,612                                | 8.28%           |\\n| 10 | Customer Experience                | 1,480,901    | 1,875,773     | 394,873                                | 26.66%          |\\n| 11 | Total Operations                   | 46,081,428   | 50,821,764    | 4,740,335                              | 10.29%          |\\n| 12 | Capital Development:               |              |               |                                        |                 |\\n| 13 | Planning                           | 6,217,062    | 6,428,603     | 211,541                                | 3.40%           |\\n| 14 | Project Management                 | 2,218,998    | 2,502,690     | 283,692                                | 12.78%          |\\n| 15 | Total Capital Development          | 8,436,060    | 8,931,293     | 495,233                                | 5.87%           |\\n| 16 | Revenue Management:                |              |               |                                        |                 |\\n| 17 | Revenue Management Department      | 2,641,501    | 2,635,075     | (6,426)                                | -0.24%          |\\n| 18 | Commercials Real Estate            | 825,552      | 840,520       | 14,968                                 | 1.81%           |\\n| 19 | Ground Transportation              | 7,076,469    | 7,563,328     | 486,859                                | 6.88%           |\\n| 20 | Film Services                      | 157,500      | 42,500        | (115,000)                              | -73.02%         |\\n| 21 | Total Revenue Management           | 10,701,022   | 11,081,423    | 380,402                                | 3.55%           |\\n| 22 | Marketing and Communications:      |              |               |                                        |                 |\\n| 23 | Marketing and Communication        | 6,837,231    | 8,721,324     | 1,884,093                              | 27.56%          |\\n| 24 | Digital                            | 2,010,786    | 2,506,064     | 495,277                                | 24.63%          |\\n| 25 | Total Marketing and Communications | 8,848,018    | 11,227,388    | 2,379,370                              | 26.89%          |\\n| 26 | Executive:                         |              |               |                                        |                 |\\n| 27 | Executive Office                   | 5,450,479    | 4,995,888     | (454,591)                              | -8.34%          |\\n| 28 | Office Administrator               |              | 264,149       | 264,149                                | 100.00%         |\\n| 29 | Air Service Development            | 676,290      | 877,253       | 200,963                                | 29.72%          |\\n| 30 | Government Relations               | 463,787      | 524,529       | 60,742                                 | 13,10%          |\\n| 31 | Total Executive                    | 6,590,557    | 6,661,819     | 71,262                                 | 1.08%           |\\n| 32 | Administrative:                    |              |               |                                        |                 |\\n| 33 | Human Resources                    | 709,079      | 1,002,316     | 293,237                                | 41.35%          |\\n| 34 | Risk Management                    | 1,284,838    | 1,378,687     | 93,849                                 | 7.30%           |\\n| 35 | Procurement                        | 416,372      | 1,282,791     | 866,419                                | 208.09%         |\\n| 36 | Total Administrative               | 2,410,289    | 3,663,794     | 1,253,505                              | 52.01%          |\\n| 37 | Information Technology:            |              |               |                                        |                 |\\n| 38 | Information Technology             | 3,623,220    | 6,707,573     | 3,084,353                              | 85.13%          |\\n| 39 | Total Information Technology       | 3,623,220    | 6,707,573     | 3,084,353                              | 85.13%          |\\n| 40 | Finance:                           |              |               |                                        |                 |\\n| 41 | Financial Accounting and Reporting | 1,797,123    | 2,241,218     | 444,096                                | 24.71%          |\\n| 42 | Budget and Finance                 | 474,363      | 562,608       | 88,244                                 | 18.60%          |\\n| 43 | Total Finance                      | 2,271,486    | 2,803,826     | 532,340                                | 23.44%          |\\n| 44 | Total Operating Expenses           | $ 88,962,079 | $ 101,898,880 | $ 12,936,801                           | 14.54%          |']\n",
      "['|    | 0                                  | 1            | 2                | 3             | 4                |\\n|---:|:-----------------------------------|:-------------|:-----------------|:--------------|:-----------------|\\n|  0 |                                    | Adopted      | % of Total       | Adopted       | % of Total       |\\n|  1 |                                    | FY 2023      | Operating Budget | FY 2024       | Operating Budget |\\n|  2 | Operations:                        |              |                  |               |                  |\\n|  3 | Operations                         | $ 782,874    | 0.9%             | $ 706,476     | 0.7%             |\\n|  4 | Public Safety                      | 21,607,162   | 24.3%            | 23,806,869    | 23.4%            |\\n|  5 | Airfield Operations                | 5,667,507    | 6.4%             | 6,646,674     | 6.5%             |\\n|  6 | Security                           | 6,099,893    | 6.9%             | 6,397,407     | 6.3%             |\\n|  7 | Emergency Management               | 629,253      | 0.7%             | 623,675       | 0.6%             |\\n|  8 | Vehicle and Equipment Maintenance  | 2,073,717    | 2.3%             | 2,384,157     | 2.3%             |\\n|  9 | Landside Operations                | 7,740,121    | 8.7%             | 8,380,733     | 8.2%             |\\n| 10 | Customer Experience                | 1,480,901    | 1.7%             | 1,875,773     | 1.8%             |\\n| 11 | Total Operations                   | 46,081,428   | 51.9%            | 50,821,764    | 49.8%            |\\n| 12 | Capital Development:               |              |                  |               |                  |\\n| 13 | Planning                           | 6,217,062    | 7.0%             | 6,428,603     | 6.3%             |\\n| 14 | Project Management                 | 2,218,998    | 2.5%             | 2,502,690     | 2.5%             |\\n| 15 | Total Capital Development          | 8,436,060    | 9.5%             | 8,931,293     | 8.8%             |\\n| 16 | Revenue Management:                |              |                  |               |                  |\\n| 17 | Revenue Management Department      | 2,641,501    | 3.0%             | 2,635,075     | 2.6%             |\\n| 18 | Commercials Real Estate            | 825,552      | 0.9%             | 840,520       | 0.8%             |\\n| 19 | Ground Transportation              | 7,076,469    | 8.0%             | 7,563,328     | 7.4%             |\\n| 20 | Film Services                      | 157,500      | 0.2%             | 42,500        | 0.0%             |\\n| 21 | Total Revenue Management           | 10,701,022   | 12.1%            | 11,081,423    | 10.8%            |\\n| 22 | Marketing and Communications:      |              |                  |               |                  |\\n| 23 | Marketing and Communication        | 6,837,231    | 7.7%             | 8,721,324     | 8.6%             |\\n| 24 | Digital                            | 2,010,786    | 2.3%             | 2,506,064     | 2.5%             |\\n| 25 | Total Marketing and Communications | 8,848,018    | 10.0%            | 11,227,388    | 11.1%            |\\n| 26 | Executive:                         |              |                  |               |                  |\\n| 27 | Executive Office                   | 5,450,479    | 6.1%             | 4,995,888     | 4.9%             |\\n| 28 | Office Administrator               | -            |                  | 264,149       | 0.3%             |\\n| 29 | Air Service Development            | 676,290      | 0.8%             | 877,253       | 0.9%             |\\n| 30 | Government Relations               | 463,787      | 0.5%             | 524,529       | 0.5%             |\\n| 31 | Total Executive                    | 6,590,557    | 7.4%             | 6,661,819     | 6.6%             |\\n| 32 | Administrative:                    |              |                  |               |                  |\\n| 33 | Human Resources                    | 709,079      | 0.8%             | 1,002,316     | 1.0%             |\\n| 34 | Risk Management                    | 1,284,838    | 1.4%             | 1,378,687     | 1.4%             |\\n| 35 | Procurement                        | 416,372      | 0.5%             | 1,282,791     | 1.3%             |\\n| 36 | Total Administrative               | 2,410,289    | 2.7%             | 3,663,794     | 3.7%             |\\n| 37 | Information Technology:            |              |                  |               |                  |\\n| 38 | Information Technology             | 3,623,220    | 4.1%             | 6,707,573     | 6.6%             |\\n| 39 | Total Information Technology       | 3,623,220    | 4.1%             | 6,707,573     | 4.1%             |\\n| 40 | Finance:                           |              |                  |               |                  |\\n| 41 | Financial Accounting and Reporting | 1,797,123    | 2.0%             | 2,241,218     | 2.2%             |\\n| 42 | Budget and Finance                 | 474,363      | 0.5%             | 562,608       | 0.6%             |\\n| 43 | Total Finance                      | 2,271,486    | 2.5%             | 2,803,826     | 2.8%             |\\n| 44 | Total Operating Expenses           | $ 88,962,079 | 100.0%           | $ 101,898,880 | 100.0%           |']\n",
      "['|    | 0                                | 1            | 2                  | 3           | 4              | 5                      | 6           | 7                   | 8                            | 9             |\\n|---:|:---------------------------------|:-------------|:-------------------|:------------|:---------------|:-----------------------|:------------|:--------------------|:-----------------------------|:--------------|\\n|  0 |                                  |              |                    |             |                | Adopted Budget         | FYE 2024    |                     |                              |               |\\n|  1 |                                  | Operations   | Revenue Management | Executive   | Administrative | Information Technology | Finance     | Capital Development | Marketing and Communications | Total         |\\n|  2 | Personnel                        |              |                    |             |                |                        |             |                     |                              |               |\\n|  3 | Salaries, wages and overtime     | $ 3,688,164  | $ 1,173,173        | $ 1,732,934 | $ 1,481,372    | $ 1,121,189            | $ 1,406,745 | $ 1,392,728         | $ 1,693,768                  | $ 13,690,071  |\\n|  4 | Employee benefits and taxes      | 1,087,298    | 278,486            | 457,385     | 434,023        | 339,438                | 406,813     | 404,993             | 503,506                      | 3,911,943     |\\n|  5 | Total personnel                  | 4,775,462    | 1,451,659          | 2,190,319   | 1,915,394      | 1,460,627              | 1,813,558   | 1,797,720           | 2,197,275                    | 17,602,014    |\\n|  6 | Nonpersonnel                     |              |                    |             |                |                        |             |                     |                              |               |\\n|  7 | Public safety                    | 23,293,289   | -                  | -           | -              | -                      | -           | -                   | -                            | 23,293,289    |\\n|  8 | Contractual services             | 13,299,673   | 8,580,002          | 3,563,485   | 330,870        | 3,537,946              | 785,792     | 7,007,873           | 2,589,100                    | 39,694,741    |\\n|  9 | Insurance and administration     | 13,400       | 411,500            | 197,740     | 1,129,900      | -                      | 111,351     | 2,500               | 91,000                       | 1,957,391     |\\n| 10 | Materials and supplies           | 1,309,817    | 25,000             | 29,500      | 17,500         | 1,306,000              | 6,000       | 6,000               | -                            | 2,699,817     |\\n| 11 | Telecommunications and utilities | 6,963,304    | -                  | -           | -              | 368,000                | -           | -                   | -                            | 7,331,304     |\\n| 12 | Other operating expenses         | 1,166,819    | 613,262            | 680,775     | 270,130        | 35,000                 | 87,125      | 117,200             | 6,350,013                    | 9,320,324     |\\n| 13 | Total nonpersonnel               | 46,046,302   | 9,629,764          | 4,471,500   | 1,748,400      | 5,246,946              | 990,268     | 7,133,573           | 9,030,113                    | 84,296,866    |\\n| 14 | Total operating expenses         | $ 50,821,764 | $ 11,081,423       | $ 6,661,819 | $ 3,663,794    | $ 6,707,573            | $ 2,803,826 | $ 8,931,293         | $ 11,227,388                 | $ 101,898,880 |\\n| 15 | Headcount Proposed               | 40.50        | 10.00              | 13.50       | 14.00          | 13.00                  | 14.00       | 10.00               | 15.50                        | 130.50        |', '|    | 0                                | 1            | 2                  | 3           | 4              | 5                      | 6           | 7                   | 8                            | 9            |\\n|---:|:---------------------------------|:-------------|:-------------------|:------------|:---------------|:-----------------------|:------------|:--------------------|:-----------------------------|:-------------|\\n|  0 |                                  |              |                    |             |                | Adopted Budget         | FYE 2023    |                     |                              |              |\\n|  1 |                                  | Operations   | Revenue Management | Executive   | Administrative | Information Technology | Finance     | Capital Development | Marketing and Communications | Total        |\\n|  2 | Personnel                        |              |                    |             |                |                        |             |                     |                              |              |\\n|  3 | Salaries, wages and overtime     | $ 3,085,505  | $ 1,130,095        | $ 1,908,074 | $ 633,933      | $ 105,900              | $ 1,016,298 | $ 1,295,921         | $ 1,218,777                  | $ 10,394,503 |\\n|  4 | Employee benefits and taxes      | 834,648      | 271,423            | 465,171     | 176,031        | 27,584                 | 273,728     | 337,491             | 278,819                      | 2,664,896    |\\n|  5 | Total personnel                  | 3,920,153    | 1,401,518          | 2,373,246   | 809,964        | 133,484                | 1,290,026   | 1,633,412           | 1,497,596                    | 13,059,398   |\\n|  6 | Nonpersonnel                     |              |                    |             |                |                        |             |                     |                              |              |\\n|  7 | Public safety                    | 21,175,717   | -                  | -           | -              | -                      | -           | -                   | -                            | 21,175,717   |\\n|  8 | Contractual services             | 11,876,466   | 8,112,938          | 3,303,670   | 314,750        | 2,458,736              | 795,696     | 6,700,248           | 1,989,972                    | 35,552,476   |\\n|  9 | Insurance and administration     | 25,600       | 751,825            | 150,000     | 1,101,000      | -                      | 98,536      | -                   | 20,500                       | 2,147,461    |\\n| 10 | Materials and supplies           | 1,207,887    | 30,500             | 2,000       | 10,900         | 657,500                | 5,000       | 6,000               | -                            | 1,919,787    |\\n| 11 | Telecommunications and utilities | 6,959,600    | -                  | -           | -              | 333,500                | -           | -                   | -                            | 7,293,100    |\\n| 12 | Other operating expenses         | 916,005      | 404,241            | 761,641     | 173,675        | 40,000                 | 82,228      | 96,400              | 5,339,950                    | 7,814,140    |\\n| 13 | Total nonpersonnel               | 42,161,275   | 9,299,504          | 4,217,311   | 1,600,325      | 3,489,736              | 981,460     | 6,802,648           | 7,350,422                    | 75,902,681   |\\n| 14 | Total operating expenses         | $ 46,081,428 | $ 10,701,022       | $ 6,590,557 | $ 2,410,289    | $ 3,623,220            | $ 2,271,486 | $ 8,436,060         | $ 8,848,018                  | $ 88,962,079 |\\n| 15 | Headcount Approved               | 35.00        | 10.00              | 13.50       | 11.00          | 7.00                   | 12.00       | 10.00               | 14.50                        | 113.00       |']\n",
      "['|    | 0                                        | 1          | 2             | 3                   | 4           | 5                    | 6                               | 7                   | 8                   | 9            |\\n|---:|:-----------------------------------------|:-----------|:--------------|:--------------------|:------------|:---------------------|:--------------------------------|:--------------------|:--------------------|:-------------|\\n|  0 |                                          |            |               |                     | Adopted     | FY 2024 Budget       |                                 |                     |                     |              |\\n|  1 |                                          | Operations | Public Safety | Airfield Operations | Security    | Emergency Management | Vehicle & Equipment Maintenance | Landside Operations | Customer Experience | Total        |\\n|  2 | Headcount                                | 2.5        | 3.0           | -                   | 11.0        | 1.0                  | 9.5                             | 4.5                 | 9.0                 | 40.50        |\\n|  3 | Personnel                                |            |               |                     |             |                      |                                 |                     |                     |              |\\n|  4 | Salaries, wages and overtime             | $ 527,080  | $ 379,278     | $ -                 | $ 756,287   | $ 146,639            | $ 774,302                       | $ 433,860           | $ 670,718           | $ 3,688,164  |\\n|  5 | Employee benefits and taxes              | 118,396    | 82,285        | -                   | 276,420     | 43,592               | 217,255                         | 107,496             | 241,855             | 1,087,298    |\\n|  6 | Total personnel                          | 645,476    | 461,563       | -                   | 1,032,707   | 190,231              | 991,557                         | 541,355             | 912,573             | 4,775,462    |\\n|  7 | Nonpersonnel                             |            |               |                     |             |                      |                                 |                     |                     |              |\\n|  8 | Public safety                            | -          | 23,293,289    | -                   | -           | -                    | -                               | -                   | -                   | 23,293,289   |\\n|  9 | Contractual services                     | -          | -             | 6,634,099           | 5,079,000   | 101,500              | 75,000                          | 747,374             | 662,700             | 13,299,673   |\\n| 10 | Insurance and administration             | 2,500      | -             | -                   | -           | 600                  | 5,000                           | -                   | 5,300               | 13,400       |\\n| 11 | Materials and supplies                   | 5,000      | 52,017        | -                   | 240,300     | 225,000              | 577,000                         | 135,000             | 75,500              | 1,309,817    |\\n| 12 | Telecommunications and utilities         | -          | -             | -                   | -           | 10,800               | -                               | 6,952,504           | -                   | 6,963,304    |\\n| 13 | Other operating expenses                 | 53,500     | -             | 12,575              | 45,400      | 95,544               | 735,600                         | 4,500               | 219,700             | 1,166,819    |\\n| 14 | Total nonpersonnel                       | 61,000     | 23,345,306    | 6,646,674           | 5,364,700   | 433,444              | 1,392,600                       | 7,839,378           | 963,200             | 46,046,302   |\\n| 15 | Total operating expenses                 | $ 706,476  | $ 23,806,869  | $ 6,646,674         | $ 6,397,407 | $ 623,675            | $ 2,384,157                     | $ 8,380,733         | $ 1,875,773         | $ 50,821,764 |\\n| 16 | $ Increase (Decrease) vs FY 2023 Adopted | $ (76,398) | $ 2,199,706   | $ 979,167           | $ 297,514   | $ (5,578)            | $ 310,440                       | $ 640,612           | $ 394,873           | $ 4,740,335  |\\n| 17 | % Increase (Decrease) vs FY 2023 Adopted | -9.76%     | 10.18%        | 17.28%              | 4.88%       | -0.89%               | 14.97%                          | 8.28%               | 26.66%              | 10.29%       |', '|    | 0                                | 1          | 2             | 3                   | 4           | 5                    | 6                               | 7                   | 8                   | 9            |\\n|---:|:---------------------------------|:-----------|:--------------|:--------------------|:------------|:---------------------|:--------------------------------|:--------------------|:--------------------|:-------------|\\n|  0 |                                  |            |               |                     | Adopted     | FY 2023 Budget       |                                 |                     |                     |              |\\n|  1 |                                  | Operations | Public Safety | Airfield Operations | Security    | Emergency Management | Vehicle & Equipment Maintenance | Landside Operations | Customer Experience | Total        |\\n|  2 | Headcount Approved               | 2.5        | 2.0           | -                   | 9.0         | 1.0                  | 8.0                             | 3.5                 | 9.0                 | 35.00        |\\n|  3 | Personnel                        |            |               |                     |             |                      |                                 |                     |                     |              |\\n|  4 | Salaries, wages and overtime     | 502,025    | 315,864       | -                   | 588,678     | 138,276              | 665,236                         | 228,592             | 646,834             | $ 3,085,505  |\\n|  5 | Employee benefits and taxes      | 96,099     | 63,564        | -                   | 198,195     | 39,822               | 183,881                         | 51,441              | 201,646             | 834,648      |\\n|  6 | Total personnel                  | 598,124    | 379,428       | -                   | 786,873     | 178,098              | 849,117                         | 280,032             | 848,481             | 3,920,153    |\\n|  7 | Nonpersonnel                     |            |               |                     |             |                      |                                 |                     |                     |              |\\n|  8 | Public safety                    | -          | 21,175,717    | -                   | -           | -                    | -                               | -                   | -                   | 21,175,717   |\\n|  9 | Contractual services             | 99,000     | -             | 5,654,932           | 5,062,750   | 140,500              | 50,000                          | 405,589             | 463,695             | 11,876,466   |\\n| 10 | Insurance and administration     | 15,000     | -             | -                   | -           | 600                  | 3,000                           | -                   | 7,000               | 25,600       |\\n| 11 | Materials and supplies           | 25,000     | 52,017        | -                   | 204,870     | 225,000              | 601,000                         | 100,000             | -                   | 1,207,887    |\\n| 12 | Telecommunications and utilities | -          | -             | -                   | -           | 9,600                | -                               | 6,950,000           | -                   | 6,959,600    |\\n| 13 | Other operating expenses         | 45,750     | -             | 12,575              | 45,400      | 75,455               | 570,600                         | 4,500               | 161,725             | 916,005      |\\n| 14 | Total nonpersonnel               | 184,750    | 21,227,734    | 5,667,507           | 5,313,020   | 451,155              | 1,224,600                       | 7,460,089           | 632,420             | 42,161,275   |\\n| 15 | Total operating expenses         | $ 782,874  | $ 21,607,162  | $ 5,667,507         | $ 6,099,893 | $ 629,253            | $ 2,073,717                     | $ 7,740,121         | $ 1,480,901         | $ 46,081,428 |']\n",
      "['|    | 0                                        | 1                             | 2             | 3                      | 4                       | 5            |\\n|---:|:-----------------------------------------|:------------------------------|:--------------|:-----------------------|:------------------------|:-------------|\\n|  0 |                                          |                               |               | Adopted FY 2024 Budget |                         |              |\\n|  1 |                                          | Revenue Management Department | Film Services | Ground Transportation  | Commercials Real Estate | Total        |\\n|  2 | Headcount                                | 7.0                           | -             | 2.0                    | 1.0                     | 10.00        |\\n|  3 | Personnel                                |                               |               |                        |                         |              |\\n|  4 | Salaries, wages and overtime             | 826,865                       | -             | 212,400                | 133,908                 | $ 1,173,173  |\\n|  5 | Employee benefits and taxes              | 205,723                       | -             | 36,751                 | 36,012                  | 278,486      |\\n|  6 | Total personnel                          | 1,032,588                     | -             | 249,151                | 169,920                 | 1,451,659    |\\n|  7 | Nonpersonnel                             |                               |               |                        |                         |              |\\n|  8 | Public safety                            | -                             | -             | -                      | -                       | -            |\\n|  9 | Contractual services                     | 994,620                       | 42,500        | 7,287,882              | 255,000                 | 8,580,002    |\\n| 10 | Insurance and administration             | 11,500                        | -             | -                      | 400,000                 | 411,500      |\\n| 11 | Materials and supplies                   | 15,000                        | -             | 10,000                 | -                       | 25,000       |\\n| 12 | Other operating expenses                 | 581,367                       | -             | 16,295                 | 15,600                  | 613,262      |\\n| 13 | Total nonpersonnel                       | 1,602,487                     | 42,500        | 7,314,177              | 670,600                 | 9,629,764    |\\n| 14 | Total operating expenses                 | $ 2,635,075                   | $ 42,500      | $ 7,563,328            | $ 840,520               | $ 11,081,423 |\\n| 15 | $ Increase (Decrease) vs FY 2023 Adopted | $ (6,426)                     | $ (115,000)   | $ 486,859              | $ 14,968                | $ 380,402    |\\n| 16 | % Increase (Decrease) vs FY 2023 Adopted | -0.24%                        | -73.02%       | 6.88%                  | 1.81%                   | 3.55%        |', '|    | 0                                        | 1                             | 2             | 3                      | 4                       | 5            |\\n|---:|:-----------------------------------------|:------------------------------|:--------------|:-----------------------|:------------------------|:-------------|\\n|  0 |                                          |                               |               | Adopted FY 2023 Budget |                         |              |\\n|  1 |                                          | Revenue Management Department | Film Services | Ground Transportation  | Commercials Real Estate | Total        |\\n|  2 | Headcount Original Adopted FY2023 Budget | 5.0                           | -             | 2.0                    | 2.0                     | 9.00         |\\n|  3 | Headcount Approved                       | 7.0                           | -             | 2.0                    | 1.0                     | 10.00        |\\n|  4 | Personnel                                |                               |               |                        |                         |              |\\n|  5 | Salaries, wages and overtime             | 708,586                       | -             | 186,061                | 235,449                 | $ 1,130,095  |\\n|  6 | Employee benefits and taxes              | 149,224                       | -             | 67,695                 | 54,503                  | 271,423      |\\n|  7 | Total personnel                          | 857,810                       | -             | 253,756                | 289,952                 | 1,401,518    |\\n|  8 | Nonpersonnel                             |                               |               |                        |                         |              |\\n|  9 | Public safety                            | -                             | -             | -                      | -                       | -            |\\n| 10 | Contractual services                     | 1,043,020                     | 157,500       | 6,792,418              | 120,000                 | 8,112,938    |\\n| 11 | Insurance and administration             | 351,825                       | -             | -                      | 400,000                 | 751,825      |\\n| 12 | Materials and supplies                   | 15,000                        | -             | 15,500                 | -                       | 30,500       |\\n| 13 | Other operating expenses                 | 373,846                       | -             | 14,795                 | 15,600                  | 404,241      |\\n| 14 | Total nonpersonnel                       | 1,783,691                     | 157,500       | 6,822,713              | 535,600                 | 9,299,504    |\\n| 15 | Total operating expenses                 | $ 2,641,501                   | $ 157,500     | $ 7,076,469            | $ 825,552               | $ 10,701,022 |']\n",
      "['|    | 0                                        | 1                | 2                       | 3                      | 4                    | 5           |\\n|---:|:-----------------------------------------|:-----------------|:------------------------|:-----------------------|:---------------------|:------------|\\n|  1 |                                          |                  |                         | Adopted FY 2024 Budget |                      |             |\\n|  2 |                                          | Executive Office | Air Service Development | Government Relations   | Office Administrator | Total       |\\n|  3 | Headcount                                | 8.5              | 3.0                     | 1.0                    | 1.0                  | 13.50       |\\n|  4 | Personnel                                |                  |                         |                        |                      |             |\\n|  5 | Salaries, wages and overtime             | 990,408          | 431,510                 | 187,643                | 123,372              | $ 1,732,934 |\\n|  6 | Employee benefits and taxes              | 271,280          | 117,943                 | 42,386                 | 25,777               | 457,385     |\\n|  7 | Total personnel                          | 1,261,688        | 549,453                 | 230,029                | 149,149              | 2,190,319   |\\n|  8 | Nonpersonnel                             |                  |                         |                        |                      |             |\\n|  9 | Public safety                            | -                | -                       | -                      | -                    | -           |\\n| 10 | Contractual services                     | 3,189,700        | 89,285                  | 284,500                | -                    | 3,563,485   |\\n| 11 | Insurance and administration             | 137,500          | 240                     | -                      | 60,000               | 197,740     |\\n| 12 | Materials and supplies                   | -                | 2,000                   | -                      | 27,500               | 29,500      |\\n| 13 | Telecommunications and utilities         | -                | -                       | -                      | -                    | -           |\\n| 14 | Other operating expenses                 | 407,000          | 236,275                 | 10,000                 | 27,500               | 680,775     |\\n| 15 | Total nonpersonnel                       | 3,734,200        | 327,800                 | 294,500                | 115,000              | 4,471,500   |\\n| 16 | Total operating expenses                 | $ 4,995,888      | $ 877,253               | $ 524,529              | $ 264,149            | $ 6,661,819 |\\n| 17 | $ Increase (Decrease) vs FY 2023 Adopted | $ (454,591)      | $ 200,963               | $ 60,742               | $ 264,149            | $ 71,262    |\\n| 18 | % Increase (Decrease) vs FY 2023 Adopted | -8,34%           | 29.72%                  | 13.10%                 | 100.00%              | 1.08%       |', '|    | 0                                | 1                | 2                       | 3                      | 4                    | 5           |\\n|---:|:---------------------------------|:-----------------|:------------------------|:-----------------------|:---------------------|:------------|\\n|  1 |                                  |                  |                         | Adopted FY 2023 Budget |                      |             |\\n|  2 |                                  | Executive Office | Air Service Development | Government Relations   | Office Administrator | Total       |\\n|  3 | Headcount Approved               | 9.5              | 3.0                     | 1.0                    | -                    | 13.50       |\\n|  4 | Personnel                        |                  |                         |                        |                      |             |\\n|  5 | Salaries, wages and overtime     | 1,490,874        | 277,200                 | 140,000                | -                    | $ 1,908,074 |\\n|  6 | Employee benefits and taxes      | 369,605          | 63,779                  | 31,787                 | -                    | 465,171     |\\n|  7 | Total personnel                  | 1,860,479        | 340,979                 | 171,787                | -                    | 2,373,246   |\\n|  8 | Nonpersonnel                     |                  |                         |                        |                      |             |\\n|  9 | Public safety                    | -                | -                       | -                      | -                    | -           |\\n| 10 | Contractual services             | 2,960,000        | 59,170                  | 284,500                | -                    | 3,303,670   |\\n| 11 | Insurance and administration     | 150,000          | -                       | -                      | -                    | 150,000     |\\n| 12 | Materials and supplies           | -                | 2,000                   | -                      | -                    | 2,000       |\\n| 13 | Telecommunications and utilities | -                | -                       | -                      | -                    | -           |\\n| 14 | Other operating expenses         | 480,000          | 274,141                 | 7,500                  | -                    | 761,641     |\\n| 15 | Total nonpersonnel               | 3,590,000        | 335,311                 | 292,000                | -                    | 4,217,311   |\\n| 16 | Total operating expenses         | $ 5,450,479      | $ 676,290               | $ 463,787              | $ -                  | $ 6,590,557 |']\n",
      "['|    | 0                                        | 1               | 2               | 3             | 4           |\\n|---:|:-----------------------------------------|:----------------|:----------------|:--------------|:------------|\\n|  0 |                                          |                 | Adopted         | FY2024 Budget |             |\\n|  1 |                                          | Human Resources | Risk Management | Procurement   | Total       |\\n|  2 | Headcount                                | 4.0             | 2.0             | 8.0           | 14.00       |\\n|  3 | Personnel                                |                 |                 |               |             |\\n|  4 | Salaries, wages and overtime             | $ 435,395       | $ 159,531       | $ 886,446     | $ 1,481,372 |\\n|  5 | Employee benefits and taxes              | 137,981         | 55,172          | 240,869       | 434,023     |\\n|  6 | Total personnel                          | 573,376         | 214,702         | 1,127,316     | 1,915,394   |\\n|  7 | Nonpersonnel                             |                 |                 |               |             |\\n|  8 | Public safety                            | -               | -               | -             | -           |\\n|  9 | Contractual services                     | 247,540         | 25,330          | 58,000        | 330,870     |\\n| 10 | Insurance and administration             | -               | 1,129,300       | 600           | 1,129,900   |\\n| 11 | Materials and supplies                   | 15,000          | -               | 2,500         | 17,500      |\\n| 12 | Telecommunications and utilities         | -               | -               | -             | -           |\\n| 13 | Other operating expenses                 | 166,400         | 9,355           | 94,375        | 270,130     |\\n| 14 | Total nonpersonnel                       | 428,940         | 1,163,985       | 155,475       | 1,748,400   |\\n| 15 | Total operating expenses                 | $ 1,002,316     | $ 1,378,687     | $ 1,282,791   | $ 3,663,794 |\\n| 16 | $ Increase (Decrease) vs FY 2023 Adopted | $ 293,237       | $ 93,849        | $ 866,419     | $ 1,253,505 |\\n| 17 | % Increase (Decrease) vs FY 2023 Adopted | 41.35%          | 7.30%           | 208.09%       | 52.01%      |', '|    | 0                                | 1               | 2               | 3             | 4           |\\n|---:|:---------------------------------|:----------------|:----------------|:--------------|:------------|\\n|  0 |                                  |                 | Adopted         | FY2023 Budget |             |\\n|  1 |                                  | Human Resources | Risk Management | Procurement   | Total       |\\n|  2 | Headcount Approved               | 4.0             | 1.0             | 6.0           | 11.00       |\\n|  3 | Personnel                        |                 |                 |               |             |\\n|  4 | Salaries, wages and overtime     | $ 213,752       | $ 119,691       | $ 300,489     | $ 633,933   |\\n|  5 | Employee benefits and taxes      | 61,677          | 37,397          | 76,957        | 176,031     |\\n|  6 | Total personnel                  | 275,429         | 157,088         | 377,447       | 809,964     |\\n|  7 | Nonpersonnel                     |                 |                 |               |             |\\n|  8 | Public safety                    | -               | -               | -             | -           |\\n|  9 | Contractual services             | 280,250         | 18,500          | 16,000        | 314,750     |\\n| 10 | Insurance and administration     | -               | 1,100,000       | 1,000         | 1,101,000   |\\n| 11 | Materials and supplies           | 8,400           | -               | 2,500         | 10,900      |\\n| 12 | Telecommunications and utilities | -               | -               | -             | -           |\\n| 13 | Other operating expenses         | 145,000         | 9,250           | 19,425        | 173,675     |\\n| 14 | Total nonpersonnel               | 433,650         | 1,127,750       | 38,925        | 1,600,325   |\\n| 15 | Total operating expenses         | $ 709,079       | $ 1,284,838     | $ 416,372     | $ 2,410,289 |']\n",
      "['|    | 0                                        | 1                      | 2             |\\n|---:|:-----------------------------------------|:-----------------------|:--------------|\\n|  0 |                                          | Adopted                | FY2024 Budget |\\n|  1 |                                          | Information Technology | Total         |\\n|  2 | Headcount                                | 13.0                   | 13.00         |\\n|  3 | Personnel                                |                        |               |\\n|  4 | Salaries, wages and overtime             | $ 1,121,189            | $ 1,121,189   |\\n|  5 | Employee benefits and taxes              | 339,438                | 339,438       |\\n|  6 | Total personnel                          | 1,460,627              | 1,460,627     |\\n|  7 | Nonpersonnel                             |                        |               |\\n|  8 | Public safety                            | -                      | -             |\\n|  9 | Contractual services                     | 3,537,946              | 3,537,946     |\\n| 10 | Insurance and administration             | -                      | -             |\\n| 11 | Materials and supplies                   | 1,306,000              | 1,306,000     |\\n| 12 | Telecommunications and utilities         | 368,000                | 368,000       |\\n| 13 | Other operating expenses                 | 35,000                 | 35,000        |\\n| 14 | Total nonpersonnel                       | 5,246,946              | 5,246,946     |\\n| 15 | Total operating expenses                 | $ 6,707,573            | $ 6,707,573   |\\n| 16 | $ Increase (Decrease) vs FY 2023 Adopted | $ 3,084,353            | $ 3,084,353   |\\n| 17 | % Increase (Decrease) vs FY 2023 Adopted | 85.13%                 | 85.13%        |', '|    | 0                                | 1                      | 2           |\\n|---:|:---------------------------------|:-----------------------|:------------|\\n|  0 |                                  | Adopted FY             | 2023 Budget |\\n|  1 |                                  | Information Technology | Total       |\\n|  2 | Headcount Approved               | 7.0                    | 7.00        |\\n|  3 | Personnel                        |                        |             |\\n|  4 | Salaries, wages and overtime     | $ 105,900              | $ 105,900   |\\n|  5 | Employee benefits and taxes      | 27,584                 | 27,584      |\\n|  6 | Total personnel                  | 133,484                | 133,484     |\\n|  7 | Nonpersonnel                     |                        |             |\\n|  8 | Public safety                    | -                      | -           |\\n|  9 | Contractual services             | 2,458,736              | 2,458,736   |\\n| 10 | Insurance and administration     | -                      | -           |\\n| 11 | Materials and supplies           | 657,500                | 657,500     |\\n| 12 | Telecommunications and utilities | 333,500                | 333,500     |\\n| 13 | Other operating expenses         | 40,000                 | 40,000      |\\n| 14 | Total nonpersonnel               | 3,489,736              | 3,489,736   |\\n| 15 | Total operating expenses         | $ 3,623,220            | $ 3,623,220 |']\n",
      "['|    | 0                                        | 1                                | 2                | 3           |\\n|---:|:-----------------------------------------|:---------------------------------|:-----------------|:------------|\\n|  0 | Adopted FY                               | 2024 Budget                      |                  |             |\\n|  1 |                                          | Financial Accounting & Reporting | Budget & Finance | Total       |\\n|  2 | Headcount                                | 11.0                             | 3.0              | 14.00       |\\n|  3 | Personnel                                |                                  |                  |             |\\n|  4 | Salaries, wages and overtime             | $ 1,141,565                      | $ 265,180        | $ 1,406,745 |\\n|  5 | Employee benefits and taxes              | 336,988                          | 69,825           | 406,813     |\\n|  6 | Total personnel                          | 1,478,552                        | 335,005          | 1,813,558   |\\n|  7 | Nonpersonnel                             |                                  |                  |             |\\n|  8 | Public safety                            | -                                | -                | -           |\\n|  9 | Contractual services                     | 655,126                          | 130,666          | 785,792     |\\n| 10 | Insurance and administration             | 19,415                           | 91,936           | 111,351     |\\n| 11 | Materials and supplies                   | 6,000                            | -                | 6,000       |\\n| 12 | Telecommunications and utilities         | -                                | -                | -           |\\n| 13 | Other operating expenses                 | 82,125                           | 5,000            | 87,125      |\\n| 14 | Total nonpersonnel                       | 762,666                          | 227,602          | 990,268     |\\n| 15 | Total operating expenses                 | $ 2,241,218                      | $ 562,608        | $ 2,803,826 |\\n| 16 | $ Increase (Decrease) vs FY 2023 Adopted | $ 444,096                        | $ 88,244         | $ 532,340   |\\n| 17 | % Increase (Decrease) vs FY 2023 Adopted | 24.71%                           | 18.60%           | 23.44%      |', '|    | 0                                | 1                                | 2                | 3           |\\n|---:|:---------------------------------|:---------------------------------|:-----------------|:------------|\\n|  0 | Adopted FY                       | 2023 Budget                      |                  |             |\\n|  1 |                                  | Financial Accounting & Reporting | Budget & Finance | Total       |\\n|  2 | Headcount Approved               | 10.0                             | 2.0              | 12.00       |\\n|  3 | Personnel                        |                                  |                  |             |\\n|  4 | Salaries, wages and overtime     | $ 819,630                        | $ 196,667        | $ 1,016,298 |\\n|  5 | Employee benefits and taxes      | 223,634                          | 50,094           | 273,728     |\\n|  6 | Total personnel                  | 1,043,265                        | 246,761          | 1,290,026   |\\n|  7 | Nonpersonnel                     |                                  |                  |             |\\n|  8 | Public safety                    | -                                | -                | -           |\\n|  9 | Contractual services             | 665,030                          | 130,666          | 795,696     |\\n| 10 | Insurance and administration     | 6,600                            | 91,936           | 98,536      |\\n| 11 | Materials and supplies           | 5,000                            | -                | 5,000       |\\n| 12 | Telecommunications and utilities | -                                | -                | -           |\\n| 13 | Other operating expenses         | 77,228                           | 5,000            | 82,228      |\\n| 14 | Total nonpersonnel               | 753,858                          | 227,602          | 981,460     |\\n| 15 | Total operating expenses         | $ 1,797,123                      | $ 474,363        | $ 2,271,486 |']\n",
      "['|    | 0                                        | 1                  | 2                      | 3           |\\n|---:|:-----------------------------------------|:-------------------|:-----------------------|:------------|\\n|  0 |                                          |                    | Adopted FY 2024 Budget |             |\\n|  1 |                                          | Project Management | Planning               | Total       |\\n|  2 | Headcount                                | 4.0                | 6.0                    | 10.00       |\\n|  3 | Personnel                                |                    |                        |             |\\n|  4 | Salaries, wages and overtime             | $ 552,333          | $ 840,395              | $ 1,392,728 |\\n|  5 | Employee benefits and taxes              | 185,357            | 219,635                | 404,993     |\\n|  6 | Total personnel                          | 737,690            | 1,060,030              | 1,797,720   |\\n|  7 | Nonpersonnel                             |                    |                        |             |\\n|  8 | Public safety                            | -                  | -                      | -           |\\n|  9 | Contractual services                     | 1,719,000          | 5,288,873              | 7,007,873   |\\n| 10 | Insurance and administration             | -                  | 2,500                  | 2,500       |\\n| 11 | Materials and supplies                   | 6,000              | -                      | 6,000       |\\n| 12 | Telecommunications and utilities         | -                  | -                      | -           |\\n| 13 | Other operating expenses                 | 40,000             | 77,200                 | 117,200     |\\n| 14 | Total nonpersonnel                       | 1,765,000          | 5,368,573              | 7,133,573   |\\n| 15 | Total operating expenses                 | $ 2,502,690        | $ 6,428,603            | $ 8,931,293 |\\n| 16 | $ Increase (Decrease) vs FY 2023 Adopted | $ 283,692          | $ 211,541              | $ 495,233   |\\n| 17 | % Increase (Decrease) vs FY 2023 Adopted | 12.78%             | 3.40%                  | 5.87%       |', '|    | 0                                | 1                  | 2                      | 3           |\\n|---:|:---------------------------------|:-------------------|:-----------------------|:------------|\\n|  1 |                                  |                    | Adopted FY 2023 Budget |             |\\n|  2 |                                  | Program Management | Planning               | Total       |\\n|  3 | Headcount Approved               | 4.0                | 6.0                    | 10.0        |\\n|  4 | Personnel                        |                    |                        |             |\\n|  5 | Salaries, wages and overtime     | $ 501,235          | $ 794,686              | $ 1,295,921 |\\n|  6 | Employee benefits and taxes      | 152,763            | 184,728                | 337,491     |\\n|  7 | Total personnel                  | 653,998            | 979,414                | 1,633,412   |\\n|  8 | Nonpersonnel                     |                    |                        |             |\\n|  9 | Public safety                    | -                  | -                      | -           |\\n| 10 | Contractual services             | 1,519,000          | 5,181,248              | 6,700,248   |\\n| 11 | Insurance and administration     | -                  | -                      | -           |\\n| 12 | Materials and supplies           | 6,000              | -                      | 6,000       |\\n| 13 | Telecommunications and utilities | -                  | -                      | -           |\\n| 14 | Other operating expenses         | 40,000             | 56,400                 | 96,400      |\\n| 15 | Total nonpersonnel               | 1,565,000          | 5,237,648              | 6,802,648   |\\n| 16 | Total operating expenses         | $ 2,218,998        | $ 6,217,062            | $ 8,436,060 |']\n",
      "['|    | 0                                        | 1                           | 2                      | 3            |\\n|---:|:-----------------------------------------|:----------------------------|:-----------------------|:-------------|\\n|  0 |                                          |                             | Adopted FY 2024 Budget |              |\\n|  1 |                                          | Marketing and Communication | Digital                | Total        |\\n|  2 | Headcount                                | 11.5                        | 4.0                    | 15.50        |\\n|  3 | Personnel                                |                             |                        |              |\\n|  4 | Salaries, wages and overtime             | $ 1,220,224                 | $ 473,544              | $ 1,693,768  |\\n|  5 | Employee benefits and taxes              | 357,187                     | 146,319                | 503,506      |\\n|  6 | Total personnel                          | 1,577,411                   | 619,864                | 2,197,275    |\\n|  7 | Nonpersonnel                             |                             |                        |              |\\n|  8 | Public safety                            | -                           | -                      | -            |\\n|  9 | Contractual services                     | 745,000                     | 1,844,100              | 2,589,100    |\\n| 10 | Insurance and administration             | 85,500                      | 5,500                  | 91,000       |\\n| 11 | Materials and supplies                   | -                           | -                      | -            |\\n| 12 | Other operating expenses                 | 6,313,413                   | 36,600                 | 6,350,013    |\\n| 13 | Total nonpersonnel                       | 7,143,913                   | 1,886,200              | 9,030,113    |\\n| 14 | Total operating expenses                 | $ 8,721,324                 | $ 2,506,064            | $ 11,227,388 |\\n| 15 | $ Increase (Decrease) vs FY 2023 Adopted | $ 1,884,093                 | $ 495,277              | $ 2,379,370  |\\n| 16 | % Increase (Decrease) vs FY 2023 Adopted | 27.56%                      | 24.63%                 | 26.89%       |', '|    | 0                            | 1                           | 2                      | 3           |\\n|---:|:-----------------------------|:----------------------------|:-----------------------|:------------|\\n|  0 |                              |                             | Adopted FY 2023 Budget |             |\\n|  1 |                              | Marketing and Communication | Digital                | Total       |\\n|  2 | Headcount Approved           | 10.5                        | 4.0                    | 14.5        |\\n|  3 | Personnel                    |                             |                        |             |\\n|  4 | Salaries, wages and overtime | $ 852,564                   | $ 366,213              | $ 1,218,777 |\\n|  5 | Employee benefits and taxes  | 196,117                     | 82,701                 | 278,819     |\\n|  6 | Total personnel              | 1,048,681                   | 448,914                | 1,497,596   |\\n|  7 | Nonpersonnel                 |                             |                        |             |\\n|  8 | Public safety                | -                           | -                      | -           |\\n|  9 | Contractual services         | 450,000                     | 1,539,972              | 1,989,972   |\\n| 10 | Insurance and administration | 15,000                      | 5,500                  | 20,500      |\\n| 11 | Materials and supplies       | -                           | -                      | -           |\\n| 12 | Other operating expenses     | 5,323,550                   | 16,400                 | 5,339,950   |\\n| 13 | Total nonpersonnel           | 5,788,550                   | 1,561,872              | 7,350,422   |\\n| 14 | Total operating expenses     | $ 6,837,231                 | $ 2,010,786            | $ 8,848,018 |']\n",
      "Finished processing document s3://demoexperimentdata2/prepared_pdf_documents/Ontario-Airport/fiscal_year_23-24_adopted_operating_budget.pdf.\n",
      "\n"
     ]
    }
   ],
   "source": [
    "documents_processed = process_jobs_in_parallel(job_id_dict)"
   ]
  },
  {
   "cell_type": "markdown",
   "id": "f595c5c5-d4e1-4fbe-ab72-91e42ae13133",
   "metadata": {},
   "source": [
    "# Store the results"
   ]
  },
  {
   "cell_type": "code",
   "execution_count": 28,
   "id": "f5c84fc8-2936-428a-ae94-03328619929d",
   "metadata": {
    "tags": []
   },
   "outputs": [],
   "source": [
    "from utils.helpers import store_list_to_s3"
   ]
  },
  {
   "cell_type": "code",
   "execution_count": 31,
   "id": "1b970f0e-7f68-4dff-8df5-ab3cddac69d2",
   "metadata": {
    "tags": []
   },
   "outputs": [
    {
     "ename": "ParamValidationError",
     "evalue": "Parameter validation failed:\nInvalid bucket name \"s3://demoexperimentdata2/prepared_pdf_documents/Ontario-Airport/\": Bucket name must match the regex \"^[a-zA-Z0-9.\\-_]{1,255}$\" or be an ARN matching the regex \"^arn:(aws).*:(s3|s3-object-lambda):[a-z\\-0-9]*:[0-9]{12}:accesspoint[/:][a-zA-Z0-9\\-.]{1,63}$|^arn:(aws).*:s3-outposts:[a-z\\-0-9]+:[0-9]{12}:outpost[/:][a-zA-Z0-9\\-]{1,63}[/:]accesspoint[/:][a-zA-Z0-9\\-]{1,63}$\"",
     "output_type": "error",
     "traceback": [
      "\u001b[0;31m---------------------------------------------------------------------------\u001b[0m",
      "\u001b[0;31mParamValidationError\u001b[0m                      Traceback (most recent call last)",
      "Cell \u001b[0;32mIn[31], line 2\u001b[0m\n\u001b[1;32m      1\u001b[0m \u001b[38;5;66;03m# We serialize and save the document processing results as a json to reuse in different jobs\u001b[39;00m\n\u001b[0;32m----> 2\u001b[0m \u001b[43mstore_list_to_s3\u001b[49m\u001b[43m(\u001b[49m\u001b[43mS3_BUCKET_NAME\u001b[49m\u001b[43m,\u001b[49m\u001b[43m \u001b[49m\u001b[38;5;124;43m\"\u001b[39;49m\u001b[38;5;124;43mdocuments_airport.json\u001b[39;49m\u001b[38;5;124;43m\"\u001b[39;49m\u001b[43m,\u001b[49m\u001b[43m \u001b[49m\u001b[43mdocuments_processed\u001b[49m\u001b[43m)\u001b[49m\n",
      "File \u001b[0;32m~/aws-agentic-document-assistant/test-code/utils/helpers.py:12\u001b[0m, in \u001b[0;36mstore_list_to_s3\u001b[0;34m(bucket_name, object_key, data)\u001b[0m\n\u001b[1;32m     10\u001b[0m json_data \u001b[38;5;241m=\u001b[39m json\u001b[38;5;241m.\u001b[39mdumps(data)\n\u001b[1;32m     11\u001b[0m \u001b[38;5;66;03m# Upload the json data to S3\u001b[39;00m\n\u001b[0;32m---> 12\u001b[0m \u001b[43ms3_client\u001b[49m\u001b[38;5;241;43m.\u001b[39;49m\u001b[43mput_object\u001b[49m\u001b[43m(\u001b[49m\u001b[43mBucket\u001b[49m\u001b[38;5;241;43m=\u001b[39;49m\u001b[43mbucket_name\u001b[49m\u001b[43m,\u001b[49m\u001b[43m \u001b[49m\u001b[43mKey\u001b[49m\u001b[38;5;241;43m=\u001b[39;49m\u001b[43mobject_key\u001b[49m\u001b[43m,\u001b[49m\u001b[43m \u001b[49m\u001b[43mBody\u001b[49m\u001b[38;5;241;43m=\u001b[39;49m\u001b[43mjson_data\u001b[49m\u001b[43m)\u001b[49m\n",
      "File \u001b[0;32m/opt/conda/lib/python3.10/site-packages/botocore/client.py:553\u001b[0m, in \u001b[0;36mClientCreator._create_api_method.<locals>._api_call\u001b[0;34m(self, *args, **kwargs)\u001b[0m\n\u001b[1;32m    549\u001b[0m     \u001b[38;5;28;01mraise\u001b[39;00m \u001b[38;5;167;01mTypeError\u001b[39;00m(\n\u001b[1;32m    550\u001b[0m         \u001b[38;5;124mf\u001b[39m\u001b[38;5;124m\"\u001b[39m\u001b[38;5;132;01m{\u001b[39;00mpy_operation_name\u001b[38;5;132;01m}\u001b[39;00m\u001b[38;5;124m() only accepts keyword arguments.\u001b[39m\u001b[38;5;124m\"\u001b[39m\n\u001b[1;32m    551\u001b[0m     )\n\u001b[1;32m    552\u001b[0m \u001b[38;5;66;03m# The \"self\" in this scope is referring to the BaseClient.\u001b[39;00m\n\u001b[0;32m--> 553\u001b[0m \u001b[38;5;28;01mreturn\u001b[39;00m \u001b[38;5;28;43mself\u001b[39;49m\u001b[38;5;241;43m.\u001b[39;49m\u001b[43m_make_api_call\u001b[49m\u001b[43m(\u001b[49m\u001b[43moperation_name\u001b[49m\u001b[43m,\u001b[49m\u001b[43m \u001b[49m\u001b[43mkwargs\u001b[49m\u001b[43m)\u001b[49m\n",
      "File \u001b[0;32m/opt/conda/lib/python3.10/site-packages/botocore/client.py:946\u001b[0m, in \u001b[0;36mBaseClient._make_api_call\u001b[0;34m(self, operation_name, api_params)\u001b[0m\n\u001b[1;32m    937\u001b[0m     logger\u001b[38;5;241m.\u001b[39mdebug(\n\u001b[1;32m    938\u001b[0m         \u001b[38;5;124m'\u001b[39m\u001b[38;5;124mWarning: \u001b[39m\u001b[38;5;132;01m%s\u001b[39;00m\u001b[38;5;124m.\u001b[39m\u001b[38;5;132;01m%s\u001b[39;00m\u001b[38;5;124m() is deprecated\u001b[39m\u001b[38;5;124m'\u001b[39m, service_name, operation_name\n\u001b[1;32m    939\u001b[0m     )\n\u001b[1;32m    940\u001b[0m request_context \u001b[38;5;241m=\u001b[39m {\n\u001b[1;32m    941\u001b[0m     \u001b[38;5;124m'\u001b[39m\u001b[38;5;124mclient_region\u001b[39m\u001b[38;5;124m'\u001b[39m: \u001b[38;5;28mself\u001b[39m\u001b[38;5;241m.\u001b[39mmeta\u001b[38;5;241m.\u001b[39mregion_name,\n\u001b[1;32m    942\u001b[0m     \u001b[38;5;124m'\u001b[39m\u001b[38;5;124mclient_config\u001b[39m\u001b[38;5;124m'\u001b[39m: \u001b[38;5;28mself\u001b[39m\u001b[38;5;241m.\u001b[39mmeta\u001b[38;5;241m.\u001b[39mconfig,\n\u001b[1;32m    943\u001b[0m     \u001b[38;5;124m'\u001b[39m\u001b[38;5;124mhas_streaming_input\u001b[39m\u001b[38;5;124m'\u001b[39m: operation_model\u001b[38;5;241m.\u001b[39mhas_streaming_input,\n\u001b[1;32m    944\u001b[0m     \u001b[38;5;124m'\u001b[39m\u001b[38;5;124mauth_type\u001b[39m\u001b[38;5;124m'\u001b[39m: operation_model\u001b[38;5;241m.\u001b[39mauth_type,\n\u001b[1;32m    945\u001b[0m }\n\u001b[0;32m--> 946\u001b[0m api_params \u001b[38;5;241m=\u001b[39m \u001b[38;5;28;43mself\u001b[39;49m\u001b[38;5;241;43m.\u001b[39;49m\u001b[43m_emit_api_params\u001b[49m\u001b[43m(\u001b[49m\n\u001b[1;32m    947\u001b[0m \u001b[43m    \u001b[49m\u001b[43mapi_params\u001b[49m\u001b[38;5;241;43m=\u001b[39;49m\u001b[43mapi_params\u001b[49m\u001b[43m,\u001b[49m\n\u001b[1;32m    948\u001b[0m \u001b[43m    \u001b[49m\u001b[43moperation_model\u001b[49m\u001b[38;5;241;43m=\u001b[39;49m\u001b[43moperation_model\u001b[49m\u001b[43m,\u001b[49m\n\u001b[1;32m    949\u001b[0m \u001b[43m    \u001b[49m\u001b[43mcontext\u001b[49m\u001b[38;5;241;43m=\u001b[39;49m\u001b[43mrequest_context\u001b[49m\u001b[43m,\u001b[49m\n\u001b[1;32m    950\u001b[0m \u001b[43m\u001b[49m\u001b[43m)\u001b[49m\n\u001b[1;32m    951\u001b[0m (\n\u001b[1;32m    952\u001b[0m     endpoint_url,\n\u001b[1;32m    953\u001b[0m     additional_headers,\n\u001b[0;32m   (...)\u001b[0m\n\u001b[1;32m    956\u001b[0m     operation_model, api_params, request_context\n\u001b[1;32m    957\u001b[0m )\n\u001b[1;32m    958\u001b[0m \u001b[38;5;28;01mif\u001b[39;00m properties:\n\u001b[1;32m    959\u001b[0m     \u001b[38;5;66;03m# Pass arbitrary endpoint info with the Request\u001b[39;00m\n\u001b[1;32m    960\u001b[0m     \u001b[38;5;66;03m# for use during construction.\u001b[39;00m\n",
      "File \u001b[0;32m/opt/conda/lib/python3.10/site-packages/botocore/client.py:1072\u001b[0m, in \u001b[0;36mBaseClient._emit_api_params\u001b[0;34m(self, api_params, operation_model, context)\u001b[0m\n\u001b[1;32m   1064\u001b[0m responses \u001b[38;5;241m=\u001b[39m \u001b[38;5;28mself\u001b[39m\u001b[38;5;241m.\u001b[39mmeta\u001b[38;5;241m.\u001b[39mevents\u001b[38;5;241m.\u001b[39memit(\n\u001b[1;32m   1065\u001b[0m     \u001b[38;5;124mf\u001b[39m\u001b[38;5;124m'\u001b[39m\u001b[38;5;124mprovide-client-params.\u001b[39m\u001b[38;5;132;01m{\u001b[39;00mservice_id\u001b[38;5;132;01m}\u001b[39;00m\u001b[38;5;124m.\u001b[39m\u001b[38;5;132;01m{\u001b[39;00moperation_name\u001b[38;5;132;01m}\u001b[39;00m\u001b[38;5;124m'\u001b[39m,\n\u001b[1;32m   1066\u001b[0m     params\u001b[38;5;241m=\u001b[39mapi_params,\n\u001b[1;32m   1067\u001b[0m     model\u001b[38;5;241m=\u001b[39moperation_model,\n\u001b[1;32m   1068\u001b[0m     context\u001b[38;5;241m=\u001b[39mcontext,\n\u001b[1;32m   1069\u001b[0m )\n\u001b[1;32m   1070\u001b[0m api_params \u001b[38;5;241m=\u001b[39m first_non_none_response(responses, default\u001b[38;5;241m=\u001b[39mapi_params)\n\u001b[0;32m-> 1072\u001b[0m \u001b[38;5;28;43mself\u001b[39;49m\u001b[38;5;241;43m.\u001b[39;49m\u001b[43mmeta\u001b[49m\u001b[38;5;241;43m.\u001b[39;49m\u001b[43mevents\u001b[49m\u001b[38;5;241;43m.\u001b[39;49m\u001b[43memit\u001b[49m\u001b[43m(\u001b[49m\n\u001b[1;32m   1073\u001b[0m \u001b[43m    \u001b[49m\u001b[38;5;124;43mf\u001b[39;49m\u001b[38;5;124;43m'\u001b[39;49m\u001b[38;5;124;43mbefore-parameter-build.\u001b[39;49m\u001b[38;5;132;43;01m{\u001b[39;49;00m\u001b[43mservice_id\u001b[49m\u001b[38;5;132;43;01m}\u001b[39;49;00m\u001b[38;5;124;43m.\u001b[39;49m\u001b[38;5;132;43;01m{\u001b[39;49;00m\u001b[43moperation_name\u001b[49m\u001b[38;5;132;43;01m}\u001b[39;49;00m\u001b[38;5;124;43m'\u001b[39;49m\u001b[43m,\u001b[49m\n\u001b[1;32m   1074\u001b[0m \u001b[43m    \u001b[49m\u001b[43mparams\u001b[49m\u001b[38;5;241;43m=\u001b[39;49m\u001b[43mapi_params\u001b[49m\u001b[43m,\u001b[49m\n\u001b[1;32m   1075\u001b[0m \u001b[43m    \u001b[49m\u001b[43mmodel\u001b[49m\u001b[38;5;241;43m=\u001b[39;49m\u001b[43moperation_model\u001b[49m\u001b[43m,\u001b[49m\n\u001b[1;32m   1076\u001b[0m \u001b[43m    \u001b[49m\u001b[43mcontext\u001b[49m\u001b[38;5;241;43m=\u001b[39;49m\u001b[43mcontext\u001b[49m\u001b[43m,\u001b[49m\n\u001b[1;32m   1077\u001b[0m \u001b[43m\u001b[49m\u001b[43m)\u001b[49m\n\u001b[1;32m   1078\u001b[0m \u001b[38;5;28;01mreturn\u001b[39;00m api_params\n",
      "File \u001b[0;32m/opt/conda/lib/python3.10/site-packages/botocore/hooks.py:412\u001b[0m, in \u001b[0;36mEventAliaser.emit\u001b[0;34m(self, event_name, **kwargs)\u001b[0m\n\u001b[1;32m    410\u001b[0m \u001b[38;5;28;01mdef\u001b[39;00m \u001b[38;5;21memit\u001b[39m(\u001b[38;5;28mself\u001b[39m, event_name, \u001b[38;5;241m*\u001b[39m\u001b[38;5;241m*\u001b[39mkwargs):\n\u001b[1;32m    411\u001b[0m     aliased_event_name \u001b[38;5;241m=\u001b[39m \u001b[38;5;28mself\u001b[39m\u001b[38;5;241m.\u001b[39m_alias_event_name(event_name)\n\u001b[0;32m--> 412\u001b[0m     \u001b[38;5;28;01mreturn\u001b[39;00m \u001b[38;5;28;43mself\u001b[39;49m\u001b[38;5;241;43m.\u001b[39;49m\u001b[43m_emitter\u001b[49m\u001b[38;5;241;43m.\u001b[39;49m\u001b[43memit\u001b[49m\u001b[43m(\u001b[49m\u001b[43maliased_event_name\u001b[49m\u001b[43m,\u001b[49m\u001b[43m \u001b[49m\u001b[38;5;241;43m*\u001b[39;49m\u001b[38;5;241;43m*\u001b[39;49m\u001b[43mkwargs\u001b[49m\u001b[43m)\u001b[49m\n",
      "File \u001b[0;32m/opt/conda/lib/python3.10/site-packages/botocore/hooks.py:256\u001b[0m, in \u001b[0;36mHierarchicalEmitter.emit\u001b[0;34m(self, event_name, **kwargs)\u001b[0m\n\u001b[1;32m    245\u001b[0m \u001b[38;5;28;01mdef\u001b[39;00m \u001b[38;5;21memit\u001b[39m(\u001b[38;5;28mself\u001b[39m, event_name, \u001b[38;5;241m*\u001b[39m\u001b[38;5;241m*\u001b[39mkwargs):\n\u001b[1;32m    246\u001b[0m \u001b[38;5;250m    \u001b[39m\u001b[38;5;124;03m\"\"\"\u001b[39;00m\n\u001b[1;32m    247\u001b[0m \u001b[38;5;124;03m    Emit an event by name with arguments passed as keyword args.\u001b[39;00m\n\u001b[1;32m    248\u001b[0m \n\u001b[0;32m   (...)\u001b[0m\n\u001b[1;32m    254\u001b[0m \u001b[38;5;124;03m             handlers.\u001b[39;00m\n\u001b[1;32m    255\u001b[0m \u001b[38;5;124;03m    \"\"\"\u001b[39;00m\n\u001b[0;32m--> 256\u001b[0m     \u001b[38;5;28;01mreturn\u001b[39;00m \u001b[38;5;28;43mself\u001b[39;49m\u001b[38;5;241;43m.\u001b[39;49m\u001b[43m_emit\u001b[49m\u001b[43m(\u001b[49m\u001b[43mevent_name\u001b[49m\u001b[43m,\u001b[49m\u001b[43m \u001b[49m\u001b[43mkwargs\u001b[49m\u001b[43m)\u001b[49m\n",
      "File \u001b[0;32m/opt/conda/lib/python3.10/site-packages/botocore/hooks.py:239\u001b[0m, in \u001b[0;36mHierarchicalEmitter._emit\u001b[0;34m(self, event_name, kwargs, stop_on_response)\u001b[0m\n\u001b[1;32m    237\u001b[0m \u001b[38;5;28;01mfor\u001b[39;00m handler \u001b[38;5;129;01min\u001b[39;00m handlers_to_call:\n\u001b[1;32m    238\u001b[0m     logger\u001b[38;5;241m.\u001b[39mdebug(\u001b[38;5;124m'\u001b[39m\u001b[38;5;124mEvent \u001b[39m\u001b[38;5;132;01m%s\u001b[39;00m\u001b[38;5;124m: calling handler \u001b[39m\u001b[38;5;132;01m%s\u001b[39;00m\u001b[38;5;124m'\u001b[39m, event_name, handler)\n\u001b[0;32m--> 239\u001b[0m     response \u001b[38;5;241m=\u001b[39m \u001b[43mhandler\u001b[49m\u001b[43m(\u001b[49m\u001b[38;5;241;43m*\u001b[39;49m\u001b[38;5;241;43m*\u001b[39;49m\u001b[43mkwargs\u001b[49m\u001b[43m)\u001b[49m\n\u001b[1;32m    240\u001b[0m     responses\u001b[38;5;241m.\u001b[39mappend((handler, response))\n\u001b[1;32m    241\u001b[0m     \u001b[38;5;28;01mif\u001b[39;00m stop_on_response \u001b[38;5;129;01mand\u001b[39;00m response \u001b[38;5;129;01mis\u001b[39;00m \u001b[38;5;129;01mnot\u001b[39;00m \u001b[38;5;28;01mNone\u001b[39;00m:\n",
      "File \u001b[0;32m/opt/conda/lib/python3.10/site-packages/botocore/handlers.py:288\u001b[0m, in \u001b[0;36mvalidate_bucket_name\u001b[0;34m(params, **kwargs)\u001b[0m\n\u001b[1;32m    282\u001b[0m \u001b[38;5;28;01mif\u001b[39;00m \u001b[38;5;129;01mnot\u001b[39;00m VALID_BUCKET\u001b[38;5;241m.\u001b[39msearch(bucket) \u001b[38;5;129;01mand\u001b[39;00m \u001b[38;5;129;01mnot\u001b[39;00m VALID_S3_ARN\u001b[38;5;241m.\u001b[39msearch(bucket):\n\u001b[1;32m    283\u001b[0m     error_msg \u001b[38;5;241m=\u001b[39m (\n\u001b[1;32m    284\u001b[0m         \u001b[38;5;124mf\u001b[39m\u001b[38;5;124m'\u001b[39m\u001b[38;5;124mInvalid bucket name \u001b[39m\u001b[38;5;124m\"\u001b[39m\u001b[38;5;132;01m{\u001b[39;00mbucket\u001b[38;5;132;01m}\u001b[39;00m\u001b[38;5;124m\"\u001b[39m\u001b[38;5;124m: Bucket name must match \u001b[39m\u001b[38;5;124m'\u001b[39m\n\u001b[1;32m    285\u001b[0m         \u001b[38;5;124mf\u001b[39m\u001b[38;5;124m'\u001b[39m\u001b[38;5;124mthe regex \u001b[39m\u001b[38;5;124m\"\u001b[39m\u001b[38;5;132;01m{\u001b[39;00mVALID_BUCKET\u001b[38;5;241m.\u001b[39mpattern\u001b[38;5;132;01m}\u001b[39;00m\u001b[38;5;124m\"\u001b[39m\u001b[38;5;124m or be an ARN matching \u001b[39m\u001b[38;5;124m'\u001b[39m\n\u001b[1;32m    286\u001b[0m         \u001b[38;5;124mf\u001b[39m\u001b[38;5;124m'\u001b[39m\u001b[38;5;124mthe regex \u001b[39m\u001b[38;5;124m\"\u001b[39m\u001b[38;5;132;01m{\u001b[39;00mVALID_S3_ARN\u001b[38;5;241m.\u001b[39mpattern\u001b[38;5;132;01m}\u001b[39;00m\u001b[38;5;124m\"\u001b[39m\u001b[38;5;124m'\u001b[39m\n\u001b[1;32m    287\u001b[0m     )\n\u001b[0;32m--> 288\u001b[0m     \u001b[38;5;28;01mraise\u001b[39;00m ParamValidationError(report\u001b[38;5;241m=\u001b[39merror_msg)\n",
      "\u001b[0;31mParamValidationError\u001b[0m: Parameter validation failed:\nInvalid bucket name \"s3://demoexperimentdata2/prepared_pdf_documents/Ontario-Airport/\": Bucket name must match the regex \"^[a-zA-Z0-9.\\-_]{1,255}$\" or be an ARN matching the regex \"^arn:(aws).*:(s3|s3-object-lambda):[a-z\\-0-9]*:[0-9]{12}:accesspoint[/:][a-zA-Z0-9\\-.]{1,63}$|^arn:(aws).*:s3-outposts:[a-z\\-0-9]+:[0-9]{12}:outpost[/:][a-zA-Z0-9\\-]{1,63}[/:]accesspoint[/:][a-zA-Z0-9\\-]{1,63}$\""
     ]
    }
   ],
   "source": [
    "# We serialize and save the document processing results as a json to reuse in different jobs\n",
    "store_list_to_s3(S3_BUCKET_NAME, \"documents_airport.json\", documents_processed)"
   ]
  },
  {
   "cell_type": "code",
   "execution_count": null,
   "id": "a43a76c9-c13b-40df-bb66-860ae918a7c1",
   "metadata": {
    "tags": []
   },
   "outputs": [],
   "source": [
    "!aws s3 ls {S3_BUCKET_NAME}/documents_processed.json"
   ]
  },
  {
   "cell_type": "code",
   "execution_count": null,
   "id": "499e6920-c362-4ce7-80b8-26fff7b878ee",
   "metadata": {
    "tags": []
   },
   "outputs": [],
   "source": [
    "len(documents_processed)"
   ]
  },
  {
   "cell_type": "code",
   "execution_count": 32,
   "id": "d9e15b30-574c-4132-8c05-b25c2c5004d0",
   "metadata": {},
   "outputs": [
    {
     "name": "stdout",
     "output_type": "stream",
     "text": [
      "<class 'list'>\n"
     ]
    }
   ],
   "source": [
    "print(type(documents_processed))"
   ]
  },
  {
   "cell_type": "code",
   "execution_count": 33,
   "id": "23c46bc2-bb92-4604-9155-848191dfdd25",
   "metadata": {},
   "outputs": [],
   "source": [
    "import json\n",
    "json_file = \"documents_airport.json\"\n",
    "with open(json_file, 'w') as f:\n",
    "    json.dump(documents_processed, f)"
   ]
  },
  {
   "cell_type": "code",
   "execution_count": null,
   "id": "f29cb960-8b9d-41f6-980c-d1f2642a9f55",
   "metadata": {},
   "outputs": [],
   "source": []
  }
 ],
 "metadata": {
  "availableInstances": [
   {
    "_defaultOrder": 0,
    "_isFastLaunch": true,
    "category": "General purpose",
    "gpuNum": 0,
    "hideHardwareSpecs": false,
    "memoryGiB": 4,
    "name": "ml.t3.medium",
    "vcpuNum": 2
   },
   {
    "_defaultOrder": 1,
    "_isFastLaunch": false,
    "category": "General purpose",
    "gpuNum": 0,
    "hideHardwareSpecs": false,
    "memoryGiB": 8,
    "name": "ml.t3.large",
    "vcpuNum": 2
   },
   {
    "_defaultOrder": 2,
    "_isFastLaunch": false,
    "category": "General purpose",
    "gpuNum": 0,
    "hideHardwareSpecs": false,
    "memoryGiB": 16,
    "name": "ml.t3.xlarge",
    "vcpuNum": 4
   },
   {
    "_defaultOrder": 3,
    "_isFastLaunch": false,
    "category": "General purpose",
    "gpuNum": 0,
    "hideHardwareSpecs": false,
    "memoryGiB": 32,
    "name": "ml.t3.2xlarge",
    "vcpuNum": 8
   },
   {
    "_defaultOrder": 4,
    "_isFastLaunch": true,
    "category": "General purpose",
    "gpuNum": 0,
    "hideHardwareSpecs": false,
    "memoryGiB": 8,
    "name": "ml.m5.large",
    "vcpuNum": 2
   },
   {
    "_defaultOrder": 5,
    "_isFastLaunch": false,
    "category": "General purpose",
    "gpuNum": 0,
    "hideHardwareSpecs": false,
    "memoryGiB": 16,
    "name": "ml.m5.xlarge",
    "vcpuNum": 4
   },
   {
    "_defaultOrder": 6,
    "_isFastLaunch": false,
    "category": "General purpose",
    "gpuNum": 0,
    "hideHardwareSpecs": false,
    "memoryGiB": 32,
    "name": "ml.m5.2xlarge",
    "vcpuNum": 8
   },
   {
    "_defaultOrder": 7,
    "_isFastLaunch": false,
    "category": "General purpose",
    "gpuNum": 0,
    "hideHardwareSpecs": false,
    "memoryGiB": 64,
    "name": "ml.m5.4xlarge",
    "vcpuNum": 16
   },
   {
    "_defaultOrder": 8,
    "_isFastLaunch": false,
    "category": "General purpose",
    "gpuNum": 0,
    "hideHardwareSpecs": false,
    "memoryGiB": 128,
    "name": "ml.m5.8xlarge",
    "vcpuNum": 32
   },
   {
    "_defaultOrder": 9,
    "_isFastLaunch": false,
    "category": "General purpose",
    "gpuNum": 0,
    "hideHardwareSpecs": false,
    "memoryGiB": 192,
    "name": "ml.m5.12xlarge",
    "vcpuNum": 48
   },
   {
    "_defaultOrder": 10,
    "_isFastLaunch": false,
    "category": "General purpose",
    "gpuNum": 0,
    "hideHardwareSpecs": false,
    "memoryGiB": 256,
    "name": "ml.m5.16xlarge",
    "vcpuNum": 64
   },
   {
    "_defaultOrder": 11,
    "_isFastLaunch": false,
    "category": "General purpose",
    "gpuNum": 0,
    "hideHardwareSpecs": false,
    "memoryGiB": 384,
    "name": "ml.m5.24xlarge",
    "vcpuNum": 96
   },
   {
    "_defaultOrder": 12,
    "_isFastLaunch": false,
    "category": "General purpose",
    "gpuNum": 0,
    "hideHardwareSpecs": false,
    "memoryGiB": 8,
    "name": "ml.m5d.large",
    "vcpuNum": 2
   },
   {
    "_defaultOrder": 13,
    "_isFastLaunch": false,
    "category": "General purpose",
    "gpuNum": 0,
    "hideHardwareSpecs": false,
    "memoryGiB": 16,
    "name": "ml.m5d.xlarge",
    "vcpuNum": 4
   },
   {
    "_defaultOrder": 14,
    "_isFastLaunch": false,
    "category": "General purpose",
    "gpuNum": 0,
    "hideHardwareSpecs": false,
    "memoryGiB": 32,
    "name": "ml.m5d.2xlarge",
    "vcpuNum": 8
   },
   {
    "_defaultOrder": 15,
    "_isFastLaunch": false,
    "category": "General purpose",
    "gpuNum": 0,
    "hideHardwareSpecs": false,
    "memoryGiB": 64,
    "name": "ml.m5d.4xlarge",
    "vcpuNum": 16
   },
   {
    "_defaultOrder": 16,
    "_isFastLaunch": false,
    "category": "General purpose",
    "gpuNum": 0,
    "hideHardwareSpecs": false,
    "memoryGiB": 128,
    "name": "ml.m5d.8xlarge",
    "vcpuNum": 32
   },
   {
    "_defaultOrder": 17,
    "_isFastLaunch": false,
    "category": "General purpose",
    "gpuNum": 0,
    "hideHardwareSpecs": false,
    "memoryGiB": 192,
    "name": "ml.m5d.12xlarge",
    "vcpuNum": 48
   },
   {
    "_defaultOrder": 18,
    "_isFastLaunch": false,
    "category": "General purpose",
    "gpuNum": 0,
    "hideHardwareSpecs": false,
    "memoryGiB": 256,
    "name": "ml.m5d.16xlarge",
    "vcpuNum": 64
   },
   {
    "_defaultOrder": 19,
    "_isFastLaunch": false,
    "category": "General purpose",
    "gpuNum": 0,
    "hideHardwareSpecs": false,
    "memoryGiB": 384,
    "name": "ml.m5d.24xlarge",
    "vcpuNum": 96
   },
   {
    "_defaultOrder": 20,
    "_isFastLaunch": false,
    "category": "General purpose",
    "gpuNum": 0,
    "hideHardwareSpecs": true,
    "memoryGiB": 0,
    "name": "ml.geospatial.interactive",
    "supportedImageNames": [
     "sagemaker-geospatial-v1-0"
    ],
    "vcpuNum": 0
   },
   {
    "_defaultOrder": 21,
    "_isFastLaunch": true,
    "category": "Compute optimized",
    "gpuNum": 0,
    "hideHardwareSpecs": false,
    "memoryGiB": 4,
    "name": "ml.c5.large",
    "vcpuNum": 2
   },
   {
    "_defaultOrder": 22,
    "_isFastLaunch": false,
    "category": "Compute optimized",
    "gpuNum": 0,
    "hideHardwareSpecs": false,
    "memoryGiB": 8,
    "name": "ml.c5.xlarge",
    "vcpuNum": 4
   },
   {
    "_defaultOrder": 23,
    "_isFastLaunch": false,
    "category": "Compute optimized",
    "gpuNum": 0,
    "hideHardwareSpecs": false,
    "memoryGiB": 16,
    "name": "ml.c5.2xlarge",
    "vcpuNum": 8
   },
   {
    "_defaultOrder": 24,
    "_isFastLaunch": false,
    "category": "Compute optimized",
    "gpuNum": 0,
    "hideHardwareSpecs": false,
    "memoryGiB": 32,
    "name": "ml.c5.4xlarge",
    "vcpuNum": 16
   },
   {
    "_defaultOrder": 25,
    "_isFastLaunch": false,
    "category": "Compute optimized",
    "gpuNum": 0,
    "hideHardwareSpecs": false,
    "memoryGiB": 72,
    "name": "ml.c5.9xlarge",
    "vcpuNum": 36
   },
   {
    "_defaultOrder": 26,
    "_isFastLaunch": false,
    "category": "Compute optimized",
    "gpuNum": 0,
    "hideHardwareSpecs": false,
    "memoryGiB": 96,
    "name": "ml.c5.12xlarge",
    "vcpuNum": 48
   },
   {
    "_defaultOrder": 27,
    "_isFastLaunch": false,
    "category": "Compute optimized",
    "gpuNum": 0,
    "hideHardwareSpecs": false,
    "memoryGiB": 144,
    "name": "ml.c5.18xlarge",
    "vcpuNum": 72
   },
   {
    "_defaultOrder": 28,
    "_isFastLaunch": false,
    "category": "Compute optimized",
    "gpuNum": 0,
    "hideHardwareSpecs": false,
    "memoryGiB": 192,
    "name": "ml.c5.24xlarge",
    "vcpuNum": 96
   },
   {
    "_defaultOrder": 29,
    "_isFastLaunch": true,
    "category": "Accelerated computing",
    "gpuNum": 1,
    "hideHardwareSpecs": false,
    "memoryGiB": 16,
    "name": "ml.g4dn.xlarge",
    "vcpuNum": 4
   },
   {
    "_defaultOrder": 30,
    "_isFastLaunch": false,
    "category": "Accelerated computing",
    "gpuNum": 1,
    "hideHardwareSpecs": false,
    "memoryGiB": 32,
    "name": "ml.g4dn.2xlarge",
    "vcpuNum": 8
   },
   {
    "_defaultOrder": 31,
    "_isFastLaunch": false,
    "category": "Accelerated computing",
    "gpuNum": 1,
    "hideHardwareSpecs": false,
    "memoryGiB": 64,
    "name": "ml.g4dn.4xlarge",
    "vcpuNum": 16
   },
   {
    "_defaultOrder": 32,
    "_isFastLaunch": false,
    "category": "Accelerated computing",
    "gpuNum": 1,
    "hideHardwareSpecs": false,
    "memoryGiB": 128,
    "name": "ml.g4dn.8xlarge",
    "vcpuNum": 32
   },
   {
    "_defaultOrder": 33,
    "_isFastLaunch": false,
    "category": "Accelerated computing",
    "gpuNum": 4,
    "hideHardwareSpecs": false,
    "memoryGiB": 192,
    "name": "ml.g4dn.12xlarge",
    "vcpuNum": 48
   },
   {
    "_defaultOrder": 34,
    "_isFastLaunch": false,
    "category": "Accelerated computing",
    "gpuNum": 1,
    "hideHardwareSpecs": false,
    "memoryGiB": 256,
    "name": "ml.g4dn.16xlarge",
    "vcpuNum": 64
   },
   {
    "_defaultOrder": 35,
    "_isFastLaunch": false,
    "category": "Accelerated computing",
    "gpuNum": 1,
    "hideHardwareSpecs": false,
    "memoryGiB": 61,
    "name": "ml.p3.2xlarge",
    "vcpuNum": 8
   },
   {
    "_defaultOrder": 36,
    "_isFastLaunch": false,
    "category": "Accelerated computing",
    "gpuNum": 4,
    "hideHardwareSpecs": false,
    "memoryGiB": 244,
    "name": "ml.p3.8xlarge",
    "vcpuNum": 32
   },
   {
    "_defaultOrder": 37,
    "_isFastLaunch": false,
    "category": "Accelerated computing",
    "gpuNum": 8,
    "hideHardwareSpecs": false,
    "memoryGiB": 488,
    "name": "ml.p3.16xlarge",
    "vcpuNum": 64
   },
   {
    "_defaultOrder": 38,
    "_isFastLaunch": false,
    "category": "Accelerated computing",
    "gpuNum": 8,
    "hideHardwareSpecs": false,
    "memoryGiB": 768,
    "name": "ml.p3dn.24xlarge",
    "vcpuNum": 96
   },
   {
    "_defaultOrder": 39,
    "_isFastLaunch": false,
    "category": "Memory Optimized",
    "gpuNum": 0,
    "hideHardwareSpecs": false,
    "memoryGiB": 16,
    "name": "ml.r5.large",
    "vcpuNum": 2
   },
   {
    "_defaultOrder": 40,
    "_isFastLaunch": false,
    "category": "Memory Optimized",
    "gpuNum": 0,
    "hideHardwareSpecs": false,
    "memoryGiB": 32,
    "name": "ml.r5.xlarge",
    "vcpuNum": 4
   },
   {
    "_defaultOrder": 41,
    "_isFastLaunch": false,
    "category": "Memory Optimized",
    "gpuNum": 0,
    "hideHardwareSpecs": false,
    "memoryGiB": 64,
    "name": "ml.r5.2xlarge",
    "vcpuNum": 8
   },
   {
    "_defaultOrder": 42,
    "_isFastLaunch": false,
    "category": "Memory Optimized",
    "gpuNum": 0,
    "hideHardwareSpecs": false,
    "memoryGiB": 128,
    "name": "ml.r5.4xlarge",
    "vcpuNum": 16
   },
   {
    "_defaultOrder": 43,
    "_isFastLaunch": false,
    "category": "Memory Optimized",
    "gpuNum": 0,
    "hideHardwareSpecs": false,
    "memoryGiB": 256,
    "name": "ml.r5.8xlarge",
    "vcpuNum": 32
   },
   {
    "_defaultOrder": 44,
    "_isFastLaunch": false,
    "category": "Memory Optimized",
    "gpuNum": 0,
    "hideHardwareSpecs": false,
    "memoryGiB": 384,
    "name": "ml.r5.12xlarge",
    "vcpuNum": 48
   },
   {
    "_defaultOrder": 45,
    "_isFastLaunch": false,
    "category": "Memory Optimized",
    "gpuNum": 0,
    "hideHardwareSpecs": false,
    "memoryGiB": 512,
    "name": "ml.r5.16xlarge",
    "vcpuNum": 64
   },
   {
    "_defaultOrder": 46,
    "_isFastLaunch": false,
    "category": "Memory Optimized",
    "gpuNum": 0,
    "hideHardwareSpecs": false,
    "memoryGiB": 768,
    "name": "ml.r5.24xlarge",
    "vcpuNum": 96
   },
   {
    "_defaultOrder": 47,
    "_isFastLaunch": false,
    "category": "Accelerated computing",
    "gpuNum": 1,
    "hideHardwareSpecs": false,
    "memoryGiB": 16,
    "name": "ml.g5.xlarge",
    "vcpuNum": 4
   },
   {
    "_defaultOrder": 48,
    "_isFastLaunch": false,
    "category": "Accelerated computing",
    "gpuNum": 1,
    "hideHardwareSpecs": false,
    "memoryGiB": 32,
    "name": "ml.g5.2xlarge",
    "vcpuNum": 8
   },
   {
    "_defaultOrder": 49,
    "_isFastLaunch": false,
    "category": "Accelerated computing",
    "gpuNum": 1,
    "hideHardwareSpecs": false,
    "memoryGiB": 64,
    "name": "ml.g5.4xlarge",
    "vcpuNum": 16
   },
   {
    "_defaultOrder": 50,
    "_isFastLaunch": false,
    "category": "Accelerated computing",
    "gpuNum": 1,
    "hideHardwareSpecs": false,
    "memoryGiB": 128,
    "name": "ml.g5.8xlarge",
    "vcpuNum": 32
   },
   {
    "_defaultOrder": 51,
    "_isFastLaunch": false,
    "category": "Accelerated computing",
    "gpuNum": 1,
    "hideHardwareSpecs": false,
    "memoryGiB": 256,
    "name": "ml.g5.16xlarge",
    "vcpuNum": 64
   },
   {
    "_defaultOrder": 52,
    "_isFastLaunch": false,
    "category": "Accelerated computing",
    "gpuNum": 4,
    "hideHardwareSpecs": false,
    "memoryGiB": 192,
    "name": "ml.g5.12xlarge",
    "vcpuNum": 48
   },
   {
    "_defaultOrder": 53,
    "_isFastLaunch": false,
    "category": "Accelerated computing",
    "gpuNum": 4,
    "hideHardwareSpecs": false,
    "memoryGiB": 384,
    "name": "ml.g5.24xlarge",
    "vcpuNum": 96
   },
   {
    "_defaultOrder": 54,
    "_isFastLaunch": false,
    "category": "Accelerated computing",
    "gpuNum": 8,
    "hideHardwareSpecs": false,
    "memoryGiB": 768,
    "name": "ml.g5.48xlarge",
    "vcpuNum": 192
   },
   {
    "_defaultOrder": 55,
    "_isFastLaunch": false,
    "category": "Accelerated computing",
    "gpuNum": 8,
    "hideHardwareSpecs": false,
    "memoryGiB": 1152,
    "name": "ml.p4d.24xlarge",
    "vcpuNum": 96
   },
   {
    "_defaultOrder": 56,
    "_isFastLaunch": false,
    "category": "Accelerated computing",
    "gpuNum": 8,
    "hideHardwareSpecs": false,
    "memoryGiB": 1152,
    "name": "ml.p4de.24xlarge",
    "vcpuNum": 96
   }
  ],
  "instance_type": "ml.t3.medium",
  "kernelspec": {
   "display_name": "Python 3 (ipykernel)",
   "language": "python",
   "name": "python3"
  },
  "language_info": {
   "codemirror_mode": {
    "name": "ipython",
    "version": 3
   },
   "file_extension": ".py",
   "mimetype": "text/x-python",
   "name": "python",
   "nbconvert_exporter": "python",
   "pygments_lexer": "ipython3",
   "version": "3.11.7"
  }
 },
 "nbformat": 4,
 "nbformat_minor": 5
}
