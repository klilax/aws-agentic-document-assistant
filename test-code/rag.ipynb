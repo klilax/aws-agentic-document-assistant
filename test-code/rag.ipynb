{
 "cells": [
  {
   "cell_type": "markdown",
   "id": "57a557f2-928c-404a-80bb-c6d9970d037f",
   "metadata": {},
   "source": [
    "# 04 - Question answering using Retrieval Augmented Generation\n",
    "In this notebook we will be using the output of the `document_processing.ipynb` notebook to answer questions using retrieval augmented generation.\n",
    "\n",
    "Notebook overview:\n",
    "1. Load the PDFs as plaintext (output of `document_processing.ipynb`).\n",
    "2. Chunk the plaintext into a reasonable size, such that the LLMs context window can fit multiple chunks.\n",
    "3. Embed each of the chunks using an LLM and store the embeddings in a vector store.\n",
    "4. Answer a user question using the embeddings."
   ]
  },
  {
   "cell_type": "markdown",
   "id": "14edbcf1-2b17-40c1-a983-38603c3f3414",
   "metadata": {},
   "source": [
    "### Setup"
   ]
  },
  {
   "cell_type": "code",
   "execution_count": 1,
   "id": "57fb6206-6c73-4d33-8034-55f0480b37a3",
   "metadata": {
    "tags": []
   },
   "outputs": [],
   "source": [
    "import botocore\n",
    "import boto3\n",
    "from botocore.config import Config"
   ]
  },
  {
   "cell_type": "code",
   "execution_count": 2,
   "id": "d1e72e75-5b72-4565-872f-5df636c61c2a",
   "metadata": {
    "tags": []
   },
   "outputs": [
    {
     "data": {
      "text/plain": [
       "('1.28.64', '1.31.64')"
      ]
     },
     "execution_count": 2,
     "metadata": {},
     "output_type": "execute_result"
    }
   ],
   "source": [
    "boto3.__version__, botocore.__version__"
   ]
  },
  {
   "cell_type": "code",
   "execution_count": 3,
   "id": "0ab31147-83b2-4660-ad31-ef484ebd2581",
   "metadata": {
    "tags": []
   },
   "outputs": [],
   "source": [
    "ssm_client = boto3.client(\"ssm\")"
   ]
  },
  {
   "cell_type": "code",
   "execution_count": 20,
   "id": "f01ef2b3-d7b3-4ea8-833e-29553dfb9b0f",
   "metadata": {
    "tags": []
   },
   "outputs": [
    {
     "data": {
      "text/plain": [
       "('us-west-2', 's3://demoexperimentdata2/')"
      ]
     },
     "execution_count": 20,
     "metadata": {},
     "output_type": "execute_result"
    }
   ],
   "source": [
    "bedrock_region_parameter = \"/AgenticLLMAssistant/bedrock_region\"\n",
    "bedrock_endpoint_parameter = \"/AgenticLLMAssistant/bedrock_endpoint\"\n",
    "s3_bucket_name_parameter = \"/AgenticLLMAssistant/AgentDataBucketParameter\"\n",
    "\n",
    "BEDROCK_REGION = ssm_client.get_parameter(Name=bedrock_region_parameter)\n",
    "BEDROCK_REGION = BEDROCK_REGION[\"Parameter\"][\"Value\"]\n",
    "\n",
    "S3_BUCKET_NAME = ssm_client.get_parameter(Name=s3_bucket_name_parameter)\n",
    "S3_BUCKET_NAME = S3_BUCKET_NAME[\"Parameter\"][\"Value\"]\n",
    "\n",
    "BEDROCK_REGION, S3_BUCKET_NAME"
   ]
  },
  {
   "cell_type": "code",
   "execution_count": 7,
   "id": "f66a50c0-7772-4788-b0d2-2832afce55a5",
   "metadata": {
    "tags": []
   },
   "outputs": [],
   "source": [
    "# LLM_MODEL_ID = \"anthropic.claude-v1\"\n",
    "LLM_MODEL_ID = \"anthropic.claude-v2\""
   ]
  },
  {
   "cell_type": "code",
   "execution_count": 8,
   "id": "25e761fe-d3c9-4b77-ad10-73545ee5a00b",
   "metadata": {
    "tags": []
   },
   "outputs": [],
   "source": [
    "retry_config = Config(\n",
    "    region_name=BEDROCK_REGION, retries={\"max_attempts\": 10, \"mode\": \"standard\"}\n",
    ")\n",
    "bedrock_runtime = boto3.client(\"bedrock-runtime\", config=retry_config)"
   ]
  },
  {
   "cell_type": "code",
   "execution_count": 9,
   "id": "baee5ee2-d095-420f-908a-6575cb47f832",
   "metadata": {
    "tags": []
   },
   "outputs": [
    {
     "data": {
      "text/plain": [
       "{'ResponseMetadata': {'RequestId': 'ff57d2ef-44c5-4070-b3a1-695866d81f8f',\n",
       "  'HTTPStatusCode': 200,\n",
       "  'HTTPHeaders': {'date': 'Sat, 24 Feb 2024 11:12:42 GMT',\n",
       "   'content-type': 'application/json',\n",
       "   'content-length': '17086',\n",
       "   'connection': 'keep-alive',\n",
       "   'x-amzn-requestid': 'ff57d2ef-44c5-4070-b3a1-695866d81f8f'},\n",
       "  'RetryAttempts': 0},\n",
       " 'modelSummaries': [{'modelArn': 'arn:aws:bedrock:us-west-2::foundation-model/amazon.titan-tg1-large',\n",
       "   'modelId': 'amazon.titan-tg1-large',\n",
       "   'modelName': 'Titan Text Large',\n",
       "   'providerName': 'Amazon',\n",
       "   'inputModalities': ['TEXT'],\n",
       "   'outputModalities': ['TEXT'],\n",
       "   'responseStreamingSupported': True,\n",
       "   'customizationsSupported': [],\n",
       "   'inferenceTypesSupported': ['ON_DEMAND']},\n",
       "  {'modelArn': 'arn:aws:bedrock:us-west-2::foundation-model/amazon.titan-embed-g1-text-02',\n",
       "   'modelId': 'amazon.titan-embed-g1-text-02',\n",
       "   'modelName': 'Titan Text Embeddings v2',\n",
       "   'providerName': 'Amazon',\n",
       "   'inputModalities': ['TEXT'],\n",
       "   'outputModalities': ['EMBEDDING'],\n",
       "   'customizationsSupported': [],\n",
       "   'inferenceTypesSupported': ['ON_DEMAND']},\n",
       "  {'modelArn': 'arn:aws:bedrock:us-west-2::foundation-model/amazon.titan-text-lite-v1:0:4k',\n",
       "   'modelId': 'amazon.titan-text-lite-v1:0:4k',\n",
       "   'modelName': 'Titan Text G1 - Lite',\n",
       "   'providerName': 'Amazon',\n",
       "   'inputModalities': ['TEXT'],\n",
       "   'outputModalities': ['TEXT'],\n",
       "   'responseStreamingSupported': True,\n",
       "   'customizationsSupported': ['FINE_TUNING', 'CONTINUED_PRE_TRAINING'],\n",
       "   'inferenceTypesSupported': ['PROVISIONED']},\n",
       "  {'modelArn': 'arn:aws:bedrock:us-west-2::foundation-model/amazon.titan-text-lite-v1',\n",
       "   'modelId': 'amazon.titan-text-lite-v1',\n",
       "   'modelName': 'Titan Text G1 - Lite',\n",
       "   'providerName': 'Amazon',\n",
       "   'inputModalities': ['TEXT'],\n",
       "   'outputModalities': ['TEXT'],\n",
       "   'responseStreamingSupported': True,\n",
       "   'customizationsSupported': [],\n",
       "   'inferenceTypesSupported': ['ON_DEMAND']},\n",
       "  {'modelArn': 'arn:aws:bedrock:us-west-2::foundation-model/amazon.titan-text-express-v1:0:8k',\n",
       "   'modelId': 'amazon.titan-text-express-v1:0:8k',\n",
       "   'modelName': 'Titan Text G1 - Express',\n",
       "   'providerName': 'Amazon',\n",
       "   'inputModalities': ['TEXT'],\n",
       "   'outputModalities': ['TEXT'],\n",
       "   'responseStreamingSupported': True,\n",
       "   'customizationsSupported': ['FINE_TUNING', 'CONTINUED_PRE_TRAINING'],\n",
       "   'inferenceTypesSupported': ['PROVISIONED']},\n",
       "  {'modelArn': 'arn:aws:bedrock:us-west-2::foundation-model/amazon.titan-text-express-v1',\n",
       "   'modelId': 'amazon.titan-text-express-v1',\n",
       "   'modelName': 'Titan Text G1 - Express',\n",
       "   'providerName': 'Amazon',\n",
       "   'inputModalities': ['TEXT'],\n",
       "   'outputModalities': ['TEXT'],\n",
       "   'responseStreamingSupported': True,\n",
       "   'customizationsSupported': [],\n",
       "   'inferenceTypesSupported': ['ON_DEMAND']},\n",
       "  {'modelArn': 'arn:aws:bedrock:us-west-2::foundation-model/amazon.titan-embed-text-v1:2:8k',\n",
       "   'modelId': 'amazon.titan-embed-text-v1:2:8k',\n",
       "   'modelName': 'Titan Embeddings G1 - Text',\n",
       "   'providerName': 'Amazon',\n",
       "   'inputModalities': ['TEXT'],\n",
       "   'outputModalities': ['EMBEDDING'],\n",
       "   'responseStreamingSupported': False,\n",
       "   'customizationsSupported': [],\n",
       "   'inferenceTypesSupported': ['PROVISIONED']},\n",
       "  {'modelArn': 'arn:aws:bedrock:us-west-2::foundation-model/amazon.titan-embed-text-v1',\n",
       "   'modelId': 'amazon.titan-embed-text-v1',\n",
       "   'modelName': 'Titan Embeddings G1 - Text',\n",
       "   'providerName': 'Amazon',\n",
       "   'inputModalities': ['TEXT'],\n",
       "   'outputModalities': ['EMBEDDING'],\n",
       "   'responseStreamingSupported': False,\n",
       "   'customizationsSupported': [],\n",
       "   'inferenceTypesSupported': ['ON_DEMAND']},\n",
       "  {'modelArn': 'arn:aws:bedrock:us-west-2::foundation-model/amazon.titan-embed-image-v1:0',\n",
       "   'modelId': 'amazon.titan-embed-image-v1:0',\n",
       "   'modelName': 'Titan Multimodal Embeddings G1',\n",
       "   'providerName': 'Amazon',\n",
       "   'inputModalities': ['TEXT', 'IMAGE'],\n",
       "   'outputModalities': ['EMBEDDING'],\n",
       "   'customizationsSupported': ['FINE_TUNING'],\n",
       "   'inferenceTypesSupported': ['ON_DEMAND', 'PROVISIONED']},\n",
       "  {'modelArn': 'arn:aws:bedrock:us-west-2::foundation-model/amazon.titan-embed-image-v1',\n",
       "   'modelId': 'amazon.titan-embed-image-v1',\n",
       "   'modelName': 'Titan Multimodal Embeddings G1',\n",
       "   'providerName': 'Amazon',\n",
       "   'inputModalities': ['TEXT', 'IMAGE'],\n",
       "   'outputModalities': ['EMBEDDING'],\n",
       "   'customizationsSupported': [],\n",
       "   'inferenceTypesSupported': ['ON_DEMAND']},\n",
       "  {'modelArn': 'arn:aws:bedrock:us-west-2::foundation-model/amazon.titan-image-generator-v1:0',\n",
       "   'modelId': 'amazon.titan-image-generator-v1:0',\n",
       "   'modelName': 'Titan Image Generator G1',\n",
       "   'providerName': 'Amazon',\n",
       "   'inputModalities': ['TEXT', 'IMAGE'],\n",
       "   'outputModalities': ['IMAGE'],\n",
       "   'customizationsSupported': ['FINE_TUNING'],\n",
       "   'inferenceTypesSupported': ['PROVISIONED']},\n",
       "  {'modelArn': 'arn:aws:bedrock:us-west-2::foundation-model/amazon.titan-image-generator-v1',\n",
       "   'modelId': 'amazon.titan-image-generator-v1',\n",
       "   'modelName': 'Titan Image Generator G1',\n",
       "   'providerName': 'Amazon',\n",
       "   'inputModalities': ['TEXT', 'IMAGE'],\n",
       "   'outputModalities': ['IMAGE'],\n",
       "   'customizationsSupported': [],\n",
       "   'inferenceTypesSupported': ['ON_DEMAND']},\n",
       "  {'modelArn': 'arn:aws:bedrock:us-west-2::foundation-model/stability.stable-diffusion-xl',\n",
       "   'modelId': 'stability.stable-diffusion-xl',\n",
       "   'modelName': 'SDXL 0.8',\n",
       "   'providerName': 'Stability AI',\n",
       "   'inputModalities': ['TEXT', 'IMAGE'],\n",
       "   'outputModalities': ['IMAGE'],\n",
       "   'customizationsSupported': [],\n",
       "   'inferenceTypesSupported': ['ON_DEMAND']},\n",
       "  {'modelArn': 'arn:aws:bedrock:us-west-2::foundation-model/stability.stable-diffusion-xl-v0',\n",
       "   'modelId': 'stability.stable-diffusion-xl-v0',\n",
       "   'modelName': 'SDXL 0.8',\n",
       "   'providerName': 'Stability AI',\n",
       "   'inputModalities': ['TEXT', 'IMAGE'],\n",
       "   'outputModalities': ['IMAGE'],\n",
       "   'customizationsSupported': [],\n",
       "   'inferenceTypesSupported': ['ON_DEMAND']},\n",
       "  {'modelArn': 'arn:aws:bedrock:us-west-2::foundation-model/stability.stable-diffusion-xl-v1:0',\n",
       "   'modelId': 'stability.stable-diffusion-xl-v1:0',\n",
       "   'modelName': 'SDXL 1.0',\n",
       "   'providerName': 'Stability AI',\n",
       "   'inputModalities': ['TEXT', 'IMAGE'],\n",
       "   'outputModalities': ['IMAGE'],\n",
       "   'customizationsSupported': [],\n",
       "   'inferenceTypesSupported': ['PROVISIONED']},\n",
       "  {'modelArn': 'arn:aws:bedrock:us-west-2::foundation-model/stability.stable-diffusion-xl-v1',\n",
       "   'modelId': 'stability.stable-diffusion-xl-v1',\n",
       "   'modelName': 'SDXL 1.0',\n",
       "   'providerName': 'Stability AI',\n",
       "   'inputModalities': ['TEXT', 'IMAGE'],\n",
       "   'outputModalities': ['IMAGE'],\n",
       "   'customizationsSupported': [],\n",
       "   'inferenceTypesSupported': ['ON_DEMAND']},\n",
       "  {'modelArn': 'arn:aws:bedrock:us-west-2::foundation-model/ai21.j2-grande-instruct',\n",
       "   'modelId': 'ai21.j2-grande-instruct',\n",
       "   'modelName': 'J2 Grande Instruct',\n",
       "   'providerName': 'AI21 Labs',\n",
       "   'inputModalities': ['TEXT'],\n",
       "   'outputModalities': ['TEXT'],\n",
       "   'responseStreamingSupported': False,\n",
       "   'customizationsSupported': [],\n",
       "   'inferenceTypesSupported': ['ON_DEMAND']},\n",
       "  {'modelArn': 'arn:aws:bedrock:us-west-2::foundation-model/ai21.j2-jumbo-instruct',\n",
       "   'modelId': 'ai21.j2-jumbo-instruct',\n",
       "   'modelName': 'J2 Jumbo Instruct',\n",
       "   'providerName': 'AI21 Labs',\n",
       "   'inputModalities': ['TEXT'],\n",
       "   'outputModalities': ['TEXT'],\n",
       "   'responseStreamingSupported': False,\n",
       "   'customizationsSupported': [],\n",
       "   'inferenceTypesSupported': ['ON_DEMAND']},\n",
       "  {'modelArn': 'arn:aws:bedrock:us-west-2::foundation-model/ai21.j2-mid',\n",
       "   'modelId': 'ai21.j2-mid',\n",
       "   'modelName': 'Jurassic-2 Mid',\n",
       "   'providerName': 'AI21 Labs',\n",
       "   'inputModalities': ['TEXT'],\n",
       "   'outputModalities': ['TEXT'],\n",
       "   'responseStreamingSupported': False,\n",
       "   'customizationsSupported': [],\n",
       "   'inferenceTypesSupported': ['ON_DEMAND']},\n",
       "  {'modelArn': 'arn:aws:bedrock:us-west-2::foundation-model/ai21.j2-mid-v1',\n",
       "   'modelId': 'ai21.j2-mid-v1',\n",
       "   'modelName': 'Jurassic-2 Mid',\n",
       "   'providerName': 'AI21 Labs',\n",
       "   'inputModalities': ['TEXT'],\n",
       "   'outputModalities': ['TEXT'],\n",
       "   'responseStreamingSupported': False,\n",
       "   'customizationsSupported': [],\n",
       "   'inferenceTypesSupported': ['ON_DEMAND']},\n",
       "  {'modelArn': 'arn:aws:bedrock:us-west-2::foundation-model/ai21.j2-ultra',\n",
       "   'modelId': 'ai21.j2-ultra',\n",
       "   'modelName': 'Jurassic-2 Ultra',\n",
       "   'providerName': 'AI21 Labs',\n",
       "   'inputModalities': ['TEXT'],\n",
       "   'outputModalities': ['TEXT'],\n",
       "   'responseStreamingSupported': False,\n",
       "   'customizationsSupported': [],\n",
       "   'inferenceTypesSupported': ['ON_DEMAND']},\n",
       "  {'modelArn': 'arn:aws:bedrock:us-west-2::foundation-model/ai21.j2-ultra-v1',\n",
       "   'modelId': 'ai21.j2-ultra-v1',\n",
       "   'modelName': 'Jurassic-2 Ultra',\n",
       "   'providerName': 'AI21 Labs',\n",
       "   'inputModalities': ['TEXT'],\n",
       "   'outputModalities': ['TEXT'],\n",
       "   'responseStreamingSupported': False,\n",
       "   'customizationsSupported': [],\n",
       "   'inferenceTypesSupported': ['ON_DEMAND']},\n",
       "  {'modelArn': 'arn:aws:bedrock:us-west-2::foundation-model/anthropic.claude-instant-v1:2:100k',\n",
       "   'modelId': 'anthropic.claude-instant-v1:2:100k',\n",
       "   'modelName': 'Claude Instant',\n",
       "   'providerName': 'Anthropic',\n",
       "   'inputModalities': ['TEXT'],\n",
       "   'outputModalities': ['TEXT'],\n",
       "   'responseStreamingSupported': True,\n",
       "   'customizationsSupported': [],\n",
       "   'inferenceTypesSupported': ['PROVISIONED']},\n",
       "  {'modelArn': 'arn:aws:bedrock:us-west-2::foundation-model/anthropic.claude-instant-v1',\n",
       "   'modelId': 'anthropic.claude-instant-v1',\n",
       "   'modelName': 'Claude Instant',\n",
       "   'providerName': 'Anthropic',\n",
       "   'inputModalities': ['TEXT'],\n",
       "   'outputModalities': ['TEXT'],\n",
       "   'responseStreamingSupported': True,\n",
       "   'customizationsSupported': [],\n",
       "   'inferenceTypesSupported': ['ON_DEMAND']},\n",
       "  {'modelArn': 'arn:aws:bedrock:us-west-2::foundation-model/anthropic.claude-v1',\n",
       "   'modelId': 'anthropic.claude-v1',\n",
       "   'modelName': 'Claude',\n",
       "   'providerName': 'Anthropic',\n",
       "   'inputModalities': ['TEXT'],\n",
       "   'outputModalities': ['TEXT'],\n",
       "   'responseStreamingSupported': True,\n",
       "   'customizationsSupported': [],\n",
       "   'inferenceTypesSupported': ['ON_DEMAND']},\n",
       "  {'modelArn': 'arn:aws:bedrock:us-west-2::foundation-model/anthropic.claude-v2:0:18k',\n",
       "   'modelId': 'anthropic.claude-v2:0:18k',\n",
       "   'modelName': 'Claude',\n",
       "   'providerName': 'Anthropic',\n",
       "   'inputModalities': ['TEXT'],\n",
       "   'outputModalities': ['TEXT'],\n",
       "   'responseStreamingSupported': True,\n",
       "   'customizationsSupported': [],\n",
       "   'inferenceTypesSupported': ['PROVISIONED']},\n",
       "  {'modelArn': 'arn:aws:bedrock:us-west-2::foundation-model/anthropic.claude-v2:0:100k',\n",
       "   'modelId': 'anthropic.claude-v2:0:100k',\n",
       "   'modelName': 'Claude',\n",
       "   'providerName': 'Anthropic',\n",
       "   'inputModalities': ['TEXT'],\n",
       "   'outputModalities': ['TEXT'],\n",
       "   'responseStreamingSupported': True,\n",
       "   'customizationsSupported': [],\n",
       "   'inferenceTypesSupported': ['PROVISIONED']},\n",
       "  {'modelArn': 'arn:aws:bedrock:us-west-2::foundation-model/anthropic.claude-v2:1:18k',\n",
       "   'modelId': 'anthropic.claude-v2:1:18k',\n",
       "   'modelName': 'Claude',\n",
       "   'providerName': 'Anthropic',\n",
       "   'inputModalities': ['TEXT'],\n",
       "   'outputModalities': ['TEXT'],\n",
       "   'responseStreamingSupported': True,\n",
       "   'customizationsSupported': [],\n",
       "   'inferenceTypesSupported': ['PROVISIONED']},\n",
       "  {'modelArn': 'arn:aws:bedrock:us-west-2::foundation-model/anthropic.claude-v2:1:200k',\n",
       "   'modelId': 'anthropic.claude-v2:1:200k',\n",
       "   'modelName': 'Claude',\n",
       "   'providerName': 'Anthropic',\n",
       "   'inputModalities': ['TEXT'],\n",
       "   'outputModalities': ['TEXT'],\n",
       "   'responseStreamingSupported': True,\n",
       "   'customizationsSupported': [],\n",
       "   'inferenceTypesSupported': ['PROVISIONED']},\n",
       "  {'modelArn': 'arn:aws:bedrock:us-west-2::foundation-model/anthropic.claude-v2:1',\n",
       "   'modelId': 'anthropic.claude-v2:1',\n",
       "   'modelName': 'Claude',\n",
       "   'providerName': 'Anthropic',\n",
       "   'inputModalities': ['TEXT'],\n",
       "   'outputModalities': ['TEXT'],\n",
       "   'responseStreamingSupported': True,\n",
       "   'customizationsSupported': [],\n",
       "   'inferenceTypesSupported': ['ON_DEMAND']},\n",
       "  {'modelArn': 'arn:aws:bedrock:us-west-2::foundation-model/anthropic.claude-v2',\n",
       "   'modelId': 'anthropic.claude-v2',\n",
       "   'modelName': 'Claude',\n",
       "   'providerName': 'Anthropic',\n",
       "   'inputModalities': ['TEXT'],\n",
       "   'outputModalities': ['TEXT'],\n",
       "   'responseStreamingSupported': True,\n",
       "   'customizationsSupported': [],\n",
       "   'inferenceTypesSupported': ['ON_DEMAND']},\n",
       "  {'modelArn': 'arn:aws:bedrock:us-west-2::foundation-model/cohere.command-text-v14:7:4k',\n",
       "   'modelId': 'cohere.command-text-v14:7:4k',\n",
       "   'modelName': 'Command',\n",
       "   'providerName': 'Cohere',\n",
       "   'inputModalities': ['TEXT'],\n",
       "   'outputModalities': ['TEXT'],\n",
       "   'responseStreamingSupported': True,\n",
       "   'customizationsSupported': ['FINE_TUNING'],\n",
       "   'inferenceTypesSupported': ['PROVISIONED']},\n",
       "  {'modelArn': 'arn:aws:bedrock:us-west-2::foundation-model/cohere.command-text-v14',\n",
       "   'modelId': 'cohere.command-text-v14',\n",
       "   'modelName': 'Command',\n",
       "   'providerName': 'Cohere',\n",
       "   'inputModalities': ['TEXT'],\n",
       "   'outputModalities': ['TEXT'],\n",
       "   'responseStreamingSupported': True,\n",
       "   'customizationsSupported': [],\n",
       "   'inferenceTypesSupported': ['ON_DEMAND']},\n",
       "  {'modelArn': 'arn:aws:bedrock:us-west-2::foundation-model/cohere.command-light-text-v14:7:4k',\n",
       "   'modelId': 'cohere.command-light-text-v14:7:4k',\n",
       "   'modelName': 'Command Light',\n",
       "   'providerName': 'Cohere',\n",
       "   'inputModalities': ['TEXT'],\n",
       "   'outputModalities': ['TEXT'],\n",
       "   'responseStreamingSupported': True,\n",
       "   'customizationsSupported': ['FINE_TUNING'],\n",
       "   'inferenceTypesSupported': ['PROVISIONED']},\n",
       "  {'modelArn': 'arn:aws:bedrock:us-west-2::foundation-model/cohere.command-light-text-v14',\n",
       "   'modelId': 'cohere.command-light-text-v14',\n",
       "   'modelName': 'Command Light',\n",
       "   'providerName': 'Cohere',\n",
       "   'inputModalities': ['TEXT'],\n",
       "   'outputModalities': ['TEXT'],\n",
       "   'responseStreamingSupported': True,\n",
       "   'customizationsSupported': [],\n",
       "   'inferenceTypesSupported': ['ON_DEMAND']},\n",
       "  {'modelArn': 'arn:aws:bedrock:us-west-2::foundation-model/cohere.embed-english-v3',\n",
       "   'modelId': 'cohere.embed-english-v3',\n",
       "   'modelName': 'Embed English',\n",
       "   'providerName': 'Cohere',\n",
       "   'inputModalities': ['TEXT'],\n",
       "   'outputModalities': ['EMBEDDING'],\n",
       "   'responseStreamingSupported': False,\n",
       "   'customizationsSupported': [],\n",
       "   'inferenceTypesSupported': ['ON_DEMAND']},\n",
       "  {'modelArn': 'arn:aws:bedrock:us-west-2::foundation-model/cohere.embed-multilingual-v3',\n",
       "   'modelId': 'cohere.embed-multilingual-v3',\n",
       "   'modelName': 'Embed Multilingual',\n",
       "   'providerName': 'Cohere',\n",
       "   'inputModalities': ['TEXT'],\n",
       "   'outputModalities': ['EMBEDDING'],\n",
       "   'responseStreamingSupported': False,\n",
       "   'customizationsSupported': [],\n",
       "   'inferenceTypesSupported': ['ON_DEMAND']},\n",
       "  {'modelArn': 'arn:aws:bedrock:us-west-2::foundation-model/meta.llama2-13b-chat-v1:0:4k',\n",
       "   'modelId': 'meta.llama2-13b-chat-v1:0:4k',\n",
       "   'modelName': 'Llama 2 Chat 13B',\n",
       "   'providerName': 'Meta',\n",
       "   'inputModalities': ['TEXT'],\n",
       "   'outputModalities': ['TEXT'],\n",
       "   'responseStreamingSupported': True,\n",
       "   'customizationsSupported': [],\n",
       "   'inferenceTypesSupported': ['PROVISIONED']},\n",
       "  {'modelArn': 'arn:aws:bedrock:us-west-2::foundation-model/meta.llama2-13b-chat-v1',\n",
       "   'modelId': 'meta.llama2-13b-chat-v1',\n",
       "   'modelName': 'Llama 2 Chat 13B',\n",
       "   'providerName': 'Meta',\n",
       "   'inputModalities': ['TEXT'],\n",
       "   'outputModalities': ['TEXT'],\n",
       "   'responseStreamingSupported': True,\n",
       "   'customizationsSupported': [],\n",
       "   'inferenceTypesSupported': ['ON_DEMAND']},\n",
       "  {'modelArn': 'arn:aws:bedrock:us-west-2::foundation-model/meta.llama2-70b-chat-v1:0:4k',\n",
       "   'modelId': 'meta.llama2-70b-chat-v1:0:4k',\n",
       "   'modelName': 'Llama 2 Chat 70B',\n",
       "   'providerName': 'Meta',\n",
       "   'inputModalities': ['TEXT'],\n",
       "   'outputModalities': ['TEXT'],\n",
       "   'responseStreamingSupported': True,\n",
       "   'customizationsSupported': [],\n",
       "   'inferenceTypesSupported': []},\n",
       "  {'modelArn': 'arn:aws:bedrock:us-west-2::foundation-model/meta.llama2-70b-chat-v1',\n",
       "   'modelId': 'meta.llama2-70b-chat-v1',\n",
       "   'modelName': 'Llama 2 Chat 70B',\n",
       "   'providerName': 'Meta',\n",
       "   'inputModalities': ['TEXT'],\n",
       "   'outputModalities': ['TEXT'],\n",
       "   'responseStreamingSupported': True,\n",
       "   'customizationsSupported': [],\n",
       "   'inferenceTypesSupported': ['ON_DEMAND']},\n",
       "  {'modelArn': 'arn:aws:bedrock:us-west-2::foundation-model/meta.llama2-13b-v1:0:4k',\n",
       "   'modelId': 'meta.llama2-13b-v1:0:4k',\n",
       "   'modelName': 'Llama 2 13B',\n",
       "   'providerName': 'Meta',\n",
       "   'inputModalities': ['TEXT'],\n",
       "   'outputModalities': ['TEXT'],\n",
       "   'responseStreamingSupported': True,\n",
       "   'customizationsSupported': ['FINE_TUNING'],\n",
       "   'inferenceTypesSupported': []},\n",
       "  {'modelArn': 'arn:aws:bedrock:us-west-2::foundation-model/meta.llama2-13b-v1',\n",
       "   'modelId': 'meta.llama2-13b-v1',\n",
       "   'modelName': 'Llama 2 13B',\n",
       "   'providerName': 'Meta',\n",
       "   'inputModalities': ['TEXT'],\n",
       "   'outputModalities': ['TEXT'],\n",
       "   'responseStreamingSupported': True,\n",
       "   'customizationsSupported': [],\n",
       "   'inferenceTypesSupported': []},\n",
       "  {'modelArn': 'arn:aws:bedrock:us-west-2::foundation-model/meta.llama2-70b-v1:0:4k',\n",
       "   'modelId': 'meta.llama2-70b-v1:0:4k',\n",
       "   'modelName': 'Llama 2 70B',\n",
       "   'providerName': 'Meta',\n",
       "   'inputModalities': ['TEXT'],\n",
       "   'outputModalities': ['TEXT'],\n",
       "   'responseStreamingSupported': True,\n",
       "   'customizationsSupported': ['FINE_TUNING'],\n",
       "   'inferenceTypesSupported': []},\n",
       "  {'modelArn': 'arn:aws:bedrock:us-west-2::foundation-model/meta.llama2-70b-v1',\n",
       "   'modelId': 'meta.llama2-70b-v1',\n",
       "   'modelName': 'Llama 2 70B',\n",
       "   'providerName': 'Meta',\n",
       "   'inputModalities': ['TEXT'],\n",
       "   'outputModalities': ['TEXT'],\n",
       "   'responseStreamingSupported': True,\n",
       "   'customizationsSupported': [],\n",
       "   'inferenceTypesSupported': []}]}"
      ]
     },
     "execution_count": 9,
     "metadata": {},
     "output_type": "execute_result"
    }
   ],
   "source": [
    "bedrock_client = boto3.client(\"bedrock\", config=retry_config)\n",
    "bedrock_client.list_foundation_models()"
   ]
  },
  {
   "cell_type": "markdown",
   "id": "0fd91be5-9ef1-4c8e-8a17-1e402bc65977",
   "metadata": {},
   "source": [
    "### Load the PDFs as plaintext"
   ]
  },
  {
   "cell_type": "code",
   "execution_count": 11,
   "id": "4a68b1cb-0265-4fc9-bfcd-70ee9e85021b",
   "metadata": {
    "tags": []
   },
   "outputs": [],
   "source": [
    "from utils.helpers import load_list_from_s3"
   ]
  },
  {
   "cell_type": "code",
   "execution_count": 27,
   "id": "1f346c03-d4b0-4111-8d78-56f9077acfb9",
   "metadata": {},
   "outputs": [
    {
     "name": "stdout",
     "output_type": "stream",
     "text": [
      "demoexperimentdata2\n"
     ]
    }
   ],
   "source": [
    "S3_BUCKET_NAME = 'demoexperimentdata2'\n",
    "print(S3_BUCKET_NAME)"
   ]
  },
  {
   "cell_type": "code",
   "execution_count": 28,
   "id": "e22e29ad-7976-44ed-aca4-177e89cad9cd",
   "metadata": {
    "tags": []
   },
   "outputs": [],
   "source": [
    "documents_processed = load_list_from_s3(S3_BUCKET_NAME, \"documents_processed.json\")"
   ]
  },
  {
   "cell_type": "code",
   "execution_count": 29,
   "id": "69eab01d-6f87-4a14-aec4-604c1bd2921c",
   "metadata": {
    "tags": []
   },
   "outputs": [
    {
     "data": {
      "text/plain": [
       "2"
      ]
     },
     "execution_count": 29,
     "metadata": {},
     "output_type": "execute_result"
    }
   ],
   "source": [
    "len(documents_processed)"
   ]
  },
  {
   "cell_type": "markdown",
   "id": "cf059903-ad05-4abf-af67-378094c4de5b",
   "metadata": {
    "tags": []
   },
   "source": [
    "We will be using Langchains vectorstores to store the embeddings, therefore, we will convert the documents to Langchain Document objects."
   ]
  },
  {
   "cell_type": "code",
   "execution_count": 34,
   "id": "977a0301-b374-462c-bf72-18aeeaf828b1",
   "metadata": {
    "tags": []
   },
   "outputs": [
    {
     "name": "stdout",
     "output_type": "stream",
     "text": [
      "{}\n",
      "{}\n"
     ]
    }
   ],
   "source": [
    "import json\n",
    "from langchain.schema.document import Document\n",
    "\n",
    "langchain_documents_text = []\n",
    "langchain_documents_tables = []\n",
    "\n",
    "for document in documents_processed:\n",
    "    document_name = document[\"name\"]\n",
    "    document_source_location = document[\"source_location\"]\n",
    "    document_s3_metadata = document[\"metadata\"]\n",
    "    print(document_s3_metadata)\n",
    "    # mapping_to_original_page_numbers = {\n",
    "    #     idx: pg_num\n",
    "    #     for idx, pg_num in enumerate(json.loads(document_s3_metadata[\"pages_kept\"]))\n",
    "    # }\n",
    "    # remove pages_kept since we already put the original page number.\n",
    "    # del document_s3_metadata[\"pages_kept\"]\n",
    "\n",
    "    for page in document[\"pages\"]:\n",
    "        # Turn each page into a Langchain Document.\n",
    "        # Note: you could choose to also prepend part of the previous document\n",
    "        # and append part of the next document to include more context for documents\n",
    "        # that have many pages which continue their text on the next page.\n",
    "        current_metadata = {\n",
    "            \"document_name\": document_name,\n",
    "            \"document_source_location\": document_source_location,\n",
    "            \"page_number\": page[\"page\"],\n",
    "            # \"original_page_number\": mapping_to_original_page_numbers[page[\"page\"]],\n",
    "        }\n",
    "        # merge the document_s3_metadata into the langchain Document metadata\n",
    "        # to be able to use them for filtering.\n",
    "        current_metadata.update(document_s3_metadata)\n",
    "\n",
    "        langchain_documents_text.append(\n",
    "            Document(page_content=page[\"page_text\"], metadata=current_metadata)\n",
    "        )\n",
    "\n",
    "        # Turn all the tables of the pages into seperate Langchain Documents as well\n",
    "        for table_markdown in page[\"page_tables\"]:\n",
    "            langchain_documents_tables.append(\n",
    "                Document(page_content=table_markdown, metadata=current_metadata)\n",
    "            )"
   ]
  },
  {
   "cell_type": "code",
   "execution_count": 35,
   "id": "e8594299-e64a-4857-9ac9-4a27981a0f9f",
   "metadata": {
    "tags": []
   },
   "outputs": [
    {
     "name": "stdout",
     "output_type": "stream",
     "text": [
      "Your documents contain 32 pages and 29 tables combined\n"
     ]
    }
   ],
   "source": [
    "print(\n",
    "    f\"Your documents contain {len(langchain_documents_text)}\"\n",
    "    f\" pages and {len(langchain_documents_tables)} tables combined\"\n",
    ")"
   ]
  },
  {
   "cell_type": "code",
   "execution_count": 36,
   "id": "6110d75c-93af-4524-ab36-d892ad5f06ba",
   "metadata": {
    "tags": []
   },
   "outputs": [
    {
     "data": {
      "text/plain": [
       "(32, 29)"
      ]
     },
     "execution_count": 36,
     "metadata": {},
     "output_type": "execute_result"
    }
   ],
   "source": [
    "len(langchain_documents_text), len(langchain_documents_tables)"
   ]
  },
  {
   "cell_type": "code",
   "execution_count": 37,
   "id": "93116cc2-d831-4f02-bec4-294b6cb79435",
   "metadata": {
    "tags": []
   },
   "outputs": [
    {
     "name": "stdout",
     "output_type": "stream",
     "text": [
      "Number of chunks: 32, Max chunk length 3047, Min chunk length: 120\n"
     ]
    }
   ],
   "source": [
    "chunk_lengths = [len(doc.page_content) for doc in langchain_documents_text]\n",
    "\n",
    "print(\n",
    "    f\"Number of chunks: {len(chunk_lengths)},\"\n",
    "    f\" Max chunk length {max(chunk_lengths)},\"\n",
    "    f\" Min chunk length: {min(chunk_lengths)}\"\n",
    ")"
   ]
  },
  {
   "cell_type": "code",
   "execution_count": 39,
   "id": "0e234073-3b7a-407e-badf-48faf4aa38d4",
   "metadata": {},
   "outputs": [
    {
     "name": "stdout",
     "output_type": "stream",
     "text": [
      "Collecting seaborn\n",
      "  Using cached seaborn-0.13.2-py3-none-any.whl.metadata (5.4 kB)\n",
      "Requirement already satisfied: numpy!=1.24.0,>=1.20 in /opt/conda/lib/python3.10/site-packages (from seaborn) (1.26.3)\n",
      "Requirement already satisfied: pandas>=1.2 in /opt/conda/lib/python3.10/site-packages (from seaborn) (2.1.4)\n",
      "Requirement already satisfied: matplotlib!=3.6.1,>=3.4 in /opt/conda/lib/python3.10/site-packages (from seaborn) (3.8.2)\n",
      "Requirement already satisfied: contourpy>=1.0.1 in /opt/conda/lib/python3.10/site-packages (from matplotlib!=3.6.1,>=3.4->seaborn) (1.2.0)\n",
      "Requirement already satisfied: cycler>=0.10 in /opt/conda/lib/python3.10/site-packages (from matplotlib!=3.6.1,>=3.4->seaborn) (0.12.1)\n",
      "Requirement already satisfied: fonttools>=4.22.0 in /opt/conda/lib/python3.10/site-packages (from matplotlib!=3.6.1,>=3.4->seaborn) (4.47.2)\n",
      "Requirement already satisfied: kiwisolver>=1.3.1 in /opt/conda/lib/python3.10/site-packages (from matplotlib!=3.6.1,>=3.4->seaborn) (1.4.5)\n",
      "Requirement already satisfied: packaging>=20.0 in /opt/conda/lib/python3.10/site-packages (from matplotlib!=3.6.1,>=3.4->seaborn) (23.2)\n",
      "Requirement already satisfied: pillow>=8 in /opt/conda/lib/python3.10/site-packages (from matplotlib!=3.6.1,>=3.4->seaborn) (9.5.0)\n",
      "Requirement already satisfied: pyparsing>=2.3.1 in /opt/conda/lib/python3.10/site-packages (from matplotlib!=3.6.1,>=3.4->seaborn) (3.1.1)\n",
      "Requirement already satisfied: python-dateutil>=2.7 in /opt/conda/lib/python3.10/site-packages (from matplotlib!=3.6.1,>=3.4->seaborn) (2.8.2)\n",
      "Requirement already satisfied: pytz>=2020.1 in /opt/conda/lib/python3.10/site-packages (from pandas>=1.2->seaborn) (2023.3)\n",
      "Requirement already satisfied: tzdata>=2022.1 in /opt/conda/lib/python3.10/site-packages (from pandas>=1.2->seaborn) (2023.4)\n",
      "Requirement already satisfied: six>=1.5 in /opt/conda/lib/python3.10/site-packages (from python-dateutil>=2.7->matplotlib!=3.6.1,>=3.4->seaborn) (1.16.0)\n",
      "Using cached seaborn-0.13.2-py3-none-any.whl (294 kB)\n",
      "Installing collected packages: seaborn\n",
      "Successfully installed seaborn-0.13.2\n",
      "Note: you may need to restart the kernel to use updated packages.\n"
     ]
    }
   ],
   "source": [
    "%pip install seaborn"
   ]
  },
  {
   "cell_type": "markdown",
   "id": "2c5d5e51-d36e-40cb-a7df-203827afbb56",
   "metadata": {
    "tags": []
   },
   "source": [
    "Plot the distribution of the length of the smaller chunks, to determine if some of them should be removed"
   ]
  },
  {
   "cell_type": "code",
   "execution_count": 40,
   "id": "c15dfc8d-7fbc-40d8-9208-a2cd26662030",
   "metadata": {
    "tags": []
   },
   "outputs": [],
   "source": [
    "import matplotlib.pyplot as plt\n",
    "import seaborn as sns\n",
    "\n",
    "\n",
    "def plot_chunks_length_distribution(chunks, bin_size=50):\n",
    "    chunk_lengths = [len(doc.page_content) for doc in chunks]\n",
    "    bin_size = 50\n",
    "    num_bins = (max(chunk_lengths) - min(chunk_lengths)) // bin_size + 1\n",
    "\n",
    "    # Display smoothed histogram using seaborn\n",
    "    sns.histplot(chunk_lengths, kde=True, bins=num_bins, edgecolor=\"black\")\n",
    "    plt.xlabel(\"Chunk Length\")\n",
    "    plt.ylabel(\"Frequency\")\n",
    "    plt.title(\"Distribution of Chunk Lengths\")\n",
    "    plt.show()"
   ]
  },
  {
   "cell_type": "code",
   "execution_count": 41,
   "id": "4493f2fd-87af-4176-8564-ffec4d0b374b",
   "metadata": {
    "tags": []
   },
   "outputs": [
    {
     "data": {
      "image/png": "[encoded data removed]",
      "text/plain": [
       "<Figure size 640x480 with 1 Axes>"
      ]
     },
     "metadata": {},
     "output_type": "display_data"
    }
   ],
   "source": [
    "plot_chunks_length_distribution(langchain_documents_text, bin_size=50)"
   ]
  },
  {
   "cell_type": "markdown",
   "id": "8402cd24-5993-44fa-b65d-ae3ca53ce4e8",
   "metadata": {},
   "source": [
    "### Chunk the Documents containing page text and tables"
   ]
  },
  {
   "cell_type": "code",
   "execution_count": 42,
   "id": "460eff03-e018-4692-86f5-9d64d484cc0b",
   "metadata": {
    "tags": []
   },
   "outputs": [
    {
     "name": "stdout",
     "output_type": "stream",
     "text": [
      "Note: you may need to restart the kernel to use updated packages.\n"
     ]
    }
   ],
   "source": [
    "%pip install tiktoken --quiet"
   ]
  },
  {
   "cell_type": "code",
   "execution_count": 43,
   "id": "1c2454dc-8228-4aa1-b201-52df780e43a2",
   "metadata": {
    "tags": []
   },
   "outputs": [],
   "source": [
    "from langchain.text_splitter import TokenTextSplitter\n",
    "\n",
    "# The chunk overlap duplicates some text across chunks to prevent context from being lost between chunks.\n",
    "# TODO: the following spliting uses tiktoken, create a custom one that use the tokenizer from anthropic.\n",
    "text_splitter = TokenTextSplitter(chunk_size=512, chunk_overlap=64)"
   ]
  },
  {
   "cell_type": "code",
   "execution_count": 44,
   "id": "e45eafc5-e907-4687-b000-2cf991aa43d5",
   "metadata": {
    "tags": []
   },
   "outputs": [],
   "source": [
    "langchain_documents_text_chunked = text_splitter.split_documents(\n",
    "    langchain_documents_text + langchain_documents_tables\n",
    ")"
   ]
  },
  {
   "cell_type": "code",
   "execution_count": 45,
   "id": "0f290d03-23ed-4be3-8ed1-f89af5a1a197",
   "metadata": {
    "tags": []
   },
   "outputs": [
    {
     "data": {
      "text/plain": [
       "190"
      ]
     },
     "execution_count": 45,
     "metadata": {},
     "output_type": "execute_result"
    }
   ],
   "source": [
    "len(langchain_documents_text_chunked)"
   ]
  },
  {
   "cell_type": "markdown",
   "id": "1e7ad0e9-708d-4e0d-b8b0-dc5862522011",
   "metadata": {},
   "source": [
    "Due to splitting of the chunks, we may have created some small chunks that are already captured in the chunk overlap.<br>\n",
    "It is recommended to have a look and estimate until which chunk length, the chunks can be removed.<br>\n",
    "The reason for this is that semantic search can occasionally favor chunks containing very little content."
   ]
  },
  {
   "cell_type": "code",
   "execution_count": 46,
   "id": "b35c5edf-ed17-4ff9-909a-7689937c5568",
   "metadata": {
    "tags": []
   },
   "outputs": [
    {
     "data": {
      "image/png": "[encoded data removed]",
      "text/plain": [
       "<Figure size 640x480 with 1 Axes>"
      ]
     },
     "metadata": {},
     "output_type": "display_data"
    }
   ],
   "source": [
    "plot_chunks_length_distribution(langchain_documents_text_chunked, bin_size=50)"
   ]
  },
  {
   "cell_type": "markdown",
   "id": "cd01045e-abff-4bfe-9603-93e31f77ce65",
   "metadata": {},
   "source": [
    "### Embed the documents and store them in a vector store"
   ]
  },
  {
   "cell_type": "markdown",
   "id": "242869f7-1628-45cd-9909-1c3777210b75",
   "metadata": {},
   "source": [
    "For the embedding model we use Amazon Titan embedding model available through Amazon Bedrock."
   ]
  },
  {
   "cell_type": "code",
   "execution_count": 47,
   "id": "30873eab-a237-4694-b767-13df5cb5123d",
   "metadata": {
    "tags": []
   },
   "outputs": [],
   "source": [
    "from langchain.embeddings import BedrockEmbeddings\n",
    "\n",
    "from langchain.llms.bedrock import Bedrock as LangchainBedrock\n",
    "\n",
    "# Define an embedding model to generate embeddings\n",
    "# TODO: request access for other embedding models\n",
    "embedding_model_id = \"amazon.titan-embed-text-v1\"\n",
    "embedding_model = BedrockEmbeddings(model_id=embedding_model_id, client=bedrock_runtime)"
   ]
  },
  {
   "cell_type": "markdown",
   "id": "f7f8aebe-703b-4692-a3ca-f3608c44fe9a",
   "metadata": {},
   "source": [
    "<div class=\"alert alert-block alert-warning\">\n",
    "Warning: The following lines of code create embedding for each document chunk and store them, this will use your embedding model for each document and incur costs.\n",
    "</div>"
   ]
  },
  {
   "cell_type": "markdown",
   "id": "79a2d594-b1b4-4ae2-bab1-2ee027178701",
   "metadata": {},
   "source": [
    "TODO - implement the following improvements to the embedding generation process:\n",
    "\n",
    "* Decorrelate embedding generation from `FAISS.from_documents`.\n",
    "* Create the embedding independently and save them on S3, then update the code to attempt to load them from S3 before calling the embedding model.\n",
    "* Create the index from the embeddings and text pair, without calling the embedding API."
   ]
  },
  {
   "cell_type": "code",
   "execution_count": 48,
   "id": "73dec29a-e893-407b-bf9b-eaf1d8950b91",
   "metadata": {
    "tags": []
   },
   "outputs": [
    {
     "data": {
      "text/plain": [
       "190"
      ]
     },
     "execution_count": 48,
     "metadata": {},
     "output_type": "execute_result"
    }
   ],
   "source": [
    "len(langchain_documents_text_chunked)"
   ]
  },
  {
   "cell_type": "markdown",
   "id": "3797b0c4",
   "metadata": {},
   "source": [
    "You may see a \"An error occurred (ResourceNotFoundException) when calling the InvokeModel operation: Could not resolve the foundation model from the provided model identifier.\" error when trying to run the following cell. If this happens then you should visit the \"Bedrock\" service in your AWS account and request for access to the models in the \"Model access\" section"
   ]
  },
  {
   "cell_type": "code",
   "execution_count": 49,
   "id": "b840e7bb-28f6-4134-a3ef-9c716017c9a6",
   "metadata": {
    "tags": []
   },
   "outputs": [
    {
     "name": "stdout",
     "output_type": "stream",
     "text": [
      "CPU times: user 755 ms, sys: 37 ms, total: 792 ms\n",
      "Wall time: 48.6 s\n"
     ]
    }
   ],
   "source": [
    "%%time\n",
    "from langchain.vectorstores import FAISS\n",
    "\n",
    "faiss = FAISS.from_documents(langchain_documents_text_chunked, embedding_model)"
   ]
  },
  {
   "cell_type": "code",
   "execution_count": 50,
   "id": "818bf2b0-4982-4f43-8535-3b421aa65693",
   "metadata": {
    "tags": []
   },
   "outputs": [],
   "source": [
    "faiss.save_local(\"faiss_vector_store\")"
   ]
  },
  {
   "cell_type": "markdown",
   "id": "188b3d58-b8ed-40d2-a8fc-954beb408741",
   "metadata": {},
   "source": [
    "### Answer questions using RAG"
   ]
  },
  {
   "cell_type": "code",
   "execution_count": 80,
   "id": "2125089c-7867-45c6-a75c-247a5a27022d",
   "metadata": {
    "tags": []
   },
   "outputs": [],
   "source": [
    "from langchain.chains import ConversationChain, LLMChain\n",
    "from langchain.memory import ConversationBufferMemory\n",
    "from langchain.prompts.prompt import PromptTemplate\n",
    "\n",
    "# Define a custom template for structured data extraction\n",
    "template = \"\"\"\\n\\nHuman:\n",
    "The following is a friendly conversation between a human and an AI assistant.\n",
    "The assistant is helpful and answers questions about documents based on extracts of those documents available within the <context></context> XML tags.\n",
    "When answering, the assistant abides by the rules defined in the <rules></rules> XML tags.\n",
    "\n",
    "The rules are below:\n",
    "<rules>\n",
    "The assistant answers the human questions accurately and concisely.\n",
    "When answering, the assistant relies on the context available in the <context></context> XML tags below.\n",
    "The assistant considers the conversation history available in the <history></history> XML tags when answering.\n",
    "If the assistant does not know the answer to a question, it truthfully says it does not know.\n",
    "The assistant answers in Markdown and puts the answer inside <response></response> XML tags.\n",
    "</rules>\n",
    "\n",
    "The retrieved document chuncks that the AI assistant uses to respond are below within the <context></context> XML tags, each document chunk is within a <document></document> XML tags:\n",
    "<context>\n",
    "{context}\n",
    "</context>\n",
    "\n",
    "Current conversation:\n",
    "<history>\n",
    "{history}\n",
    "</history>\n",
    "\n",
    "The user input to respond to is within the input XML tags below:\n",
    "<input>\n",
    "{input}\n",
    "</input>\n",
    "\\n\\nAssistant: \"\"\"\n",
    "\n",
    "PROMPT = PromptTemplate(\n",
    "    input_variables=[\"history\", \"input\", \"context\"], template=template\n",
    ")\n",
    "\n",
    "claude_llm = LangchainBedrock(\n",
    "    model_id=LLM_MODEL_ID,\n",
    "    client=bedrock_runtime,\n",
    "    model_kwargs={\"max_tokens_to_sample\": 512, \"temperature\": 0.0},\n",
    ")\n",
    "\n",
    "conversation = LLMChain(\n",
    "    llm=claude_llm,\n",
    "    memory=ConversationBufferMemory(input_key=\"input\"),\n",
    "    prompt=PROMPT,\n",
    "    verbose=True,\n",
    ")"
   ]
  },
  {
   "cell_type": "code",
   "execution_count": 81,
   "id": "436e5c30-8adc-4853-99fb-0f2607dc6d99",
   "metadata": {
    "tags": []
   },
   "outputs": [],
   "source": [
    "def combine_documents(retrieved_documents):\n",
    "    combined_documents = \"\"\n",
    "    # Add each of the extracts to the query\n",
    "    for idx, extract in enumerate(retrieved_documents):\n",
    "        combined_documents += f\"<document>{extract.page_content}</document>\\n\"\n",
    "\n",
    "    return combined_documents"
   ]
  },
  {
   "cell_type": "code",
   "execution_count": 99,
   "id": "fcd4d8a0-510f-4768-8816-427943587c06",
   "metadata": {
    "tags": []
   },
   "outputs": [
    {
     "name": "stdout",
     "output_type": "stream",
     "text": [
      "CPU times: user 4.99 ms, sys: 0 ns, total: 4.99 ms\n",
      "Wall time: 338 ms\n"
     ]
    }
   ],
   "source": [
    "%%time\n",
    "# query = \"can you tell me what was EXISTING FIS IMPROVEMENTS cost magnitude?\"\n",
    "# query = \"what about the cost of the total FY 2024 Recommended Capital Improvement Program?\"\n",
    "query = 'can you summarize the project SECURITY SCREENING CHECKPOINT EXPANSION PROJECT?'\n",
    "k = 4\n",
    "retrieved_chuncks = faiss.similarity_search(query=query, k=k)"
   ]
  },
  {
   "cell_type": "code",
   "execution_count": 100,
   "id": "feb89fd8-d6b5-458f-8148-8a4d8bbb4e6e",
   "metadata": {
    "tags": []
   },
   "outputs": [
    {
     "name": "stdout",
     "output_type": "stream",
     "text": [
      "\n",
      "\n",
      "\u001b[1m> Entering new LLMChain chain...\u001b[0m\n",
      "Prompt after formatting:\n",
      "\u001b[32;1m\u001b[1;3m\n",
      "\n",
      "Human:\n",
      "The following is a friendly conversation between a human and an AI assistant.\n",
      "The assistant is helpful and answers questions about documents based on extracts of those documents available within the <context></context> XML tags.\n",
      "When answering, the assistant abides by the rules defined in the <rules></rules> XML tags.\n",
      "\n",
      "The rules are below:\n",
      "<rules>\n",
      "The assistant answers the human questions accurately and concisely.\n",
      "When answering, the assistant relies on the context available in the <context></context> XML tags below.\n",
      "The assistant considers the conversation history available in the <history></history> XML tags when answering.\n",
      "If the assistant does not know the answer to a question, it truthfully says it does not know.\n",
      "The assistant answers in Markdown and puts the answer inside <response></response> XML tags.\n",
      "</rules>\n",
      "\n",
      "The retrieved document chuncks that the AI assistant uses to respond are below within the <context></context> XML tags, each document chunk is within a <document></document> XML tags:\n",
      "<context>\n",
      "<document>rooms in both terminals.\n",
      "Include new CCTV and Backflow Alarm System at the exit corridor in both terminals.\n",
      "The passenger security checkpoints for the existing passenger terminals at ONT experience longer than acceptable wait times\n",
      "during the peak periods and are not sufficient to meet increasing passenger volumes. The checkpoints require additional\n",
      "screening lanes to process passengers as demand levels continue to increase and to create a better experience for airport\n",
      "users. Expansion of the checkpoints will provide a total of six screening lanes at both Terminal 2 and Terminal 4. Additionally,\n",
      "the checkpoint expansion project presents an opportunity to improve the circulation corridor immediately after security\n",
      "screening.\n",
      "Duration: 1 year, 6 months\n",
      "FY 2024 Capital Project Requests\n",
      "ADDITIONAL FUNDING REQUESTS\n",
      "ADMINISTRATION OFFICE RECONFIGURATION\n",
      "SECURITY SCREENING CHECKPOINT EXPANSION PROJECT\n",
      "3-1\n",
      "JUNE 2023\n",
      "Project Summary\n",
      "</document>\n",
      "<document>ONTARIO INTERNATIONAL AIRPORT\n",
      "2.3\n",
      "2.3.1\n",
      "This project will involve various federal inspection station (FIS) improvements for the benefit of FIS employees and the\n",
      "traveling public. While the scope has not been fully defined, improvements will include updating processor areas to meet\n",
      "U.S. Customs and Border Protection (CBP) design guidelines, and industry passenger level of service (LOS) goals. OIAA will\n",
      "explore replacing the bag claim device to allow for more bag claim frontage, as well as improvements to the overall layout of\n",
      "the facility. There are a number of enhancements that are being mandated by local CBP since the timing of a new international\n",
      "arrivals facility is now extended and undetermined.\n",
      "Duration: 2 years\n",
      "Cost Magnitude: $10,000,000\n",
      "NOTE: This project would span multiple fiscal years. The full cost magnitude would not be incurred in FY 2024.\n",
      "2.3.2\n",
      "This project will replace aging LED display screens and TV display screens in the baggage claim and concourse areas of both\n",
      "passenger terminals. The average lifespan of LED displays for this use is from 4 - 7 years and these displays are over 6 years\n",
      "old. Many are showing degradation (bright circles or dark shadows) or complete loss of the display. These screens are a\n",
      "critical component of ONT's Partnership and Advertising Program which generates over $1M in revenue per year. Any\n",
      "interruption to the ability to push content to these screens would result in lost revenue for the airport.\n",
      "Duration: 3 months\n",
      "Cost Magnitude: $500,000\n",
      "2.3.3\n",
      "Offering an Enrollment Center at ONT at the FIS Facility allows OIAA to provide convenient and world-class amenities to our\n",
      "customers while utilizing the current afternoon and early evening slower periods at our International Arrivals terminal. This\n",
      "FY 2024 Capital Project Requests\n",
      "TERMINAL PROJECTS\n",
      "EXISTING FIS IMPROVEMENTS\n",
      "ADVERTISING DISPLAY REPLACMENT\n",
      "GLOBAL ENTRY ENROLLMENT CENTER\n",
      "CAN'T MISS\n",
      "SAVINGS EVENT\n",
      "45 Minutes Away\n",
      "as\n",
      "DESERT HILLS\n",
      "NATIONAL\n",
      "OUTLET\n",
      "SHOPPING\n",
      "JUNE 10-11.2023\n",
      "2-4\n",
      "Excellence in education\n",
      "research and patient care\n",
      "TOP-RATED\n",
      "OPHTHALMOLOGIST\n",
      "AND\n",
      "SPECIALIST</document>\n",
      "<document>ONTARIO INTERNATIONAL AIRPORT\n",
      "3.\n",
      "Previously Approved Projects through MII.\n",
      "3.1.1\n",
      "This request is for an additional funding allowance for the OIAA Administration Office Reconfiguration. Previously approved\n",
      "for $485,000 in the FYE 2023 capital budget, additional staff requirements, complicated phasing, and discovery of unknown\n",
      "conditions during design have driven an estimated additional $815,000 in potential cost for this project. The current total\n",
      "project cost is estimated to be $1.3 million. This project will maximize existing space in the administrative building to\n",
      "accommodate staff.\n",
      "Duration: 9 months\n",
      "Cost Magnitude: $815,000 increase for total project cost of $1.3 million.\n",
      "3.1.2\n",
      "This request is for an additional funding allowance for the Security Screening Checkpoint Expansion Project. Previously\n",
      "approved for $3,085,000 under the FYE 2023 Capital Budget, higher than expected inflation and supply chain issues in\n",
      "construction costs, unknown issues found during design, new requirements identified by TSA, an improved finish level for the\n",
      "exit corridor and the additional of advertising infrastructure to generate revenue, haves drive cost estimate increases for this\n",
      "project in the amount of $8,255,000 for a total estimated project budget of $11,340,000. The addition of advertising\n",
      "opportunities in the exit corridors is expected to generate approximately $495,000 annually.\n",
      "Add two screening lanes in Terminal 2 and an additional screening lane in Terminal 4 checkpoints by relocating the exit\n",
      "corridor.\n",
      "Relocate the TSA Manager's Station and Screening Room closer to the windows at both Terminal 2 and Terminal 4 to\n",
      "allow almost 20-feet of clear space in the circulation corridor.\n",
      "Add another screening lane at the Terminal 2 checkpoint by replacing the Manager's Station and modifying existing\n",
      "screening equipment.\n",
      "Replace document check podiums with CAT scanners for a total of 11 units at each checkpoint.\n",
      "Add to and/or adjust existing CCTV, electrical systems, communications, and lighting to accommodate new and modified\n",
      "screening lanes at both checkpoints.\n",
      "Renovate adjacent TSA breakrooms in both terminals.\n",
      "Include new CCTV and Backflow Alarm System at the exit corridor in both terminals.\n",
      "The passenger security checkpoints for the existing passenger terminals at ONT experience longer than acceptable wait times\n",
      "during the peak periods and are not sufficient to meet increasing passenger volumes. The checkpoints require additional\n",
      "screen</document>\n",
      "<document>ONTARIO INTERNATIONAL AIRPORT\n",
      "1.\n",
      "The projects requested for the FY 2024 Capital Improvement Program (CIP) at ONT are summarized in the following table. Brief project\n",
      "descriptions can be found in Section 2 of this document.\n",
      "TABLE 1: FY 2024 CAPITAL IMPROVEMENT PROGRAM PROJECTS\n",
      "Section\n",
      "2.1\n",
      "2.1.1\n",
      "2.2\n",
      "2.2.1\n",
      "2.2.2\n",
      "2.3\n",
      "2.3.1\n",
      "2.3.2\n",
      "2.3.3\n",
      "2.4\n",
      "2.4.1\n",
      "2.4.2\n",
      "2.4.3\n",
      "2.4.4\n",
      "2.5\n",
      "2.5.1\n",
      "2.6\n",
      "2.6.1\n",
      "2.7\n",
      "2.7.1\n",
      "2.8\n",
      "2.8.1\n",
      "3\n",
      "3.1.1\n",
      "3.1.2\n",
      "FY 2024 Capital Project Requests\n",
      "PROJECTS OVERVIEW\n",
      "Airside/ACIP Projects\n",
      "New Airport Beacon\n",
      "Sub-total\n",
      "Landside Projects\n",
      "Terminal 2 and 4 Curb Improvements\n",
      "Terminal 2 and 4 Curbside Signage\n",
      "Sub-total\n",
      "Terminal Projects\n",
      "Existing FIS Improvements\n",
      "Advertising Display Replacement\n",
      "Global Entry Enrollment Center\n",
      "Sub-total\n",
      "Facilities Projects\n",
      "Tenant Metering within Terminal Building\n",
      "Permanent Bus Charging Station and Parking\n",
      "Operator Offices\n",
      "Police Terminal Offices\n",
      "Terminals 2 and 4 Fire Alarm System\n",
      "Replacement\n",
      "Sub-total\n",
      "Security Projects\n",
      "South Security Airport Access Point (SSAAP)\n",
      "Sub-total\n",
      "Equipment Purchases\n",
      "OIAA Fleet Vehicles\n",
      "Sub-total\n",
      "Information Technology Projects\n",
      "Server Room Relocation\n",
      "Sub-total\n",
      "Environmental Projects\n",
      "Water Consumption Reduction\n",
      "Sub-total\n",
      "Additional Funding Requests\n",
      "Administration Office Reconfiguration\n",
      "Security Screening Checkpoint Expansion\n",
      "Project\n",
      "Sub-total\n",
      "Total FY 2024 Recommended Capital Improvement Program\n",
      "Project\n",
      "Duration\n",
      "3 months\n",
      "1 year\n",
      "1 year\n",
      "2 years\n",
      "3 months\n",
      "3 months\n",
      "6 months\n",
      "2 years\n",
      "1 year\n",
      "1 year, 6 months\n",
      "2 years\n",
      "1 month\n",
      "3 months\n",
      "2 years, 6\n",
      "months\n",
      "1 year\n",
      "1 year\n",
      "1-1\n",
      "Cost Magnitude\n",
      "(Rounded to Nearest\n",
      "1,000)\n",
      "$250,000\n",
      "$250,000\n",
      "$2</document>\n",
      "\n",
      "</context>\n",
      "\n",
      "Current conversation:\n",
      "<history>\n",
      "Human: what about the cost of the total FY 2024 Recommended Capital Improvement Program?\n",
      "AI:  <response>\n",
      "Based on the information provided in the documents, the total cost of the FY 2024 Recommended Capital Improvement Program projects is $9,299,504. This is stated in Table 1 of Document 1, which shows the cost magnitude for each project and lists the total as $9,299,504.\n",
      "</response>\n",
      "Human: can you summerize the main projects in the documets, I need the duration and cost of each project?\n",
      "AI:  <response>\n",
      "Here is a summary of the main projects mentioned in the documents, along with their durations and cost magnitudes:\n",
      "\n",
      "- New Airport Beacon (Duration: 3 months, Cost: $250,000)\n",
      "- Terminal 2 and 4 Curb Improvements (Duration: 1 year, Cost: $2,000,000)  \n",
      "- Existing FIS Improvements (Duration: 2 years, Cost: $10,000,000)\n",
      "- Advertising Display Replacement (Duration: 3 months, Cost: $500,000)\n",
      "- Global Entry Enrollment Center (Duration: 3 months, Cost: Not specified)\n",
      "- Tenant Metering within Terminal Building (Duration: 6 months, Cost: $300,000)  \n",
      "- Permanent Bus Charging Station and Parking (Duration: 2 years, Cost: $4,500,000)\n",
      "- Police Terminal Offices (Duration: 1 year, Cost: $250,000)\n",
      "- Terminals 2 and 4 Fire Alarm System Replacement (Duration: 1 month, Cost: Not specified)\n",
      "- South Security Airport Access Point (Duration: 1 year, Cost: Not specified)\n",
      "- OIAA Fleet Vehicles (Duration: 1 year, Cost: Not specified)\n",
      "- Server Room Relocation (Duration: 1 year, Cost: Not specified)\n",
      "- Water Consumption Reduction (Duration: 2.5 years, Cost: $3,250,000)\n",
      "- Administration Office Reconfiguration (Duration: Not specified, Cost: Not specified)\n",
      "- Security Screening Checkpoint Expansion (Duration: Not specified, Cost: Not specified)\n",
      "</response>\n",
      "Human: can you give me a list of projects that cost below $1,000,000?\n",
      "AI:  <response>\n",
      "Based on the summary provided, here are the projects that have a cost magnitude below $1,000,000:\n",
      "\n",
      "- New Airport Beacon (Cost: $250,000)  \n",
      "- Advertising Display Replacement (Cost: $500,000)\n",
      "- Tenant Metering within Terminal Building (Cost: $300,000)\n",
      "- Police Terminal Offices (Cost: $250,000)\n",
      "</response>\n",
      "Human: can you give me a list of projects that the cost magnitude below $1,000,000?\n",
      "AI:  <response>\n",
      "Here is a list of the projects with a cost magnitude below $1,000,000 based on the information provided in the documents:\n",
      "\n",
      "- New Airport Beacon (Cost: $250,000)\n",
      "- Advertising Display Replacement (Cost: $500,000)  \n",
      "- Tenant Metering within Terminal Building (Cost: $300,000)\n",
      "- Police Terminal Offices (Cost: $250,000)\n",
      "</response>\n",
      "</history>\n",
      "\n",
      "The user input to respond to is within the input XML tags below:\n",
      "<input>\n",
      "can you summarize the project SECURITY SCREENING CHECKPOINT EXPANSION PROJECT?\n",
      "</input>\n",
      "\n",
      "\n",
      "Assistant: \u001b[0m\n"
     ]
    },
    {
     "name": "stderr",
     "output_type": "stream",
     "text": [
      "/opt/conda/lib/python3.10/site-packages/langchain/llms/bedrock.py:50: UserWarning: Error: Prompt must alternate between '\n",
      "\n",
      "Human:' and '\n",
      "\n",
      "Assistant:'. Received \n",
      "\n",
      "Human:\n",
      "The following is a friendly conversation between a human and an AI assistant.\n",
      "The assistant is helpful and answers questions about documents based on extracts of those documents available within the <context></context> XML tags.\n",
      "When answering, the assistant abides by the rules defined in the <rules></rules> XML tags.\n",
      "\n",
      "The rules are below:\n",
      "<rules>\n",
      "The assistant answers the human questions accurately and concisely.\n",
      "When answering, the assistant relies on the context available in the <context></context> XML tags below.\n",
      "The assistant considers the conversation history available in the <history></history> XML tags when answering.\n",
      "If the assistant does not know the answer to a question, it truthfully says it does not know.\n",
      "The assistant answers in Markdown and puts the answer inside <response></response> XML tags.\n",
      "</rules>\n",
      "\n",
      "The retrieved document chuncks that the AI assistant uses to respond are below within the <context></context> XML tags, each document chunk is within a <document></document> XML tags:\n",
      "<context>\n",
      "<document>rooms in both terminals.\n",
      "Include new CCTV and Backflow Alarm System at the exit corridor in both terminals.\n",
      "The passenger security checkpoints for the existing passenger terminals at ONT experience longer than acceptable wait times\n",
      "during the peak periods and are not sufficient to meet increasing passenger volumes. The checkpoints require additional\n",
      "screening lanes to process passengers as demand levels continue to increase and to create a better experience for airport\n",
      "users. Expansion of the checkpoints will provide a total of six screening lanes at both Terminal 2 and Terminal 4. Additionally,\n",
      "the checkpoint expansion project presents an opportunity to improve the circulation corridor immediately after security\n",
      "screening.\n",
      "Duration: 1 year, 6 months\n",
      "FY 2024 Capital Project Requests\n",
      "ADDITIONAL FUNDING REQUESTS\n",
      "ADMINISTRATION OFFICE RECONFIGURATION\n",
      "SECURITY SCREENING CHECKPOINT EXPANSION PROJECT\n",
      "3-1\n",
      "JUNE 2023\n",
      "Project Summary\n",
      "</document>\n",
      "<document>ONTARIO INTERNATIONAL AIRPORT\n",
      "2.3\n",
      "2.3.1\n",
      "This project will involve various federal inspection station (FIS) improvements for the benefit of FIS employees and the\n",
      "traveling public. While the scope has not been fully defined, improvements will include updating processor areas to meet\n",
      "U.S. Customs and Border Protection (CBP) design guidelines, and industry passenger level of service (LOS) goals. OIAA will\n",
      "explore replacing the bag claim device to allow for more bag claim frontage, as well as improvements to the overall layout of\n",
      "the facility. There are a number of enhancements that are being mandated by local CBP since the timing of a new international\n",
      "arrivals facility is now extended and undetermined.\n",
      "Duration: 2 years\n",
      "Cost Magnitude: $10,000,000\n",
      "NOTE: This project would span multiple fiscal years. The full cost magnitude would not be incurred in FY 2024.\n",
      "2.3.2\n",
      "This project will replace aging LED display screens and TV display screens in the baggage claim and concourse areas of both\n",
      "passenger terminals. The average lifespan of LED displays for this use is from 4 - 7 years and these displays are over 6 years\n",
      "old. Many are showing degradation (bright circles or dark shadows) or complete loss of the display. These screens are a\n",
      "critical component of ONT's Partnership and Advertising Program which generates over $1M in revenue per year. Any\n",
      "interruption to the ability to push content to these screens would result in lost revenue for the airport.\n",
      "Duration: 3 months\n",
      "Cost Magnitude: $500,000\n",
      "2.3.3\n",
      "Offering an Enrollment Center at ONT at the FIS Facility allows OIAA to provide convenient and world-class amenities to our\n",
      "customers while utilizing the current afternoon and early evening slower periods at our International Arrivals terminal. This\n",
      "FY 2024 Capital Project Requests\n",
      "TERMINAL PROJECTS\n",
      "EXISTING FIS IMPROVEMENTS\n",
      "ADVERTISING DISPLAY REPLACMENT\n",
      "GLOBAL ENTRY ENROLLMENT CENTER\n",
      "CAN'T MISS\n",
      "SAVINGS EVENT\n",
      "45 Minutes Away\n",
      "as\n",
      "DESERT HILLS\n",
      "NATIONAL\n",
      "OUTLET\n",
      "SHOPPING\n",
      "JUNE 10-11.2023\n",
      "2-4\n",
      "Excellence in education\n",
      "research and patient care\n",
      "TOP-RATED\n",
      "OPHTHALMOLOGIST\n",
      "AND\n",
      "SPECIALIST</document>\n",
      "<document>ONTARIO INTERNATIONAL AIRPORT\n",
      "3.\n",
      "Previously Approved Projects through MII.\n",
      "3.1.1\n",
      "This request is for an additional funding allowance for the OIAA Administration Office Reconfiguration. Previously approved\n",
      "for $485,000 in the FYE 2023 capital budget, additional staff requirements, complicated phasing, and discovery of unknown\n",
      "conditions during design have driven an estimated additional $815,000 in potential cost for this project. The current total\n",
      "project cost is estimated to be $1.3 million. This project will maximize existing space in the administrative building to\n",
      "accommodate staff.\n",
      "Duration: 9 months\n",
      "Cost Magnitude: $815,000 increase for total project cost of $1.3 million.\n",
      "3.1.2\n",
      "This request is for an additional funding allowance for the Security Screening Checkpoint Expansion Project. Previously\n",
      "approved for $3,085,000 under the FYE 2023 Capital Budget, higher than expected inflation and supply chain issues in\n",
      "construction costs, unknown issues found during design, new requirements identified by TSA, an improved finish level for the\n",
      "exit corridor and the additional of advertising infrastructure to generate revenue, haves drive cost estimate increases for this\n",
      "project in the amount of $8,255,000 for a total estimated project budget of $11,340,000. The addition of advertising\n",
      "opportunities in the exit corridors is expected to generate approximately $495,000 annually.\n",
      "Add two screening lanes in Terminal 2 and an additional screening lane in Terminal 4 checkpoints by relocating the exit\n",
      "corridor.\n",
      "Relocate the TSA Manager's Station and Screening Room closer to the windows at both Terminal 2 and Terminal 4 to\n",
      "allow almost 20-feet of clear space in the circulation corridor.\n",
      "Add another screening lane at the Terminal 2 checkpoint by replacing the Manager's Station and modifying existing\n",
      "screening equipment.\n",
      "Replace document check podiums with CAT scanners for a total of 11 units at each checkpoint.\n",
      "Add to and/or adjust existing CCTV, electrical systems, communications, and lighting to accommodate new and modified\n",
      "screening lanes at both checkpoints.\n",
      "Renovate adjacent TSA breakrooms in both terminals.\n",
      "Include new CCTV and Backflow Alarm System at the exit corridor in both terminals.\n",
      "The passenger security checkpoints for the existing passenger terminals at ONT experience longer than acceptable wait times\n",
      "during the peak periods and are not sufficient to meet increasing passenger volumes. The checkpoints require additional\n",
      "screen</document>\n",
      "<document>ONTARIO INTERNATIONAL AIRPORT\n",
      "1.\n",
      "The projects requested for the FY 2024 Capital Improvement Program (CIP) at ONT are summarized in the following table. Brief project\n",
      "descriptions can be found in Section 2 of this document.\n",
      "TABLE 1: FY 2024 CAPITAL IMPROVEMENT PROGRAM PROJECTS\n",
      "Section\n",
      "2.1\n",
      "2.1.1\n",
      "2.2\n",
      "2.2.1\n",
      "2.2.2\n",
      "2.3\n",
      "2.3.1\n",
      "2.3.2\n",
      "2.3.3\n",
      "2.4\n",
      "2.4.1\n",
      "2.4.2\n",
      "2.4.3\n",
      "2.4.4\n",
      "2.5\n",
      "2.5.1\n",
      "2.6\n",
      "2.6.1\n",
      "2.7\n",
      "2.7.1\n",
      "2.8\n",
      "2.8.1\n",
      "3\n",
      "3.1.1\n",
      "3.1.2\n",
      "FY 2024 Capital Project Requests\n",
      "PROJECTS OVERVIEW\n",
      "Airside/ACIP Projects\n",
      "New Airport Beacon\n",
      "Sub-total\n",
      "Landside Projects\n",
      "Terminal 2 and 4 Curb Improvements\n",
      "Terminal 2 and 4 Curbside Signage\n",
      "Sub-total\n",
      "Terminal Projects\n",
      "Existing FIS Improvements\n",
      "Advertising Display Replacement\n",
      "Global Entry Enrollment Center\n",
      "Sub-total\n",
      "Facilities Projects\n",
      "Tenant Metering within Terminal Building\n",
      "Permanent Bus Charging Station and Parking\n",
      "Operator Offices\n",
      "Police Terminal Offices\n",
      "Terminals 2 and 4 Fire Alarm System\n",
      "Replacement\n",
      "Sub-total\n",
      "Security Projects\n",
      "South Security Airport Access Point (SSAAP)\n",
      "Sub-total\n",
      "Equipment Purchases\n",
      "OIAA Fleet Vehicles\n",
      "Sub-total\n",
      "Information Technology Projects\n",
      "Server Room Relocation\n",
      "Sub-total\n",
      "Environmental Projects\n",
      "Water Consumption Reduction\n",
      "Sub-total\n",
      "Additional Funding Requests\n",
      "Administration Office Reconfiguration\n",
      "Security Screening Checkpoint Expansion\n",
      "Project\n",
      "Sub-total\n",
      "Total FY 2024 Recommended Capital Improvement Program\n",
      "Project\n",
      "Duration\n",
      "3 months\n",
      "1 year\n",
      "1 year\n",
      "2 years\n",
      "3 months\n",
      "3 months\n",
      "6 months\n",
      "2 years\n",
      "1 year\n",
      "1 year, 6 months\n",
      "2 years\n",
      "1 month\n",
      "3 months\n",
      "2 years, 6\n",
      "months\n",
      "1 year\n",
      "1 year\n",
      "1-1\n",
      "Cost Magnitude\n",
      "(Rounded to Nearest\n",
      "1,000)\n",
      "$250,000\n",
      "$250,000\n",
      "$2</document>\n",
      "\n",
      "</context>\n",
      "\n",
      "Current conversation:\n",
      "<history>\n",
      "\n",
      "Human: what about the cost of the total FY 2024 Recommended Capital Improvement Program?\n",
      "AI:  <response>\n",
      "Based on the information provided in the documents, the total cost of the FY 2024 Recommended Capital Improvement Program projects is $9,299,504. This is stated in Table 1 of Document 1, which shows the cost magnitude for each project and lists the total as $9,299,504.\n",
      "</response>\n",
      "\n",
      "Human: can you summerize the main projects in the documets, I need the duration and cost of each project?\n",
      "AI:  <response>\n",
      "Here is a summary of the main projects mentioned in the documents, along with their durations and cost magnitudes:\n",
      "\n",
      "- New Airport Beacon (Duration: 3 months, Cost: $250,000)\n",
      "- Terminal 2 and 4 Curb Improvements (Duration: 1 year, Cost: $2,000,000)  \n",
      "- Existing FIS Improvements (Duration: 2 years, Cost: $10,000,000)\n",
      "- Advertising Display Replacement (Duration: 3 months, Cost: $500,000)\n",
      "- Global Entry Enrollment Center (Duration: 3 months, Cost: Not specified)\n",
      "- Tenant Metering within Terminal Building (Duration: 6 months, Cost: $300,000)  \n",
      "- Permanent Bus Charging Station and Parking (Duration: 2 years, Cost: $4,500,000)\n",
      "- Police Terminal Offices (Duration: 1 year, Cost: $250,000)\n",
      "- Terminals 2 and 4 Fire Alarm System Replacement (Duration: 1 month, Cost: Not specified)\n",
      "- South Security Airport Access Point (Duration: 1 year, Cost: Not specified)\n",
      "- OIAA Fleet Vehicles (Duration: 1 year, Cost: Not specified)\n",
      "- Server Room Relocation (Duration: 1 year, Cost: Not specified)\n",
      "- Water Consumption Reduction (Duration: 2.5 years, Cost: $3,250,000)\n",
      "- Administration Office Reconfiguration (Duration: Not specified, Cost: Not specified)\n",
      "- Security Screening Checkpoint Expansion (Duration: Not specified, Cost: Not specified)\n",
      "</response>\n",
      "\n",
      "Human: can you give me a list of projects that cost below $1,000,000?\n",
      "AI:  <response>\n",
      "Based on the summary provided, here are the projects that have a cost magnitude below $1,000,000:\n",
      "\n",
      "- New Airport Beacon (Cost: $250,000)  \n",
      "- Advertising Display Replacement (Cost: $500,000)\n",
      "- Tenant Metering within Terminal Building (Cost: $300,000)\n",
      "- Police Terminal Offices (Cost: $250,000)\n",
      "</response>\n",
      "\n",
      "Human: can you give me a list of projects that the cost magnitude below $1,000,000?\n",
      "AI:  <response>\n",
      "Here is a list of the projects with a cost magnitude below $1,000,000 based on the information provided in the documents:\n",
      "\n",
      "- New Airport Beacon (Cost: $250,000)\n",
      "- Advertising Display Replacement (Cost: $500,000)  \n",
      "- Tenant Metering within Terminal Building (Cost: $300,000)\n",
      "- Police Terminal Offices (Cost: $250,000)\n",
      "</response>\n",
      "</history>\n",
      "\n",
      "The user input to respond to is within the input XML tags below:\n",
      "<input>\n",
      "can you summarize the project SECURITY SCREENING CHECKPOINT EXPANSION PROJECT?\n",
      "</input>\n",
      "\n",
      "\n",
      "Assistant: \n",
      "  warnings.warn(ALTERNATION_ERROR + f\" Received {input_text}\")\n"
     ]
    },
    {
     "name": "stdout",
     "output_type": "stream",
     "text": [
      "\n",
      "\u001b[1m> Finished chain.\u001b[0m\n",
      "CPU times: user 13.5 ms, sys: 232 µs, total: 13.7 ms\n",
      "Wall time: 13.3 s\n"
     ]
    }
   ],
   "source": [
    "%%time\n",
    "response = conversation.predict(\n",
    "    input=query, context=combine_documents(retrieved_chuncks)\n",
    ")"
   ]
  },
  {
   "cell_type": "code",
   "execution_count": 101,
   "id": "5f14de68-5bda-40ee-854f-c324dab6ab6c",
   "metadata": {
    "tags": []
   },
   "outputs": [],
   "source": [
    "response = response.strip().strip(\"<response>\").strip(\"</response>\").strip()"
   ]
  },
  {
   "cell_type": "code",
   "execution_count": 102,
   "id": "7515cab0-c4b5-41f7-b00d-a23717b26271",
   "metadata": {},
   "outputs": [
    {
     "name": "stdout",
     "output_type": "stream",
     "text": [
      "Based on the information provided in Document 1, here is a summary of the Security Screening Checkpoint Expansion Project:\n",
      "\n",
      "- Duration: Not specified\n",
      "- Previously approved for $3,085,000 in FY2023 capital budget\n",
      "- Additional funding request of $8,255,000 made for a total estimated project budget of $11,340,000\n",
      "- Scope includes adding screening lanes at Terminal 2 and 4 checkpoints by relocating exit corridors\n",
      "- Also includes relocating manager's stations, adding CAT scanners, CCTV and other systems, renovating breakrooms, and adding advertising infrastructure in exit corridors to generate revenue\n",
      "- Project aims to reduce wait times at security checkpoints and accommodate increasing passenger volumes\n"
     ]
    }
   ],
   "source": [
    "print(response)"
   ]
  },
  {
   "cell_type": "code",
   "execution_count": 89,
   "id": "dc849ee7-54fa-498d-85b8-e7549eb9459c",
   "metadata": {
    "tags": []
   },
   "outputs": [
    {
     "data": {
      "text/markdown": [
       "Here is a summary of the main projects mentioned in the documents, along with their durations and cost magnitudes:\n",
       "\n",
       "- New Airport Beacon (Duration: 3 months, Cost: $250,000)\n",
       "- Terminal 2 and 4 Curb Improvements (Duration: 1 year, Cost: $2,000,000)  \n",
       "- Existing FIS Improvements (Duration: 2 years, Cost: $10,000,000)\n",
       "- Advertising Display Replacement (Duration: 3 months, Cost: $500,000)\n",
       "- Global Entry Enrollment Center (Duration: 3 months, Cost: Not specified)\n",
       "- Tenant Metering within Terminal Building (Duration: 6 months, Cost: $300,000)  \n",
       "- Permanent Bus Charging Station and Parking (Duration: 2 years, Cost: $4,500,000)\n",
       "- Police Terminal Offices (Duration: 1 year, Cost: $250,000)\n",
       "- Terminals 2 and 4 Fire Alarm System Replacement (Duration: 1 month, Cost: Not specified)\n",
       "- South Security Airport Access Point (Duration: 1 year, Cost: Not specified)\n",
       "- OIAA Fleet Vehicles (Duration: 1 year, Cost: Not specified)\n",
       "- Server Room Relocation (Duration: 1 year, Cost: Not specified)\n",
       "- Water Consumption Reduction (Duration: 2.5 years, Cost: $3,250,000)\n",
       "- Administration Office Reconfiguration (Duration: Not specified, Cost: Not specified)\n",
       "- Security Screening Checkpoint Expansion (Duration: Not specified, Cost: Not specified)"
      ],
      "text/plain": [
       "<IPython.core.display.Markdown object>"
      ]
     },
     "metadata": {},
     "output_type": "display_data"
    }
   ],
   "source": [
    "from IPython.display import display, Markdown\n",
    "\n",
    "display(Markdown(response))"
   ]
  },
  {
   "cell_type": "markdown",
   "id": "7b5f66e8-4d1c-4785-80d4-3c6824873a3a",
   "metadata": {
    "tags": []
   },
   "source": [
    "## Upload semantic search index to S3"
   ]
  },
  {
   "cell_type": "code",
   "execution_count": null,
   "id": "40f213cc-b612-47ef-a07f-2b1e5863ef23",
   "metadata": {
    "tags": []
   },
   "outputs": [],
   "source": [
    "!aws s3 sync ./faiss_vector_store s3://{S3_BUCKET_NAME}/semantic_search_index/faiss_vector_store/"
   ]
  }
 ],
 "metadata": {
  "availableInstances": [
   {
    "_defaultOrder": 0,
    "_isFastLaunch": true,
    "category": "General purpose",
    "gpuNum": 0,
    "hideHardwareSpecs": false,
    "memoryGiB": 4,
    "name": "ml.t3.medium",
    "vcpuNum": 2
   },
   {
    "_defaultOrder": 1,
    "_isFastLaunch": false,
    "category": "General purpose",
    "gpuNum": 0,
    "hideHardwareSpecs": false,
    "memoryGiB": 8,
    "name": "ml.t3.large",
    "vcpuNum": 2
   },
   {
    "_defaultOrder": 2,
    "_isFastLaunch": false,
    "category": "General purpose",
    "gpuNum": 0,
    "hideHardwareSpecs": false,
    "memoryGiB": 16,
    "name": "ml.t3.xlarge",
    "vcpuNum": 4
   },
   {
    "_defaultOrder": 3,
    "_isFastLaunch": false,
    "category": "General purpose",
    "gpuNum": 0,
    "hideHardwareSpecs": false,
    "memoryGiB": 32,
    "name": "ml.t3.2xlarge",
    "vcpuNum": 8
   },
   {
    "_defaultOrder": 4,
    "_isFastLaunch": true,
    "category": "General purpose",
    "gpuNum": 0,
    "hideHardwareSpecs": false,
    "memoryGiB": 8,
    "name": "ml.m5.large",
    "vcpuNum": 2
   },
   {
    "_defaultOrder": 5,
    "_isFastLaunch": false,
    "category": "General purpose",
    "gpuNum": 0,
    "hideHardwareSpecs": false,
    "memoryGiB": 16,
    "name": "ml.m5.xlarge",
    "vcpuNum": 4
   },
   {
    "_defaultOrder": 6,
    "_isFastLaunch": false,
    "category": "General purpose",
    "gpuNum": 0,
    "hideHardwareSpecs": false,
    "memoryGiB": 32,
    "name": "ml.m5.2xlarge",
    "vcpuNum": 8
   },
   {
    "_defaultOrder": 7,
    "_isFastLaunch": false,
    "category": "General purpose",
    "gpuNum": 0,
    "hideHardwareSpecs": false,
    "memoryGiB": 64,
    "name": "ml.m5.4xlarge",
    "vcpuNum": 16
   },
   {
    "_defaultOrder": 8,
    "_isFastLaunch": false,
    "category": "General purpose",
    "gpuNum": 0,
    "hideHardwareSpecs": false,
    "memoryGiB": 128,
    "name": "ml.m5.8xlarge",
    "vcpuNum": 32
   },
   {
    "_defaultOrder": 9,
    "_isFastLaunch": false,
    "category": "General purpose",
    "gpuNum": 0,
    "hideHardwareSpecs": false,
    "memoryGiB": 192,
    "name": "ml.m5.12xlarge",
    "vcpuNum": 48
   },
   {
    "_defaultOrder": 10,
    "_isFastLaunch": false,
    "category": "General purpose",
    "gpuNum": 0,
    "hideHardwareSpecs": false,
    "memoryGiB": 256,
    "name": "ml.m5.16xlarge",
    "vcpuNum": 64
   },
   {
    "_defaultOrder": 11,
    "_isFastLaunch": false,
    "category": "General purpose",
    "gpuNum": 0,
    "hideHardwareSpecs": false,
    "memoryGiB": 384,
    "name": "ml.m5.24xlarge",
    "vcpuNum": 96
   },
   {
    "_defaultOrder": 12,
    "_isFastLaunch": false,
    "category": "General purpose",
    "gpuNum": 0,
    "hideHardwareSpecs": false,
    "memoryGiB": 8,
    "name": "ml.m5d.large",
    "vcpuNum": 2
   },
   {
    "_defaultOrder": 13,
    "_isFastLaunch": false,
    "category": "General purpose",
    "gpuNum": 0,
    "hideHardwareSpecs": false,
    "memoryGiB": 16,
    "name": "ml.m5d.xlarge",
    "vcpuNum": 4
   },
   {
    "_defaultOrder": 14,
    "_isFastLaunch": false,
    "category": "General purpose",
    "gpuNum": 0,
    "hideHardwareSpecs": false,
    "memoryGiB": 32,
    "name": "ml.m5d.2xlarge",
    "vcpuNum": 8
   },
   {
    "_defaultOrder": 15,
    "_isFastLaunch": false,
    "category": "General purpose",
    "gpuNum": 0,
    "hideHardwareSpecs": false,
    "memoryGiB": 64,
    "name": "ml.m5d.4xlarge",
    "vcpuNum": 16
   },
   {
    "_defaultOrder": 16,
    "_isFastLaunch": false,
    "category": "General purpose",
    "gpuNum": 0,
    "hideHardwareSpecs": false,
    "memoryGiB": 128,
    "name": "ml.m5d.8xlarge",
    "vcpuNum": 32
   },
   {
    "_defaultOrder": 17,
    "_isFastLaunch": false,
    "category": "General purpose",
    "gpuNum": 0,
    "hideHardwareSpecs": false,
    "memoryGiB": 192,
    "name": "ml.m5d.12xlarge",
    "vcpuNum": 48
   },
   {
    "_defaultOrder": 18,
    "_isFastLaunch": false,
    "category": "General purpose",
    "gpuNum": 0,
    "hideHardwareSpecs": false,
    "memoryGiB": 256,
    "name": "ml.m5d.16xlarge",
    "vcpuNum": 64
   },
   {
    "_defaultOrder": 19,
    "_isFastLaunch": false,
    "category": "General purpose",
    "gpuNum": 0,
    "hideHardwareSpecs": false,
    "memoryGiB": 384,
    "name": "ml.m5d.24xlarge",
    "vcpuNum": 96
   },
   {
    "_defaultOrder": 20,
    "_isFastLaunch": false,
    "category": "General purpose",
    "gpuNum": 0,
    "hideHardwareSpecs": true,
    "memoryGiB": 0,
    "name": "ml.geospatial.interactive",
    "supportedImageNames": [
     "sagemaker-geospatial-v1-0"
    ],
    "vcpuNum": 0
   },
   {
    "_defaultOrder": 21,
    "_isFastLaunch": true,
    "category": "Compute optimized",
    "gpuNum": 0,
    "hideHardwareSpecs": false,
    "memoryGiB": 4,
    "name": "ml.c5.large",
    "vcpuNum": 2
   },
   {
    "_defaultOrder": 22,
    "_isFastLaunch": false,
    "category": "Compute optimized",
    "gpuNum": 0,
    "hideHardwareSpecs": false,
    "memoryGiB": 8,
    "name": "ml.c5.xlarge",
    "vcpuNum": 4
   },
   {
    "_defaultOrder": 23,
    "_isFastLaunch": false,
    "category": "Compute optimized",
    "gpuNum": 0,
    "hideHardwareSpecs": false,
    "memoryGiB": 16,
    "name": "ml.c5.2xlarge",
    "vcpuNum": 8
   },
   {
    "_defaultOrder": 24,
    "_isFastLaunch": false,
    "category": "Compute optimized",
    "gpuNum": 0,
    "hideHardwareSpecs": false,
    "memoryGiB": 32,
    "name": "ml.c5.4xlarge",
    "vcpuNum": 16
   },
   {
    "_defaultOrder": 25,
    "_isFastLaunch": false,
    "category": "Compute optimized",
    "gpuNum": 0,
    "hideHardwareSpecs": false,
    "memoryGiB": 72,
    "name": "ml.c5.9xlarge",
    "vcpuNum": 36
   },
   {
    "_defaultOrder": 26,
    "_isFastLaunch": false,
    "category": "Compute optimized",
    "gpuNum": 0,
    "hideHardwareSpecs": false,
    "memoryGiB": 96,
    "name": "ml.c5.12xlarge",
    "vcpuNum": 48
   },
   {
    "_defaultOrder": 27,
    "_isFastLaunch": false,
    "category": "Compute optimized",
    "gpuNum": 0,
    "hideHardwareSpecs": false,
    "memoryGiB": 144,
    "name": "ml.c5.18xlarge",
    "vcpuNum": 72
   },
   {
    "_defaultOrder": 28,
    "_isFastLaunch": false,
    "category": "Compute optimized",
    "gpuNum": 0,
    "hideHardwareSpecs": false,
    "memoryGiB": 192,
    "name": "ml.c5.24xlarge",
    "vcpuNum": 96
   },
   {
    "_defaultOrder": 29,
    "_isFastLaunch": true,
    "category": "Accelerated computing",
    "gpuNum": 1,
    "hideHardwareSpecs": false,
    "memoryGiB": 16,
    "name": "ml.g4dn.xlarge",
    "vcpuNum": 4
   },
   {
    "_defaultOrder": 30,
    "_isFastLaunch": false,
    "category": "Accelerated computing",
    "gpuNum": 1,
    "hideHardwareSpecs": false,
    "memoryGiB": 32,
    "name": "ml.g4dn.2xlarge",
    "vcpuNum": 8
   },
   {
    "_defaultOrder": 31,
    "_isFastLaunch": false,
    "category": "Accelerated computing",
    "gpuNum": 1,
    "hideHardwareSpecs": false,
    "memoryGiB": 64,
    "name": "ml.g4dn.4xlarge",
    "vcpuNum": 16
   },
   {
    "_defaultOrder": 32,
    "_isFastLaunch": false,
    "category": "Accelerated computing",
    "gpuNum": 1,
    "hideHardwareSpecs": false,
    "memoryGiB": 128,
    "name": "ml.g4dn.8xlarge",
    "vcpuNum": 32
   },
   {
    "_defaultOrder": 33,
    "_isFastLaunch": false,
    "category": "Accelerated computing",
    "gpuNum": 4,
    "hideHardwareSpecs": false,
    "memoryGiB": 192,
    "name": "ml.g4dn.12xlarge",
    "vcpuNum": 48
   },
   {
    "_defaultOrder": 34,
    "_isFastLaunch": false,
    "category": "Accelerated computing",
    "gpuNum": 1,
    "hideHardwareSpecs": false,
    "memoryGiB": 256,
    "name": "ml.g4dn.16xlarge",
    "vcpuNum": 64
   },
   {
    "_defaultOrder": 35,
    "_isFastLaunch": false,
    "category": "Accelerated computing",
    "gpuNum": 1,
    "hideHardwareSpecs": false,
    "memoryGiB": 61,
    "name": "ml.p3.2xlarge",
    "vcpuNum": 8
   },
   {
    "_defaultOrder": 36,
    "_isFastLaunch": false,
    "category": "Accelerated computing",
    "gpuNum": 4,
    "hideHardwareSpecs": false,
    "memoryGiB": 244,
    "name": "ml.p3.8xlarge",
    "vcpuNum": 32
   },
   {
    "_defaultOrder": 37,
    "_isFastLaunch": false,
    "category": "Accelerated computing",
    "gpuNum": 8,
    "hideHardwareSpecs": false,
    "memoryGiB": 488,
    "name": "ml.p3.16xlarge",
    "vcpuNum": 64
   },
   {
    "_defaultOrder": 38,
    "_isFastLaunch": false,
    "category": "Accelerated computing",
    "gpuNum": 8,
    "hideHardwareSpecs": false,
    "memoryGiB": 768,
    "name": "ml.p3dn.24xlarge",
    "vcpuNum": 96
   },
   {
    "_defaultOrder": 39,
    "_isFastLaunch": false,
    "category": "Memory Optimized",
    "gpuNum": 0,
    "hideHardwareSpecs": false,
    "memoryGiB": 16,
    "name": "ml.r5.large",
    "vcpuNum": 2
   },
   {
    "_defaultOrder": 40,
    "_isFastLaunch": false,
    "category": "Memory Optimized",
    "gpuNum": 0,
    "hideHardwareSpecs": false,
    "memoryGiB": 32,
    "name": "ml.r5.xlarge",
    "vcpuNum": 4
   },
   {
    "_defaultOrder": 41,
    "_isFastLaunch": false,
    "category": "Memory Optimized",
    "gpuNum": 0,
    "hideHardwareSpecs": false,
    "memoryGiB": 64,
    "name": "ml.r5.2xlarge",
    "vcpuNum": 8
   },
   {
    "_defaultOrder": 42,
    "_isFastLaunch": false,
    "category": "Memory Optimized",
    "gpuNum": 0,
    "hideHardwareSpecs": false,
    "memoryGiB": 128,
    "name": "ml.r5.4xlarge",
    "vcpuNum": 16
   },
   {
    "_defaultOrder": 43,
    "_isFastLaunch": false,
    "category": "Memory Optimized",
    "gpuNum": 0,
    "hideHardwareSpecs": false,
    "memoryGiB": 256,
    "name": "ml.r5.8xlarge",
    "vcpuNum": 32
   },
   {
    "_defaultOrder": 44,
    "_isFastLaunch": false,
    "category": "Memory Optimized",
    "gpuNum": 0,
    "hideHardwareSpecs": false,
    "memoryGiB": 384,
    "name": "ml.r5.12xlarge",
    "vcpuNum": 48
   },
   {
    "_defaultOrder": 45,
    "_isFastLaunch": false,
    "category": "Memory Optimized",
    "gpuNum": 0,
    "hideHardwareSpecs": false,
    "memoryGiB": 512,
    "name": "ml.r5.16xlarge",
    "vcpuNum": 64
   },
   {
    "_defaultOrder": 46,
    "_isFastLaunch": false,
    "category": "Memory Optimized",
    "gpuNum": 0,
    "hideHardwareSpecs": false,
    "memoryGiB": 768,
    "name": "ml.r5.24xlarge",
    "vcpuNum": 96
   },
   {
    "_defaultOrder": 47,
    "_isFastLaunch": false,
    "category": "Accelerated computing",
    "gpuNum": 1,
    "hideHardwareSpecs": false,
    "memoryGiB": 16,
    "name": "ml.g5.xlarge",
    "vcpuNum": 4
   },
   {
    "_defaultOrder": 48,
    "_isFastLaunch": false,
    "category": "Accelerated computing",
    "gpuNum": 1,
    "hideHardwareSpecs": false,
    "memoryGiB": 32,
    "name": "ml.g5.2xlarge",
    "vcpuNum": 8
   },
   {
    "_defaultOrder": 49,
    "_isFastLaunch": false,
    "category": "Accelerated computing",
    "gpuNum": 1,
    "hideHardwareSpecs": false,
    "memoryGiB": 64,
    "name": "ml.g5.4xlarge",
    "vcpuNum": 16
   },
   {
    "_defaultOrder": 50,
    "_isFastLaunch": false,
    "category": "Accelerated computing",
    "gpuNum": 1,
    "hideHardwareSpecs": false,
    "memoryGiB": 128,
    "name": "ml.g5.8xlarge",
    "vcpuNum": 32
   },
   {
    "_defaultOrder": 51,
    "_isFastLaunch": false,
    "category": "Accelerated computing",
    "gpuNum": 1,
    "hideHardwareSpecs": false,
    "memoryGiB": 256,
    "name": "ml.g5.16xlarge",
    "vcpuNum": 64
   },
   {
    "_defaultOrder": 52,
    "_isFastLaunch": false,
    "category": "Accelerated computing",
    "gpuNum": 4,
    "hideHardwareSpecs": false,
    "memoryGiB": 192,
    "name": "ml.g5.12xlarge",
    "vcpuNum": 48
   },
   {
    "_defaultOrder": 53,
    "_isFastLaunch": false,
    "category": "Accelerated computing",
    "gpuNum": 4,
    "hideHardwareSpecs": false,
    "memoryGiB": 384,
    "name": "ml.g5.24xlarge",
    "vcpuNum": 96
   },
   {
    "_defaultOrder": 54,
    "_isFastLaunch": false,
    "category": "Accelerated computing",
    "gpuNum": 8,
    "hideHardwareSpecs": false,
    "memoryGiB": 768,
    "name": "ml.g5.48xlarge",
    "vcpuNum": 192
   },
   {
    "_defaultOrder": 55,
    "_isFastLaunch": false,
    "category": "Accelerated computing",
    "gpuNum": 8,
    "hideHardwareSpecs": false,
    "memoryGiB": 1152,
    "name": "ml.p4d.24xlarge",
    "vcpuNum": 96
   },
   {
    "_defaultOrder": 56,
    "_isFastLaunch": false,
    "category": "Accelerated computing",
    "gpuNum": 8,
    "hideHardwareSpecs": false,
    "memoryGiB": 1152,
    "name": "ml.p4de.24xlarge",
    "vcpuNum": 96
   }
  ],
  "instance_type": "ml.t3.medium",
  "kernelspec": {
   "display_name": "Python 3 (ipykernel)",
   "language": "python",
   "name": "python3"
  },
  "language_info": {
   "codemirror_mode": {
    "name": "ipython",
    "version": 3
   },
   "file_extension": ".py",
   "mimetype": "text/x-python",
   "name": "python",
   "nbconvert_exporter": "python",
   "pygments_lexer": "ipython3",
   "version": "3.10.13"
  }
 },
 "nbformat": 4,
 "nbformat_minor": 5
}
